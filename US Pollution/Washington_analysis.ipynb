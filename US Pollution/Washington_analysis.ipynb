{
 "cells": [
  {
   "cell_type": "markdown",
   "metadata": {},
   "source": [
    "# Greenhouse Gases Pollution and Temperature Analysis for Washington\n",
    "\n",
    "                                                                            -Maitrey Talware (mt3915)\n",
    "\n",
    "                                                                            "
   ]
  },
  {
   "cell_type": "markdown",
   "metadata": {},
   "source": [
    "  **-------------------------------------------------------------------------------------------------------------------------------------------------------------------------**"
   ]
  },
  {
   "cell_type": "markdown",
   "metadata": {},
   "source": [
    "# Table of contents\n",
    "\n",
    "<div class=\"alert alert-block alert-info\" style=\"margin-top: 20px\">\n",
    "    <ol>\n",
    "        <li><a href=\"#ref1\">Introduction </a></li>\n",
    "        <li><a href=\"#ref2\">Data Importing and Cleaning</a></li>\n",
    "        <ul>\n",
    "         <li><a href=\"#ref3\">2.1 Importing Greenhouse Pollution Datset</a></li>\n",
    "            <ul>\n",
    "                <li><a href=\"#ref4\">Data Transformation</a></li>\n",
    "            </ul>\n",
    "        <li><a href=\"#ref4\">2.2 Importing Temperature Dataset</a></li>\n",
    "        </ul>\n",
    "        <li><a href=\"#ref5\">Combining both the Dataset</a></li>\n",
    "        <li><a href=\"#ref5\">Exploratory Data Analysis</a></li>\n",
    "            <ul>\n",
    "                <li><a href=\"#ref6\">4.1 Descriptive Statistics</a></li>\n",
    "                <li><a href=\"#ref6\">4.2 Line Plots</a></li>\n",
    "       <li><a href=\"#ref6\">4.3 Correlation heatmap</a></li>\n",
    "        </ul>\n",
    "        <li><a href=\"#ref7\">Model /Methodology</a></li>\n",
    "                    <ul>\n",
    "                <li><a href=\"#ref6\">5.1 Train - Test Split</a></li>\n",
    "                <li><a href=\"#ref6\">5.2 Data transformed to stationary</a></li>\n",
    "                <li><a href=\"#ref6\">5.3 Stationary Check</a></li>\n",
    "       <li><a href=\"#ref6\">5.4 Granger's Causality Test</a></li>\n",
    "                  <li><a href=\"#ref6\">5.5 Vector Auto Regressive Model Building</a></li>\n",
    "                  <li><a href=\"#ref6\">5.6 Prediction on test set</a></li>\n",
    "                  <li><a href=\"#ref6\">5.7 Model Evaluation</a></li>\n",
    "        </ul>\n",
    "        <li><a href=\"#ref7\">Forecasting</a></li>\n",
    "                    <ul>\n",
    "                <li><a href=\"#ref6\">6.1 Forecasting based on VAR model</a></li>\n",
    "                <li><a href=\"#ref6\">6.2 Forecasting Individually</a></li>\n",
    "        </ul>\n",
    "        <li><a href=\"#ref8\">Result section</a></li>\n",
    "        <li><a href=\"#ref9\">Conclusion section</a></li>\n",
    "    </ol>\n",
    "</div>\n",
    "<br>"
   ]
  },
  {
   "cell_type": "markdown",
   "metadata": {},
   "source": [
    "  **-------------------------------------------------------------------------------------------------------------------------------------------------------------------------**"
   ]
  },
  {
   "cell_type": "markdown",
   "metadata": {},
   "source": [
    "# 1. Introduction"
   ]
  },
  {
   "cell_type": "markdown",
   "metadata": {},
   "source": [
    "Vector Autoregression (VAR) is a multivariate forecasting algorithm that is used when two or more time series influence each other."
   ]
  },
  {
   "cell_type": "markdown",
   "metadata": {},
   "source": [
    "  **-------------------------------------------------------------------------------------------------------------------------------------------------------------------------**"
   ]
  },
  {
   "cell_type": "markdown",
   "metadata": {},
   "source": [
    "# 2. Data Importing and Data Cleaning"
   ]
  },
  {
   "cell_type": "markdown",
   "metadata": {},
   "source": [
    "## 2.1 Importing and Cleaning Greenhouses gases pollution Dataset\n",
    "\n",
    "<ul>\n",
    "<li><a href=\"https://www.kaggle.com/sogun3/uspollution\">Dataset Link </a></li>\n",
    "<li>Dataset has various columns, selected only the required columns while importing</li>\n",
    "<li>Based on our results from Exploratory Data Analysis we will be working on Washington</li>\n",
    "</ul>"
   ]
  },
  {
   "cell_type": "code",
   "execution_count": 1,
   "metadata": {},
   "outputs": [
    {
     "data": {
      "text/html": [
       "<div>\n",
       "<style scoped>\n",
       "    .dataframe tbody tr th:only-of-type {\n",
       "        vertical-align: middle;\n",
       "    }\n",
       "\n",
       "    .dataframe tbody tr th {\n",
       "        vertical-align: top;\n",
       "    }\n",
       "\n",
       "    .dataframe thead th {\n",
       "        text-align: right;\n",
       "    }\n",
       "</style>\n",
       "<table border=\"1\" class=\"dataframe\">\n",
       "  <thead>\n",
       "    <tr style=\"text-align: right;\">\n",
       "      <th></th>\n",
       "      <th>NO2 Mean</th>\n",
       "      <th>O3 Mean</th>\n",
       "      <th>SO2 Mean</th>\n",
       "      <th>CO Mean</th>\n",
       "    </tr>\n",
       "    <tr>\n",
       "      <th>Date Local</th>\n",
       "      <th></th>\n",
       "      <th></th>\n",
       "      <th></th>\n",
       "      <th></th>\n",
       "    </tr>\n",
       "  </thead>\n",
       "  <tbody>\n",
       "    <tr>\n",
       "      <th>2000-01-01</th>\n",
       "      <td>26.541667</td>\n",
       "      <td>0.004167</td>\n",
       "      <td>11.237500</td>\n",
       "      <td>2.033882</td>\n",
       "    </tr>\n",
       "    <tr>\n",
       "      <th>2000-01-02</th>\n",
       "      <td>14.958333</td>\n",
       "      <td>0.023083</td>\n",
       "      <td>7.777083</td>\n",
       "      <td>0.770833</td>\n",
       "    </tr>\n",
       "    <tr>\n",
       "      <th>2000-01-03</th>\n",
       "      <td>18.291667</td>\n",
       "      <td>0.014875</td>\n",
       "      <td>7.116149</td>\n",
       "      <td>0.583333</td>\n",
       "    </tr>\n",
       "    <tr>\n",
       "      <th>2000-01-04</th>\n",
       "      <td>13.363636</td>\n",
       "      <td>0.017250</td>\n",
       "      <td>5.402083</td>\n",
       "      <td>0.508333</td>\n",
       "    </tr>\n",
       "    <tr>\n",
       "      <th>2000-01-05</th>\n",
       "      <td>16.625000</td>\n",
       "      <td>0.009583</td>\n",
       "      <td>8.362500</td>\n",
       "      <td>0.616667</td>\n",
       "    </tr>\n",
       "  </tbody>\n",
       "</table>\n",
       "</div>"
      ],
      "text/plain": [
       "             NO2 Mean   O3 Mean   SO2 Mean   CO Mean\n",
       "Date Local                                          \n",
       "2000-01-01  26.541667  0.004167  11.237500  2.033882\n",
       "2000-01-02  14.958333  0.023083   7.777083  0.770833\n",
       "2000-01-03  18.291667  0.014875   7.116149  0.583333\n",
       "2000-01-04  13.363636  0.017250   5.402083  0.508333\n",
       "2000-01-05  16.625000  0.009583   8.362500  0.616667"
      ]
     },
     "execution_count": 1,
     "metadata": {},
     "output_type": "execute_result"
    }
   ],
   "source": [
    "# ------ Importing Libraries --------\n",
    "import pandas as pd\n",
    "import numpy as np\n",
    "%matplotlib inline\n",
    "import matplotlib.pyplot as plt\n",
    "import seaborn as sns\n",
    "# ------ importing Dataset -------------\n",
    "df=pd.read_csv(\"pollution_us_2000_2016.csv\",usecols=['City','Date Local','NO2 Mean','O3 Mean','SO2 Mean','CO Mean'])\n",
    "#----------- Filtering City ----------------\n",
    "df=df[df['City']=='Washington']\n",
    "df['Date Local']=pd.to_datetime(df['Date Local'], format='%Y-%m-%d') # Converting to datetime\n",
    "# Getting to same date range as for temperature data\n",
    "df=df[df['Date Local']<'2013-09-01']\n",
    "# Grouping as some measurements are taken multiple timesa a day\n",
    "df=df.groupby(['Date Local']).mean()\n",
    "df.head()"
   ]
  },
  {
   "cell_type": "markdown",
   "metadata": {},
   "source": [
    "### 2.1.A Data Transformations:  \n",
    "<ul>\n",
    "<li>Re sampling data from day to month by aggregating</li></ul>"
   ]
  },
  {
   "cell_type": "code",
   "execution_count": 2,
   "metadata": {},
   "outputs": [
    {
     "data": {
      "text/html": [
       "<div>\n",
       "<style scoped>\n",
       "    .dataframe tbody tr th:only-of-type {\n",
       "        vertical-align: middle;\n",
       "    }\n",
       "\n",
       "    .dataframe tbody tr th {\n",
       "        vertical-align: top;\n",
       "    }\n",
       "\n",
       "    .dataframe thead th {\n",
       "        text-align: right;\n",
       "    }\n",
       "</style>\n",
       "<table border=\"1\" class=\"dataframe\">\n",
       "  <thead>\n",
       "    <tr style=\"text-align: right;\">\n",
       "      <th></th>\n",
       "      <th>NO2 Mean</th>\n",
       "      <th>O3 Mean</th>\n",
       "      <th>SO2 Mean</th>\n",
       "      <th>CO Mean</th>\n",
       "    </tr>\n",
       "  </thead>\n",
       "  <tbody>\n",
       "    <tr>\n",
       "      <th>2000-01-01</th>\n",
       "      <td>683.300847</td>\n",
       "      <td>0.364102</td>\n",
       "      <td>358.045716</td>\n",
       "      <td>32.160386</td>\n",
       "    </tr>\n",
       "    <tr>\n",
       "      <th>2000-02-01</th>\n",
       "      <td>539.821081</td>\n",
       "      <td>0.357543</td>\n",
       "      <td>284.939440</td>\n",
       "      <td>35.490968</td>\n",
       "    </tr>\n",
       "    <tr>\n",
       "      <th>2000-03-01</th>\n",
       "      <td>782.589332</td>\n",
       "      <td>0.497125</td>\n",
       "      <td>202.283723</td>\n",
       "      <td>38.381430</td>\n",
       "    </tr>\n",
       "    <tr>\n",
       "      <th>2000-04-01</th>\n",
       "      <td>666.711299</td>\n",
       "      <td>0.546877</td>\n",
       "      <td>156.879679</td>\n",
       "      <td>33.645470</td>\n",
       "    </tr>\n",
       "    <tr>\n",
       "      <th>2000-05-01</th>\n",
       "      <td>695.437038</td>\n",
       "      <td>0.865069</td>\n",
       "      <td>199.120191</td>\n",
       "      <td>26.834821</td>\n",
       "    </tr>\n",
       "  </tbody>\n",
       "</table>\n",
       "</div>"
      ],
      "text/plain": [
       "              NO2 Mean   O3 Mean    SO2 Mean    CO Mean\n",
       "2000-01-01  683.300847  0.364102  358.045716  32.160386\n",
       "2000-02-01  539.821081  0.357543  284.939440  35.490968\n",
       "2000-03-01  782.589332  0.497125  202.283723  38.381430\n",
       "2000-04-01  666.711299  0.546877  156.879679  33.645470\n",
       "2000-05-01  695.437038  0.865069  199.120191  26.834821"
      ]
     },
     "execution_count": 2,
     "metadata": {},
     "output_type": "execute_result"
    }
   ],
   "source": [
    "#taking sum of daily values to get monthly values\n",
    "df=df.resample('M').sum()\n",
    "df.index = [pd.datetime(x.year, x.month, 1) for x in df.index.tolist()] \n",
    "df.head()"
   ]
  },
  {
   "cell_type": "markdown",
   "metadata": {},
   "source": [
    "## 2.2 Importing and Cleaning Temperature Dataset\n",
    "<ul>\n",
    "    <li><a href=\"https://www.kaggle.com/berkeleyearth/climate-change-earth-surface-temperature-data\">Dataset Link</a></li>\n",
    "<li>Dataset has various columns, selected only the required columns while importing</li>\n",
    "<li>Based on our results from Exploratory Data Analysis we will be working on Washington</li>\n",
    "</ul>"
   ]
  },
  {
   "cell_type": "code",
   "execution_count": 3,
   "metadata": {
    "scrolled": true
   },
   "outputs": [
    {
     "data": {
      "text/html": [
       "<div>\n",
       "<style scoped>\n",
       "    .dataframe tbody tr th:only-of-type {\n",
       "        vertical-align: middle;\n",
       "    }\n",
       "\n",
       "    .dataframe tbody tr th {\n",
       "        vertical-align: top;\n",
       "    }\n",
       "\n",
       "    .dataframe thead th {\n",
       "        text-align: right;\n",
       "    }\n",
       "</style>\n",
       "<table border=\"1\" class=\"dataframe\">\n",
       "  <thead>\n",
       "    <tr style=\"text-align: right;\">\n",
       "      <th></th>\n",
       "      <th>AverageTemperature</th>\n",
       "      <th>AverageTemperatureAnomaly</th>\n",
       "    </tr>\n",
       "    <tr>\n",
       "      <th>dt</th>\n",
       "      <th></th>\n",
       "      <th></th>\n",
       "    </tr>\n",
       "  </thead>\n",
       "  <tbody>\n",
       "    <tr>\n",
       "      <th>2000-01-01</th>\n",
       "      <td>-0.097</td>\n",
       "      <td>0.214</td>\n",
       "    </tr>\n",
       "    <tr>\n",
       "      <th>2000-02-01</th>\n",
       "      <td>3.380</td>\n",
       "      <td>0.267</td>\n",
       "    </tr>\n",
       "    <tr>\n",
       "      <th>2000-03-01</th>\n",
       "      <td>9.113</td>\n",
       "      <td>0.144</td>\n",
       "    </tr>\n",
       "    <tr>\n",
       "      <th>2000-04-01</th>\n",
       "      <td>11.591</td>\n",
       "      <td>0.165</td>\n",
       "    </tr>\n",
       "    <tr>\n",
       "      <th>2000-05-01</th>\n",
       "      <td>18.559</td>\n",
       "      <td>0.191</td>\n",
       "    </tr>\n",
       "  </tbody>\n",
       "</table>\n",
       "</div>"
      ],
      "text/plain": [
       "            AverageTemperature  AverageTemperatureAnomaly\n",
       "dt                                                       \n",
       "2000-01-01              -0.097                      0.214\n",
       "2000-02-01               3.380                      0.267\n",
       "2000-03-01               9.113                      0.144\n",
       "2000-04-01              11.591                      0.165\n",
       "2000-05-01              18.559                      0.191"
      ]
     },
     "execution_count": 3,
     "metadata": {},
     "output_type": "execute_result"
    }
   ],
   "source": [
    "df_t=pd.read_csv(\"GlobalLandTemperaturesByCity.csv\",usecols=['dt','City','AverageTemperature','AverageTemperatureAnomaly'])\n",
    "df_t= df_t[df_t['City']=='Washington'] #filtering for city\n",
    "df_t=df_t[df_t['dt']<'2017-01-01'] # getting it to same date range as Greenhouse dataset\n",
    "df_t=df_t[df_t['dt']>'1999-12-31']\n",
    "df_t=df_t.set_index('dt')\n",
    "df_t=df_t.drop('City',axis=1)\n",
    "df_t.head()"
   ]
  },
  {
   "cell_type": "markdown",
   "metadata": {},
   "source": [
    "  **-------------------------------------------------------------------------------------------------------------------------------------------------------------------------**"
   ]
  },
  {
   "cell_type": "markdown",
   "metadata": {},
   "source": [
    "# 3. Creating a combined Dataset"
   ]
  },
  {
   "cell_type": "code",
   "execution_count": 4,
   "metadata": {},
   "outputs": [
    {
     "data": {
      "text/html": [
       "<div>\n",
       "<style scoped>\n",
       "    .dataframe tbody tr th:only-of-type {\n",
       "        vertical-align: middle;\n",
       "    }\n",
       "\n",
       "    .dataframe tbody tr th {\n",
       "        vertical-align: top;\n",
       "    }\n",
       "\n",
       "    .dataframe thead th {\n",
       "        text-align: right;\n",
       "    }\n",
       "</style>\n",
       "<table border=\"1\" class=\"dataframe\">\n",
       "  <thead>\n",
       "    <tr style=\"text-align: right;\">\n",
       "      <th></th>\n",
       "      <th>NO2 Mean</th>\n",
       "      <th>O3 Mean</th>\n",
       "      <th>SO2 Mean</th>\n",
       "      <th>CO Mean</th>\n",
       "      <th>AverageTemperature</th>\n",
       "      <th>AverageTemperatureAnomaly</th>\n",
       "    </tr>\n",
       "  </thead>\n",
       "  <tbody>\n",
       "    <tr>\n",
       "      <th>2000-01-01</th>\n",
       "      <td>683.300847</td>\n",
       "      <td>0.364102</td>\n",
       "      <td>358.045716</td>\n",
       "      <td>32.160386</td>\n",
       "      <td>-0.097</td>\n",
       "      <td>0.214</td>\n",
       "    </tr>\n",
       "    <tr>\n",
       "      <th>2000-02-01</th>\n",
       "      <td>539.821081</td>\n",
       "      <td>0.357543</td>\n",
       "      <td>284.939440</td>\n",
       "      <td>35.490968</td>\n",
       "      <td>3.380</td>\n",
       "      <td>0.267</td>\n",
       "    </tr>\n",
       "    <tr>\n",
       "      <th>2000-03-01</th>\n",
       "      <td>782.589332</td>\n",
       "      <td>0.497125</td>\n",
       "      <td>202.283723</td>\n",
       "      <td>38.381430</td>\n",
       "      <td>9.113</td>\n",
       "      <td>0.144</td>\n",
       "    </tr>\n",
       "    <tr>\n",
       "      <th>2000-04-01</th>\n",
       "      <td>666.711299</td>\n",
       "      <td>0.546877</td>\n",
       "      <td>156.879679</td>\n",
       "      <td>33.645470</td>\n",
       "      <td>11.591</td>\n",
       "      <td>0.165</td>\n",
       "    </tr>\n",
       "    <tr>\n",
       "      <th>2000-05-01</th>\n",
       "      <td>695.437038</td>\n",
       "      <td>0.865069</td>\n",
       "      <td>199.120191</td>\n",
       "      <td>26.834821</td>\n",
       "      <td>18.559</td>\n",
       "      <td>0.191</td>\n",
       "    </tr>\n",
       "  </tbody>\n",
       "</table>\n",
       "</div>"
      ],
      "text/plain": [
       "              NO2 Mean   O3 Mean    SO2 Mean    CO Mean  AverageTemperature  \\\n",
       "2000-01-01  683.300847  0.364102  358.045716  32.160386              -0.097   \n",
       "2000-02-01  539.821081  0.357543  284.939440  35.490968               3.380   \n",
       "2000-03-01  782.589332  0.497125  202.283723  38.381430               9.113   \n",
       "2000-04-01  666.711299  0.546877  156.879679  33.645470              11.591   \n",
       "2000-05-01  695.437038  0.865069  199.120191  26.834821              18.559   \n",
       "\n",
       "            AverageTemperatureAnomaly  \n",
       "2000-01-01                      0.214  \n",
       "2000-02-01                      0.267  \n",
       "2000-03-01                      0.144  \n",
       "2000-04-01                      0.165  \n",
       "2000-05-01                      0.191  "
      ]
     },
     "execution_count": 4,
     "metadata": {},
     "output_type": "execute_result"
    }
   ],
   "source": [
    "data=df.join(df_t) #joining dataset on Index\n",
    "data2=data\n",
    "data.head()"
   ]
  },
  {
   "cell_type": "code",
   "execution_count": 5,
   "metadata": {},
   "outputs": [],
   "source": [
    "# from sklearn import preprocessing\n",
    "# min_max_scaler = preprocessing.MinMaxScaler()\n",
    "# data[['NO2 Mean', 'O3 Mean','SO2 Mean','CO Mean','AverageTemperature','AverageTemperatureUncertainty']] = min_max_scaler.fit_transform(data[['NO2 Mean', 'O3 Mean','SO2 Mean','CO Mean','AverageTemperature','AverageTemperatureUncertainty']])\n",
    "# data.head()"
   ]
  },
  {
   "cell_type": "markdown",
   "metadata": {},
   "source": [
    "  **-------------------------------------------------------------------------------------------------------------------------------------------------------------------------**"
   ]
  },
  {
   "cell_type": "markdown",
   "metadata": {},
   "source": [
    "# 4. Exploratory Data Analysis"
   ]
  },
  {
   "cell_type": "markdown",
   "metadata": {},
   "source": [
    "### 4.1 Descriptive Statistics"
   ]
  },
  {
   "cell_type": "code",
   "execution_count": 6,
   "metadata": {},
   "outputs": [
    {
     "data": {
      "text/html": [
       "<div>\n",
       "<style scoped>\n",
       "    .dataframe tbody tr th:only-of-type {\n",
       "        vertical-align: middle;\n",
       "    }\n",
       "\n",
       "    .dataframe tbody tr th {\n",
       "        vertical-align: top;\n",
       "    }\n",
       "\n",
       "    .dataframe thead th {\n",
       "        text-align: right;\n",
       "    }\n",
       "</style>\n",
       "<table border=\"1\" class=\"dataframe\">\n",
       "  <thead>\n",
       "    <tr style=\"text-align: right;\">\n",
       "      <th></th>\n",
       "      <th>NO2 Mean</th>\n",
       "      <th>O3 Mean</th>\n",
       "      <th>SO2 Mean</th>\n",
       "      <th>CO Mean</th>\n",
       "      <th>AverageTemperature</th>\n",
       "      <th>AverageTemperatureAnomaly</th>\n",
       "    </tr>\n",
       "  </thead>\n",
       "  <tbody>\n",
       "    <tr>\n",
       "      <th>count</th>\n",
       "      <td>164.000000</td>\n",
       "      <td>164.000000</td>\n",
       "      <td>164.000000</td>\n",
       "      <td>164.000000</td>\n",
       "      <td>164.000000</td>\n",
       "      <td>164.000000</td>\n",
       "    </tr>\n",
       "    <tr>\n",
       "      <th>mean</th>\n",
       "      <td>572.222071</td>\n",
       "      <td>0.722087</td>\n",
       "      <td>153.995432</td>\n",
       "      <td>27.434185</td>\n",
       "      <td>13.037201</td>\n",
       "      <td>0.266122</td>\n",
       "    </tr>\n",
       "    <tr>\n",
       "      <th>std</th>\n",
       "      <td>149.254079</td>\n",
       "      <td>0.281823</td>\n",
       "      <td>80.721808</td>\n",
       "      <td>10.815724</td>\n",
       "      <td>8.873630</td>\n",
       "      <td>0.080509</td>\n",
       "    </tr>\n",
       "    <tr>\n",
       "      <th>min</th>\n",
       "      <td>191.463189</td>\n",
       "      <td>0.175498</td>\n",
       "      <td>22.854362</td>\n",
       "      <td>4.092327</td>\n",
       "      <td>-2.789000</td>\n",
       "      <td>0.074000</td>\n",
       "    </tr>\n",
       "    <tr>\n",
       "      <th>25%</th>\n",
       "      <td>469.356865</td>\n",
       "      <td>0.485365</td>\n",
       "      <td>94.277452</td>\n",
       "      <td>19.755956</td>\n",
       "      <td>4.833250</td>\n",
       "      <td>0.209750</td>\n",
       "    </tr>\n",
       "    <tr>\n",
       "      <th>50%</th>\n",
       "      <td>572.698393</td>\n",
       "      <td>0.691781</td>\n",
       "      <td>143.771550</td>\n",
       "      <td>26.761309</td>\n",
       "      <td>12.808000</td>\n",
       "      <td>0.254000</td>\n",
       "    </tr>\n",
       "    <tr>\n",
       "      <th>75%</th>\n",
       "      <td>670.800837</td>\n",
       "      <td>0.928430</td>\n",
       "      <td>202.037908</td>\n",
       "      <td>34.845219</td>\n",
       "      <td>21.785250</td>\n",
       "      <td>0.308500</td>\n",
       "    </tr>\n",
       "    <tr>\n",
       "      <th>max</th>\n",
       "      <td>991.249834</td>\n",
       "      <td>1.308212</td>\n",
       "      <td>427.118956</td>\n",
       "      <td>70.988059</td>\n",
       "      <td>26.895000</td>\n",
       "      <td>0.503000</td>\n",
       "    </tr>\n",
       "  </tbody>\n",
       "</table>\n",
       "</div>"
      ],
      "text/plain": [
       "         NO2 Mean     O3 Mean    SO2 Mean     CO Mean  AverageTemperature  \\\n",
       "count  164.000000  164.000000  164.000000  164.000000          164.000000   \n",
       "mean   572.222071    0.722087  153.995432   27.434185           13.037201   \n",
       "std    149.254079    0.281823   80.721808   10.815724            8.873630   \n",
       "min    191.463189    0.175498   22.854362    4.092327           -2.789000   \n",
       "25%    469.356865    0.485365   94.277452   19.755956            4.833250   \n",
       "50%    572.698393    0.691781  143.771550   26.761309           12.808000   \n",
       "75%    670.800837    0.928430  202.037908   34.845219           21.785250   \n",
       "max    991.249834    1.308212  427.118956   70.988059           26.895000   \n",
       "\n",
       "       AverageTemperatureAnomaly  \n",
       "count                 164.000000  \n",
       "mean                    0.266122  \n",
       "std                     0.080509  \n",
       "min                     0.074000  \n",
       "25%                     0.209750  \n",
       "50%                     0.254000  \n",
       "75%                     0.308500  \n",
       "max                     0.503000  "
      ]
     },
     "execution_count": 6,
     "metadata": {},
     "output_type": "execute_result"
    }
   ],
   "source": [
    "data.describe()"
   ]
  },
  {
   "cell_type": "markdown",
   "metadata": {},
   "source": [
    "### 4.2.A Line chart "
   ]
  },
  {
   "cell_type": "code",
   "execution_count": 7,
   "metadata": {},
   "outputs": [
    {
     "data": {
      "text/html": [
       "        <script type=\"text/javascript\">\n",
       "        window.PlotlyConfig = {MathJaxConfig: 'local'};\n",
       "        if (window.MathJax) {MathJax.Hub.Config({SVG: {font: \"STIX-Web\"}});}\n",
       "        if (typeof require !== 'undefined') {\n",
       "        require.undef(\"plotly\");\n",
       "        requirejs.config({\n",
       "            paths: {\n",
       "                'plotly': ['https://cdn.plot.ly/plotly-latest.min']\n",
       "            }\n",
       "        });\n",
       "        require(['plotly'], function(Plotly) {\n",
       "            window._Plotly = Plotly;\n",
       "        });\n",
       "        }\n",
       "        </script>\n",
       "        "
      ]
     },
     "metadata": {},
     "output_type": "display_data"
    },
    {
     "data": {
      "text/html": [
       "        <script type=\"text/javascript\">\n",
       "        window.PlotlyConfig = {MathJaxConfig: 'local'};\n",
       "        if (window.MathJax) {MathJax.Hub.Config({SVG: {font: \"STIX-Web\"}});}\n",
       "        if (typeof require !== 'undefined') {\n",
       "        require.undef(\"plotly\");\n",
       "        requirejs.config({\n",
       "            paths: {\n",
       "                'plotly': ['https://cdn.plot.ly/plotly-latest.min']\n",
       "            }\n",
       "        });\n",
       "        require(['plotly'], function(Plotly) {\n",
       "            window._Plotly = Plotly;\n",
       "        });\n",
       "        }\n",
       "        </script>\n",
       "        "
      ]
     },
     "metadata": {},
     "output_type": "display_data"
    }
   ],
   "source": [
    "import chart_studio.plotly as py\n",
    "import plotly.graph_objs as go\n",
    "from plotly.offline import iplot, init_notebook_mode\n",
    "from plotly.subplots import make_subplots\n",
    "import plotly.graph_objects as go\n",
    "import cufflinks\n",
    "cufflinks.go_offline(connected=True)\n",
    "init_notebook_mode(connected=True)"
   ]
  },
  {
   "cell_type": "code",
   "execution_count": 8,
   "metadata": {
    "scrolled": false
   },
   "outputs": [
    {
     "data": {
      "application/vnd.plotly.v1+json": {
       "config": {
        "linkText": "Export to plot.ly",
        "plotlyServerURL": "https://plot.ly",
        "showLink": true
       },
       "data": [
        {
         "line": {
          "color": "rgba(255, 153, 51, 1.0)",
          "dash": "solid",
          "shape": "linear",
          "width": 1.3
         },
         "mode": "lines",
         "name": "NO2 Mean",
         "text": "",
         "type": "scatter",
         "x": [
          "2000-01-01",
          "2000-02-01",
          "2000-03-01",
          "2000-04-01",
          "2000-05-01",
          "2000-06-01",
          "2000-07-01",
          "2000-08-01",
          "2000-09-01",
          "2000-10-01",
          "2000-11-01",
          "2000-12-01",
          "2001-01-01",
          "2001-02-01",
          "2001-03-01",
          "2001-04-01",
          "2001-05-01",
          "2001-06-01",
          "2001-07-01",
          "2001-08-01",
          "2001-09-01",
          "2001-10-01",
          "2001-11-01",
          "2001-12-01",
          "2002-01-01",
          "2002-02-01",
          "2002-03-01",
          "2002-04-01",
          "2002-05-01",
          "2002-06-01",
          "2002-07-01",
          "2002-08-01",
          "2002-09-01",
          "2002-10-01",
          "2002-11-01",
          "2002-12-01",
          "2003-01-01",
          "2003-02-01",
          "2003-03-01",
          "2003-04-01",
          "2003-05-01",
          "2003-06-01",
          "2003-07-01",
          "2003-08-01",
          "2003-09-01",
          "2003-10-01",
          "2003-11-01",
          "2003-12-01",
          "2004-01-01",
          "2004-02-01",
          "2004-03-01",
          "2004-04-01",
          "2004-05-01",
          "2004-06-01",
          "2004-07-01",
          "2004-08-01",
          "2004-09-01",
          "2004-10-01",
          "2004-11-01",
          "2004-12-01",
          "2005-01-01",
          "2005-02-01",
          "2005-03-01",
          "2005-04-01",
          "2005-05-01",
          "2005-06-01",
          "2005-07-01",
          "2005-08-01",
          "2005-09-01",
          "2005-10-01",
          "2005-11-01",
          "2005-12-01",
          "2006-01-01",
          "2006-02-01",
          "2006-03-01",
          "2006-04-01",
          "2006-05-01",
          "2006-06-01",
          "2006-07-01",
          "2006-08-01",
          "2006-09-01",
          "2006-10-01",
          "2006-11-01",
          "2006-12-01",
          "2007-01-01",
          "2007-02-01",
          "2007-03-01",
          "2007-04-01",
          "2007-05-01",
          "2007-06-01",
          "2007-07-01",
          "2007-08-01",
          "2007-09-01",
          "2007-10-01",
          "2007-11-01",
          "2007-12-01",
          "2008-01-01",
          "2008-02-01",
          "2008-03-01",
          "2008-04-01",
          "2008-05-01",
          "2008-06-01",
          "2008-07-01",
          "2008-08-01",
          "2008-09-01",
          "2008-10-01",
          "2008-11-01",
          "2008-12-01",
          "2009-01-01",
          "2009-02-01",
          "2009-03-01",
          "2009-04-01",
          "2009-05-01",
          "2009-06-01",
          "2009-07-01",
          "2009-08-01",
          "2009-09-01",
          "2009-10-01",
          "2009-11-01",
          "2009-12-01",
          "2010-01-01",
          "2010-02-01",
          "2010-03-01",
          "2010-04-01",
          "2010-05-01",
          "2010-06-01",
          "2010-07-01",
          "2010-08-01",
          "2010-09-01",
          "2010-10-01",
          "2010-11-01",
          "2010-12-01",
          "2011-01-01",
          "2011-02-01",
          "2011-03-01",
          "2011-04-01",
          "2011-05-01",
          "2011-06-01",
          "2011-07-01",
          "2011-08-01",
          "2011-09-01",
          "2011-10-01",
          "2011-11-01",
          "2011-12-01",
          "2012-01-01",
          "2012-02-01",
          "2012-03-01",
          "2012-04-01",
          "2012-05-01",
          "2012-06-01",
          "2012-07-01",
          "2012-08-01",
          "2012-09-01",
          "2012-10-01",
          "2012-11-01",
          "2012-12-01",
          "2013-01-01",
          "2013-02-01",
          "2013-03-01",
          "2013-04-01",
          "2013-05-01",
          "2013-06-01",
          "2013-07-01",
          "2013-08-01"
         ],
         "y": [
          683.300847,
          539.8210809999998,
          782.5893319999999,
          666.711299,
          695.4370380000003,
          679.1529949999999,
          515.194661,
          600.4795240000002,
          571.85616,
          901.6123180000002,
          786.670339,
          849.3355060000001,
          991.249834,
          735.8959159999998,
          734.9696979999999,
          759.5205860000001,
          690.1879149999999,
          695.9131000000001,
          591.8222979999999,
          645.2998990000001,
          613.0584630000001,
          708.238472,
          821.3199950000001,
          554.0584269999999,
          894.7221679999999,
          760.1669960000002,
          743.3369570000001,
          644.9634390000001,
          631.4934119999998,
          744.3433879999998,
          723.260871,
          730.8029389999999,
          716.88587,
          761.273766,
          700.7173909999999,
          869.0108709999998,
          752.112156,
          844.979251,
          801.47826,
          712.27174,
          594.078495,
          621.6910809999999,
          606.5385389999999,
          633.8901520000002,
          539.9058769999999,
          710.0561609999999,
          664.8025360000001,
          691.508072,
          632.476451,
          869.908104,
          701.906951,
          642.3337960000002,
          482.8727499999999,
          534.0107019999999,
          515.162997,
          554.0798759999999,
          587.8019220000001,
          746.883133,
          668.016785,
          692.6774889999998,
          800.046773,
          889.5362300000003,
          777.2560930000001,
          801.1431120000002,
          657.5895910000002,
          504.00101900000004,
          548.4752619999999,
          364.88196800000003,
          485.9495310000001,
          476.9166690000001,
          549.6102720000001,
          687.5108660000001,
          549.2546110000001,
          575.2699289999999,
          540.1001340000001,
          467.2857369999999,
          471.725462,
          362.58333300000004,
          364.2083299999999,
          445.4166649999999,
          381.52207100000004,
          450.519166,
          571.9537230000001,
          647.9552060000001,
          350.819005,
          505.50324700000004,
          376.23863600000004,
          439.28803999999997,
          408.036232,
          363.925397,
          359.96558100000004,
          376.42143899999996,
          463.1324809999999,
          467.1086929999999,
          420.66123300000004,
          648.686101,
          482.87499999999994,
          427.7026030000001,
          584.538038,
          511.61558,
          507.5766679999999,
          476.727276,
          512.519056,
          594.340249,
          583.0615950000001,
          638.9380759999999,
          607.4705210000001,
          573.4430629999999,
          746.238683,
          549.2419320000001,
          612.8642950000001,
          576.8488130000001,
          447.798418,
          474.1142009999999,
          432.57164300000005,
          469.7702549999999,
          487.02778700000005,
          537.156787,
          657.0660379999997,
          634.970521,
          659.5376600000001,
          638.5503950000001,
          597.0429880000003,
          533.1907110000001,
          421.90897300000006,
          444.576295,
          496.590086,
          493.532443,
          468.1166939999999,
          519.462003,
          602.7310620000001,
          547.1466799999998,
          641.403783,
          511.56818400000003,
          512.693722,
          404.928573,
          415.8041119999999,
          360.64740299999994,
          430.38158799999997,
          423.192251,
          389.2763705,
          474.84284149999996,
          588.7781125,
          624.5625913333334,
          523.4227343333334,
          549.2088905,
          443.7930928333333,
          436.3661913333333,
          372.7600848333334,
          319.00887900000004,
          332.4292808333333,
          513.770021,
          534.1417770000002,
          582.7719360000001,
          636.3503385,
          606.1144199999999,
          575.7306014999999,
          441.54206216666665,
          335.9437960000001,
          298.82215299999996,
          260.2549075,
          241.1644775,
          191.46318949999997,
          235.80330733333332
         ]
        },
        {
         "line": {
          "color": "rgba(55, 128, 191, 1.0)",
          "dash": "solid",
          "shape": "linear",
          "width": 1.3
         },
         "mode": "lines",
         "name": "O3 Mean",
         "text": "",
         "type": "scatter",
         "x": [
          "2000-01-01",
          "2000-02-01",
          "2000-03-01",
          "2000-04-01",
          "2000-05-01",
          "2000-06-01",
          "2000-07-01",
          "2000-08-01",
          "2000-09-01",
          "2000-10-01",
          "2000-11-01",
          "2000-12-01",
          "2001-01-01",
          "2001-02-01",
          "2001-03-01",
          "2001-04-01",
          "2001-05-01",
          "2001-06-01",
          "2001-07-01",
          "2001-08-01",
          "2001-09-01",
          "2001-10-01",
          "2001-11-01",
          "2001-12-01",
          "2002-01-01",
          "2002-02-01",
          "2002-03-01",
          "2002-04-01",
          "2002-05-01",
          "2002-06-01",
          "2002-07-01",
          "2002-08-01",
          "2002-09-01",
          "2002-10-01",
          "2002-11-01",
          "2002-12-01",
          "2003-01-01",
          "2003-02-01",
          "2003-03-01",
          "2003-04-01",
          "2003-05-01",
          "2003-06-01",
          "2003-07-01",
          "2003-08-01",
          "2003-09-01",
          "2003-10-01",
          "2003-11-01",
          "2003-12-01",
          "2004-01-01",
          "2004-02-01",
          "2004-03-01",
          "2004-04-01",
          "2004-05-01",
          "2004-06-01",
          "2004-07-01",
          "2004-08-01",
          "2004-09-01",
          "2004-10-01",
          "2004-11-01",
          "2004-12-01",
          "2005-01-01",
          "2005-02-01",
          "2005-03-01",
          "2005-04-01",
          "2005-05-01",
          "2005-06-01",
          "2005-07-01",
          "2005-08-01",
          "2005-09-01",
          "2005-10-01",
          "2005-11-01",
          "2005-12-01",
          "2006-01-01",
          "2006-02-01",
          "2006-03-01",
          "2006-04-01",
          "2006-05-01",
          "2006-06-01",
          "2006-07-01",
          "2006-08-01",
          "2006-09-01",
          "2006-10-01",
          "2006-11-01",
          "2006-12-01",
          "2007-01-01",
          "2007-02-01",
          "2007-03-01",
          "2007-04-01",
          "2007-05-01",
          "2007-06-01",
          "2007-07-01",
          "2007-08-01",
          "2007-09-01",
          "2007-10-01",
          "2007-11-01",
          "2007-12-01",
          "2008-01-01",
          "2008-02-01",
          "2008-03-01",
          "2008-04-01",
          "2008-05-01",
          "2008-06-01",
          "2008-07-01",
          "2008-08-01",
          "2008-09-01",
          "2008-10-01",
          "2008-11-01",
          "2008-12-01",
          "2009-01-01",
          "2009-02-01",
          "2009-03-01",
          "2009-04-01",
          "2009-05-01",
          "2009-06-01",
          "2009-07-01",
          "2009-08-01",
          "2009-09-01",
          "2009-10-01",
          "2009-11-01",
          "2009-12-01",
          "2010-01-01",
          "2010-02-01",
          "2010-03-01",
          "2010-04-01",
          "2010-05-01",
          "2010-06-01",
          "2010-07-01",
          "2010-08-01",
          "2010-09-01",
          "2010-10-01",
          "2010-11-01",
          "2010-12-01",
          "2011-01-01",
          "2011-02-01",
          "2011-03-01",
          "2011-04-01",
          "2011-05-01",
          "2011-06-01",
          "2011-07-01",
          "2011-08-01",
          "2011-09-01",
          "2011-10-01",
          "2011-11-01",
          "2011-12-01",
          "2012-01-01",
          "2012-02-01",
          "2012-03-01",
          "2012-04-01",
          "2012-05-01",
          "2012-06-01",
          "2012-07-01",
          "2012-08-01",
          "2012-09-01",
          "2012-10-01",
          "2012-11-01",
          "2012-12-01",
          "2013-01-01",
          "2013-02-01",
          "2013-03-01",
          "2013-04-01",
          "2013-05-01",
          "2013-06-01",
          "2013-07-01",
          "2013-08-01"
         ],
         "y": [
          0.36410200000000004,
          0.35754299999999994,
          0.497125,
          0.5468770000000002,
          0.8650689999999998,
          0.8640380000000002,
          0.7623310000000002,
          0.7213609999999999,
          0.49861900000000003,
          0.39579000000000014,
          0.296332,
          0.225345,
          0.231293,
          0.33591599999999994,
          0.511043,
          0.692793,
          0.8683750000000001,
          0.9980349999999999,
          0.872917,
          0.9432940000000001,
          0.662627,
          0.6085849999999999,
          0.40625100000000014,
          0.17549800000000002,
          0.32516500000000004,
          0.44646,
          0.64054,
          0.7929999999999997,
          0.9885799999999997,
          1.1172370000000003,
          1.2603359999999997,
          1.23717,
          0.7767080000000002,
          0.44922599999999985,
          0.407041,
          0.373448,
          0.37541500000000005,
          0.277999,
          0.469163,
          0.6707080000000002,
          0.48593300000000006,
          0.87946,
          1.045376,
          0.9237079999999999,
          0.6261140000000001,
          0.4860430000000001,
          0.3656220000000001,
          0.38769599999999993,
          0.46167,
          0.420044,
          0.6194990000000002,
          0.762082,
          0.895788,
          0.791458,
          0.8645439999999999,
          0.7943330000000001,
          0.50125,
          0.328623,
          0.319833,
          0.33821200000000007,
          0.34908300000000003,
          0.380792,
          0.682542,
          0.6927709999999999,
          0.6873359999999998,
          0.8754160000000001,
          0.8597099999999998,
          1.0083340000000003,
          0.8789370000000002,
          0.479833,
          0.5650409999999999,
          0.37517800000000007,
          0.5031220000000002,
          0.5955430000000002,
          0.9268770000000001,
          0.9364600000000002,
          1.073042,
          1.1270819999999997,
          1.2137490000000002,
          1.2173749999999999,
          0.7112920000000001,
          0.5982090000000002,
          0.44570600000000005,
          0.39851000000000003,
          0.38625099999999996,
          0.5072509999999999,
          0.696709,
          0.919293,
          1.1729159999999998,
          1.1407499999999997,
          1.1772930000000001,
          1.212168,
          0.9587490000000004,
          0.661087,
          0.39566700000000005,
          0.419496,
          0.5358409999999998,
          0.46041599999999994,
          0.9135439999999999,
          0.8750829999999999,
          0.9706169999999997,
          1.136541,
          1.282015,
          1.008873,
          0.7398740000000001,
          0.573087,
          0.494997,
          0.5374840000000002,
          0.5610830000000001,
          0.7774110000000002,
          0.85883,
          0.916127,
          0.780081,
          0.897097,
          0.9508329999999998,
          0.8470400000000001,
          0.5750040000000001,
          0.512874,
          0.40658400000000006,
          0.48058600000000007,
          0.5366240000000001,
          0.661541,
          0.8871250000000002,
          0.888877,
          0.905163,
          1.1706569999999998,
          1.2625440000000003,
          1.2164149999999998,
          0.9825839999999999,
          0.6605829999999999,
          0.506874,
          0.600371,
          0.531079,
          0.690791,
          0.9305700000000002,
          0.9571659999999999,
          1.0149299999999999,
          1.1043680000000005,
          1.3082120000000002,
          0.9759040000000001,
          0.6171300000000002,
          0.4593255000000001,
          0.5040081666666667,
          0.350811,
          0.4871463333333333,
          0.5499171666666667,
          0.870107,
          0.9902091666666665,
          1.0280491666666667,
          1.1122565000000002,
          1.1800881666666663,
          1.2204679999999999,
          0.923971,
          0.6497075000000002,
          0.45225050000000006,
          0.37482249999999995,
          0.48366049999999994,
          0.5943811666666666,
          0.973736,
          1.1131025000000003,
          0.990282,
          0.927717,
          0.922355,
          0.9261996666666668
         ]
        },
        {
         "line": {
          "color": "rgba(50, 171, 96, 1.0)",
          "dash": "solid",
          "shape": "linear",
          "width": 1.3
         },
         "mode": "lines",
         "name": "SO2 Mean",
         "text": "",
         "type": "scatter",
         "x": [
          "2000-01-01",
          "2000-02-01",
          "2000-03-01",
          "2000-04-01",
          "2000-05-01",
          "2000-06-01",
          "2000-07-01",
          "2000-08-01",
          "2000-09-01",
          "2000-10-01",
          "2000-11-01",
          "2000-12-01",
          "2001-01-01",
          "2001-02-01",
          "2001-03-01",
          "2001-04-01",
          "2001-05-01",
          "2001-06-01",
          "2001-07-01",
          "2001-08-01",
          "2001-09-01",
          "2001-10-01",
          "2001-11-01",
          "2001-12-01",
          "2002-01-01",
          "2002-02-01",
          "2002-03-01",
          "2002-04-01",
          "2002-05-01",
          "2002-06-01",
          "2002-07-01",
          "2002-08-01",
          "2002-09-01",
          "2002-10-01",
          "2002-11-01",
          "2002-12-01",
          "2003-01-01",
          "2003-02-01",
          "2003-03-01",
          "2003-04-01",
          "2003-05-01",
          "2003-06-01",
          "2003-07-01",
          "2003-08-01",
          "2003-09-01",
          "2003-10-01",
          "2003-11-01",
          "2003-12-01",
          "2004-01-01",
          "2004-02-01",
          "2004-03-01",
          "2004-04-01",
          "2004-05-01",
          "2004-06-01",
          "2004-07-01",
          "2004-08-01",
          "2004-09-01",
          "2004-10-01",
          "2004-11-01",
          "2004-12-01",
          "2005-01-01",
          "2005-02-01",
          "2005-03-01",
          "2005-04-01",
          "2005-05-01",
          "2005-06-01",
          "2005-07-01",
          "2005-08-01",
          "2005-09-01",
          "2005-10-01",
          "2005-11-01",
          "2005-12-01",
          "2006-01-01",
          "2006-02-01",
          "2006-03-01",
          "2006-04-01",
          "2006-05-01",
          "2006-06-01",
          "2006-07-01",
          "2006-08-01",
          "2006-09-01",
          "2006-10-01",
          "2006-11-01",
          "2006-12-01",
          "2007-01-01",
          "2007-02-01",
          "2007-03-01",
          "2007-04-01",
          "2007-05-01",
          "2007-06-01",
          "2007-07-01",
          "2007-08-01",
          "2007-09-01",
          "2007-10-01",
          "2007-11-01",
          "2007-12-01",
          "2008-01-01",
          "2008-02-01",
          "2008-03-01",
          "2008-04-01",
          "2008-05-01",
          "2008-06-01",
          "2008-07-01",
          "2008-08-01",
          "2008-09-01",
          "2008-10-01",
          "2008-11-01",
          "2008-12-01",
          "2009-01-01",
          "2009-02-01",
          "2009-03-01",
          "2009-04-01",
          "2009-05-01",
          "2009-06-01",
          "2009-07-01",
          "2009-08-01",
          "2009-09-01",
          "2009-10-01",
          "2009-11-01",
          "2009-12-01",
          "2010-01-01",
          "2010-02-01",
          "2010-03-01",
          "2010-04-01",
          "2010-05-01",
          "2010-06-01",
          "2010-07-01",
          "2010-08-01",
          "2010-09-01",
          "2010-10-01",
          "2010-11-01",
          "2010-12-01",
          "2011-01-01",
          "2011-02-01",
          "2011-03-01",
          "2011-04-01",
          "2011-05-01",
          "2011-06-01",
          "2011-07-01",
          "2011-08-01",
          "2011-09-01",
          "2011-10-01",
          "2011-11-01",
          "2011-12-01",
          "2012-01-01",
          "2012-02-01",
          "2012-03-01",
          "2012-04-01",
          "2012-05-01",
          "2012-06-01",
          "2012-07-01",
          "2012-08-01",
          "2012-09-01",
          "2012-10-01",
          "2012-11-01",
          "2012-12-01",
          "2013-01-01",
          "2013-02-01",
          "2013-03-01",
          "2013-04-01",
          "2013-05-01",
          "2013-06-01",
          "2013-07-01",
          "2013-08-01"
         ],
         "y": [
          358.04571599999997,
          284.93944049999993,
          202.28372299999998,
          156.87967949999998,
          199.12019050000004,
          203.60725000000005,
          207.41786800000003,
          169.49098800000002,
          196.71591450000003,
          271.88749050000007,
          284.5572855,
          427.11895649999997,
          404.93539000000004,
          171.93207049999998,
          206.57714249999998,
          223.020759,
          137.81401400000001,
          195.62358849999998,
          296.6338255,
          239.39690999999996,
          111.15900599999999,
          110.1028075,
          135.2355145,
          88.8896655,
          185.25146450000003,
          117.25729799999999,
          253.30573200000003,
          250.61679650000008,
          253.473227,
          274.55232400000006,
          208.65714350000005,
          160.33749899999998,
          132.966083,
          152.75633549999998,
          201.95596900000004,
          259.00880000000006,
          339.1244474999999,
          284.80735849999996,
          300.23765349999996,
          203.71890600000006,
          154.38927800000002,
          222.71010950000007,
          214.69639100000006,
          226.204393,
          190.73936450000002,
          222.9258235,
          357.265778,
          287.850897,
          242.830279,
          231.430188,
          176.81492300000002,
          243.111064,
          272.4738315000001,
          273.03033049999993,
          307.643631,
          143.406148,
          80.170647,
          90.23284600000002,
          125.64616699999999,
          170.1261535,
          208.97406499999997,
          181.36002900000003,
          164.53970050000004,
          115.6518835,
          87.888559,
          89.212314,
          68.105546,
          98.8143575,
          83.011299,
          105.62615100000001,
          153.492057,
          266.51502250000004,
          187.64204049999998,
          167.1097435,
          196.64560050000003,
          100.10950650000001,
          100.81458199999997,
          99.097917,
          116.7979165,
          129.1875005,
          99.60301700000001,
          104.79070449999999,
          138.36550450000001,
          211.46201900000003,
          114.249123,
          199.37007450000004,
          125.91187750000002,
          115.00551300000004,
          137.35864450000003,
          131.35687650000003,
          127.334019,
          169.334456,
          131.92308949999997,
          131.67870100000002,
          140.312617,
          172.87671600000004,
          169.6958335,
          163.556879,
          178.44892549999997,
          130.03637400000002,
          120.5138105,
          148.49958800000005,
          168.3594375,
          177.276596,
          160.7563105,
          160.452877,
          186.47398399999994,
          236.2507375,
          309.34151549999996,
          223.94706349999996,
          195.4324325,
          175.06806949999995,
          149.90251249999997,
          83.27656199999998,
          94.12312999999999,
          98.58660850000001,
          75.0451295,
          58.83805199999998,
          68.14172049999999,
          107.81691949999998,
          131.40513500000003,
          117.8867685,
          94.72467999999999,
          73.63640599999998,
          70.86021149999999,
          91.40883249999999,
          103.357548,
          85.81518750000001,
          90.3324255,
          93.90323150000002,
          105.08346250000001,
          164.9410695,
          185.10316099999997,
          157.50804000000002,
          144.382936,
          130.340036,
          133.65830749999998,
          126.49848700000003,
          157.52683950000002,
          144.13695249999998,
          94.328893,
          62.475635749999995,
          29.799812166666673,
          59.540611833333315,
          43.80851941666667,
          43.241296,
          46.393157333333335,
          48.948851416666656,
          44.37333016666666,
          46.005377499999994,
          57.78146925,
          55.779853499999994,
          56.42860599999999,
          34.036572500000005,
          68.51352274999999,
          66.59617800000001,
          54.31027950000001,
          45.598864750000004,
          46.01616624999999,
          42.45468375,
          25.652624749999998,
          26.448650000000004,
          24.873497249999996,
          22.85436208333334
         ]
        },
        {
         "line": {
          "color": "rgba(128, 0, 128, 1.0)",
          "dash": "solid",
          "shape": "linear",
          "width": 1.3
         },
         "mode": "lines",
         "name": "CO Mean",
         "text": "",
         "type": "scatter",
         "x": [
          "2000-01-01",
          "2000-02-01",
          "2000-03-01",
          "2000-04-01",
          "2000-05-01",
          "2000-06-01",
          "2000-07-01",
          "2000-08-01",
          "2000-09-01",
          "2000-10-01",
          "2000-11-01",
          "2000-12-01",
          "2001-01-01",
          "2001-02-01",
          "2001-03-01",
          "2001-04-01",
          "2001-05-01",
          "2001-06-01",
          "2001-07-01",
          "2001-08-01",
          "2001-09-01",
          "2001-10-01",
          "2001-11-01",
          "2001-12-01",
          "2002-01-01",
          "2002-02-01",
          "2002-03-01",
          "2002-04-01",
          "2002-05-01",
          "2002-06-01",
          "2002-07-01",
          "2002-08-01",
          "2002-09-01",
          "2002-10-01",
          "2002-11-01",
          "2002-12-01",
          "2003-01-01",
          "2003-02-01",
          "2003-03-01",
          "2003-04-01",
          "2003-05-01",
          "2003-06-01",
          "2003-07-01",
          "2003-08-01",
          "2003-09-01",
          "2003-10-01",
          "2003-11-01",
          "2003-12-01",
          "2004-01-01",
          "2004-02-01",
          "2004-03-01",
          "2004-04-01",
          "2004-05-01",
          "2004-06-01",
          "2004-07-01",
          "2004-08-01",
          "2004-09-01",
          "2004-10-01",
          "2004-11-01",
          "2004-12-01",
          "2005-01-01",
          "2005-02-01",
          "2005-03-01",
          "2005-04-01",
          "2005-05-01",
          "2005-06-01",
          "2005-07-01",
          "2005-08-01",
          "2005-09-01",
          "2005-10-01",
          "2005-11-01",
          "2005-12-01",
          "2006-01-01",
          "2006-02-01",
          "2006-03-01",
          "2006-04-01",
          "2006-05-01",
          "2006-06-01",
          "2006-07-01",
          "2006-08-01",
          "2006-09-01",
          "2006-10-01",
          "2006-11-01",
          "2006-12-01",
          "2007-01-01",
          "2007-02-01",
          "2007-03-01",
          "2007-04-01",
          "2007-05-01",
          "2007-06-01",
          "2007-07-01",
          "2007-08-01",
          "2007-09-01",
          "2007-10-01",
          "2007-11-01",
          "2007-12-01",
          "2008-01-01",
          "2008-02-01",
          "2008-03-01",
          "2008-04-01",
          "2008-05-01",
          "2008-06-01",
          "2008-07-01",
          "2008-08-01",
          "2008-09-01",
          "2008-10-01",
          "2008-11-01",
          "2008-12-01",
          "2009-01-01",
          "2009-02-01",
          "2009-03-01",
          "2009-04-01",
          "2009-05-01",
          "2009-06-01",
          "2009-07-01",
          "2009-08-01",
          "2009-09-01",
          "2009-10-01",
          "2009-11-01",
          "2009-12-01",
          "2010-01-01",
          "2010-02-01",
          "2010-03-01",
          "2010-04-01",
          "2010-05-01",
          "2010-06-01",
          "2010-07-01",
          "2010-08-01",
          "2010-09-01",
          "2010-10-01",
          "2010-11-01",
          "2010-12-01",
          "2011-01-01",
          "2011-02-01",
          "2011-03-01",
          "2011-04-01",
          "2011-05-01",
          "2011-06-01",
          "2011-07-01",
          "2011-08-01",
          "2011-09-01",
          "2011-10-01",
          "2011-11-01",
          "2011-12-01",
          "2012-01-01",
          "2012-02-01",
          "2012-03-01",
          "2012-04-01",
          "2012-05-01",
          "2012-06-01",
          "2012-07-01",
          "2012-08-01",
          "2012-09-01",
          "2012-10-01",
          "2012-11-01",
          "2012-12-01",
          "2013-01-01",
          "2013-02-01",
          "2013-03-01",
          "2013-04-01",
          "2013-05-01",
          "2013-06-01",
          "2013-07-01",
          "2013-08-01"
         ],
         "y": [
          32.160385500000004,
          35.490967500000004,
          38.38143049999999,
          33.64546999999999,
          26.834821,
          29.963349499999993,
          36.971377000000004,
          31.702144,
          32.159532999999996,
          50.6438415,
          37.81529849999999,
          42.184715,
          43.296887500000004,
          33.4221025,
          25.743856,
          30.92869,
          29.729628500000004,
          28.046710499999996,
          18.0918475,
          31.557064999999998,
          29.491485500000003,
          33.7360915,
          44.5525125,
          26.726136999999998,
          40.52756550000001,
          36.511196,
          30.293328500000005,
          40.923171499999995,
          33.511981,
          35.914626,
          35.77237250000001,
          25.5673985,
          35.278079,
          38.385560500000004,
          33.066575,
          37.208242,
          37.423607999999994,
          39.03914700000001,
          34.06065350000001,
          19.6887685,
          16.5834435,
          16.646238999999998,
          25.815852,
          26.492979000000002,
          29.943462000000004,
          25.1681165,
          28.438134499999993,
          24.289146499999998,
          17.435178,
          22.2373205,
          20.893975500000003,
          15.963405499999997,
          12.5684475,
          11.445651,
          16.4852455,
          19.7783525,
          19.206974500000005,
          23.389425999999997,
          21.2309545,
          24.1674815,
          22.3161385,
          27.475543000000002,
          27.497012999999992,
          30.996285500000003,
          29.014097500000005,
          19.905708,
          24.956611999999996,
          20.018658999999996,
          25.063527000000004,
          21.13279,
          28.5594195,
          30.362934999999993,
          36.823207999999994,
          22.9877475,
          19.6095095,
          27.617045000000005,
          37.13110149999999,
          39.43125049999999,
          35.21875149999999,
          28.689584500000002,
          28.149364000000006,
          42.454550499999996,
          40.1326095,
          49.039947000000005,
          22.1510725,
          35.326221,
          40.746261000000004,
          25.718658499999997,
          35.335417,
          30.800180500000007,
          35.274184500000004,
          40.72463699999999,
          35.746236,
          45.6603255,
          14.5616315,
          42.04052299999999,
          30.819097499999998,
          35.55581800000001,
          19.117323,
          25.257879999999997,
          28.5651415,
          32.987688999999996,
          26.83345449999999,
          28.400088500000003,
          34.02486100000001,
          47.769894,
          59.44313399999999,
          70.98805900000002,
          65.60249350000001,
          20.894112500000002,
          22.727395499999997,
          19.871919999999996,
          23.955253,
          21.791839499999995,
          23.557971,
          31.49800550000001,
          11.522034500000002,
          24.6586955,
          27.6540435,
          19.658531,
          39.193043,
          12.486363,
          26.796481,
          34.7207085,
          39.40379,
          17.0941735,
          19.083441,
          21.387400500000005,
          23.7521765,
          28.694596500000007,
          37.832158,
          21.281102500000003,
          30.98299950000001,
          26.016305499999998,
          18.652668999999992,
          20.459303,
          19.401494999999997,
          13.581365500000002,
          11.908704,
          12.861466499999995,
          17.10788625,
          22.358505,
          24.031367916666664,
          26.703606000000004,
          18.467203249999997,
          20.997484000000004,
          15.70755333333333,
          19.26304766666667,
          19.27712866666667,
          13.977506499999995,
          4.092326583333333,
          18.5441095,
          21.533774,
          17.7927985,
          19.58344675,
          22.35408775,
          13.664203999999998,
          10.520735083333335,
          12.830911249999998,
          10.809237249999999,
          9.95744125,
          5.7971052499999995,
          5.253108,
          6.540158166666667
         ]
        },
        {
         "line": {
          "color": "rgba(219, 64, 82, 1.0)",
          "dash": "solid",
          "shape": "linear",
          "width": 1.3
         },
         "mode": "lines",
         "name": "AverageTemperature",
         "text": "",
         "type": "scatter",
         "x": [
          "2000-01-01",
          "2000-02-01",
          "2000-03-01",
          "2000-04-01",
          "2000-05-01",
          "2000-06-01",
          "2000-07-01",
          "2000-08-01",
          "2000-09-01",
          "2000-10-01",
          "2000-11-01",
          "2000-12-01",
          "2001-01-01",
          "2001-02-01",
          "2001-03-01",
          "2001-04-01",
          "2001-05-01",
          "2001-06-01",
          "2001-07-01",
          "2001-08-01",
          "2001-09-01",
          "2001-10-01",
          "2001-11-01",
          "2001-12-01",
          "2002-01-01",
          "2002-02-01",
          "2002-03-01",
          "2002-04-01",
          "2002-05-01",
          "2002-06-01",
          "2002-07-01",
          "2002-08-01",
          "2002-09-01",
          "2002-10-01",
          "2002-11-01",
          "2002-12-01",
          "2003-01-01",
          "2003-02-01",
          "2003-03-01",
          "2003-04-01",
          "2003-05-01",
          "2003-06-01",
          "2003-07-01",
          "2003-08-01",
          "2003-09-01",
          "2003-10-01",
          "2003-11-01",
          "2003-12-01",
          "2004-01-01",
          "2004-02-01",
          "2004-03-01",
          "2004-04-01",
          "2004-05-01",
          "2004-06-01",
          "2004-07-01",
          "2004-08-01",
          "2004-09-01",
          "2004-10-01",
          "2004-11-01",
          "2004-12-01",
          "2005-01-01",
          "2005-02-01",
          "2005-03-01",
          "2005-04-01",
          "2005-05-01",
          "2005-06-01",
          "2005-07-01",
          "2005-08-01",
          "2005-09-01",
          "2005-10-01",
          "2005-11-01",
          "2005-12-01",
          "2006-01-01",
          "2006-02-01",
          "2006-03-01",
          "2006-04-01",
          "2006-05-01",
          "2006-06-01",
          "2006-07-01",
          "2006-08-01",
          "2006-09-01",
          "2006-10-01",
          "2006-11-01",
          "2006-12-01",
          "2007-01-01",
          "2007-02-01",
          "2007-03-01",
          "2007-04-01",
          "2007-05-01",
          "2007-06-01",
          "2007-07-01",
          "2007-08-01",
          "2007-09-01",
          "2007-10-01",
          "2007-11-01",
          "2007-12-01",
          "2008-01-01",
          "2008-02-01",
          "2008-03-01",
          "2008-04-01",
          "2008-05-01",
          "2008-06-01",
          "2008-07-01",
          "2008-08-01",
          "2008-09-01",
          "2008-10-01",
          "2008-11-01",
          "2008-12-01",
          "2009-01-01",
          "2009-02-01",
          "2009-03-01",
          "2009-04-01",
          "2009-05-01",
          "2009-06-01",
          "2009-07-01",
          "2009-08-01",
          "2009-09-01",
          "2009-10-01",
          "2009-11-01",
          "2009-12-01",
          "2010-01-01",
          "2010-02-01",
          "2010-03-01",
          "2010-04-01",
          "2010-05-01",
          "2010-06-01",
          "2010-07-01",
          "2010-08-01",
          "2010-09-01",
          "2010-10-01",
          "2010-11-01",
          "2010-12-01",
          "2011-01-01",
          "2011-02-01",
          "2011-03-01",
          "2011-04-01",
          "2011-05-01",
          "2011-06-01",
          "2011-07-01",
          "2011-08-01",
          "2011-09-01",
          "2011-10-01",
          "2011-11-01",
          "2011-12-01",
          "2012-01-01",
          "2012-02-01",
          "2012-03-01",
          "2012-04-01",
          "2012-05-01",
          "2012-06-01",
          "2012-07-01",
          "2012-08-01",
          "2012-09-01",
          "2012-10-01",
          "2012-11-01",
          "2012-12-01",
          "2013-01-01",
          "2013-02-01",
          "2013-03-01",
          "2013-04-01",
          "2013-05-01",
          "2013-06-01",
          "2013-07-01",
          "2013-08-01"
         ],
         "y": [
          -0.09699999999999998,
          3.38,
          9.113,
          11.591,
          18.559,
          22.689,
          22.476999999999997,
          22.808000000000003,
          18.748,
          13.848,
          6.274,
          -2.057,
          -0.419,
          3.172,
          4.638,
          12.612,
          17.412000000000006,
          22.812,
          22.839,
          24.933000000000003,
          18.863000000000003,
          13.333,
          10.369000000000002,
          5.359,
          3.603,
          4.184,
          7.194,
          13.707999999999998,
          16.956,
          23.171999999999997,
          25.759,
          25.552,
          20.985000000000007,
          12.960999999999999,
          6.7970000000000015,
          0.6920000000000001,
          -2.3369999999999997,
          -1.085,
          6.504,
          11.441,
          15.740000000000002,
          21.028000000000002,
          24.459000000000003,
          24.89,
          19.949,
          12.199000000000002,
          10.136000000000001,
          1.949,
          -2.7889999999999997,
          0.922,
          7.545,
          12.539000000000001,
          21.033,
          21.733,
          24.368,
          23.362,
          20.572000000000006,
          12.763,
          8.981,
          2.41,
          0.449,
          2.2769999999999997,
          4.1419999999999995,
          12.543,
          15.118000000000002,
          23.245,
          25.66800000000001,
          25.261999999999997,
          21.998,
          14.109000000000002,
          8.743,
          0.2699999999999998,
          4.497999999999998,
          1.982,
          6.934,
          13.605,
          17.038,
          22.412,
          25.83,
          25.315,
          18.518,
          12.398,
          9.122,
          5.4110000000000005,
          3.14,
          -2.353,
          6.945,
          10.552,
          18.644,
          23.064,
          24.544,
          24.94400000000001,
          21.151999999999997,
          17.014,
          7.313,
          2.642,
          1.531,
          2.175,
          6.768,
          12.946,
          15.85,
          23.81900000000001,
          24.94700000000001,
          22.75800000000001,
          20.453000000000007,
          12.375,
          6.837999999999999,
          2.708,
          -2.133,
          2.589,
          6,
          12.561,
          17.675,
          21.941999999999997,
          23.349,
          24.831,
          19.278,
          12.515999999999998,
          9.455,
          1.1889999999999998,
          -0.191,
          -0.721,
          8.815999999999997,
          14.207999999999998,
          18.928,
          24.801,
          26.520000000000003,
          24.851999999999997,
          21.403,
          13.977,
          7.518,
          -0.7410000000000001,
          -1.709,
          2.528,
          6.452000000000001,
          13.627,
          19.117,
          23.731,
          26.895000000000003,
          24.261999999999997,
          20.646,
          12.853,
          9.475,
          4.8100000000000005,
          2.3819999999999997,
          4.503,
          11.47,
          12.158,
          20.116,
          22.173000000000002,
          26.629,
          24.621,
          19.972,
          13.607000000000001,
          5.487,
          4.840999999999998,
          1.8419999999999999,
          1.043,
          4.303,
          12.425,
          17.134,
          22.919,
          25.658,
          22.721999999999998
         ]
        },
        {
         "line": {
          "color": "rgba(0, 128, 128, 1.0)",
          "dash": "solid",
          "shape": "linear",
          "width": 1.3
         },
         "mode": "lines",
         "name": "AverageTemperatureAnomaly",
         "text": "",
         "type": "scatter",
         "x": [
          "2000-01-01",
          "2000-02-01",
          "2000-03-01",
          "2000-04-01",
          "2000-05-01",
          "2000-06-01",
          "2000-07-01",
          "2000-08-01",
          "2000-09-01",
          "2000-10-01",
          "2000-11-01",
          "2000-12-01",
          "2001-01-01",
          "2001-02-01",
          "2001-03-01",
          "2001-04-01",
          "2001-05-01",
          "2001-06-01",
          "2001-07-01",
          "2001-08-01",
          "2001-09-01",
          "2001-10-01",
          "2001-11-01",
          "2001-12-01",
          "2002-01-01",
          "2002-02-01",
          "2002-03-01",
          "2002-04-01",
          "2002-05-01",
          "2002-06-01",
          "2002-07-01",
          "2002-08-01",
          "2002-09-01",
          "2002-10-01",
          "2002-11-01",
          "2002-12-01",
          "2003-01-01",
          "2003-02-01",
          "2003-03-01",
          "2003-04-01",
          "2003-05-01",
          "2003-06-01",
          "2003-07-01",
          "2003-08-01",
          "2003-09-01",
          "2003-10-01",
          "2003-11-01",
          "2003-12-01",
          "2004-01-01",
          "2004-02-01",
          "2004-03-01",
          "2004-04-01",
          "2004-05-01",
          "2004-06-01",
          "2004-07-01",
          "2004-08-01",
          "2004-09-01",
          "2004-10-01",
          "2004-11-01",
          "2004-12-01",
          "2005-01-01",
          "2005-02-01",
          "2005-03-01",
          "2005-04-01",
          "2005-05-01",
          "2005-06-01",
          "2005-07-01",
          "2005-08-01",
          "2005-09-01",
          "2005-10-01",
          "2005-11-01",
          "2005-12-01",
          "2006-01-01",
          "2006-02-01",
          "2006-03-01",
          "2006-04-01",
          "2006-05-01",
          "2006-06-01",
          "2006-07-01",
          "2006-08-01",
          "2006-09-01",
          "2006-10-01",
          "2006-11-01",
          "2006-12-01",
          "2007-01-01",
          "2007-02-01",
          "2007-03-01",
          "2007-04-01",
          "2007-05-01",
          "2007-06-01",
          "2007-07-01",
          "2007-08-01",
          "2007-09-01",
          "2007-10-01",
          "2007-11-01",
          "2007-12-01",
          "2008-01-01",
          "2008-02-01",
          "2008-03-01",
          "2008-04-01",
          "2008-05-01",
          "2008-06-01",
          "2008-07-01",
          "2008-08-01",
          "2008-09-01",
          "2008-10-01",
          "2008-11-01",
          "2008-12-01",
          "2009-01-01",
          "2009-02-01",
          "2009-03-01",
          "2009-04-01",
          "2009-05-01",
          "2009-06-01",
          "2009-07-01",
          "2009-08-01",
          "2009-09-01",
          "2009-10-01",
          "2009-11-01",
          "2009-12-01",
          "2010-01-01",
          "2010-02-01",
          "2010-03-01",
          "2010-04-01",
          "2010-05-01",
          "2010-06-01",
          "2010-07-01",
          "2010-08-01",
          "2010-09-01",
          "2010-10-01",
          "2010-11-01",
          "2010-12-01",
          "2011-01-01",
          "2011-02-01",
          "2011-03-01",
          "2011-04-01",
          "2011-05-01",
          "2011-06-01",
          "2011-07-01",
          "2011-08-01",
          "2011-09-01",
          "2011-10-01",
          "2011-11-01",
          "2011-12-01",
          "2012-01-01",
          "2012-02-01",
          "2012-03-01",
          "2012-04-01",
          "2012-05-01",
          "2012-06-01",
          "2012-07-01",
          "2012-08-01",
          "2012-09-01",
          "2012-10-01",
          "2012-11-01",
          "2012-12-01",
          "2013-01-01",
          "2013-02-01",
          "2013-03-01",
          "2013-04-01",
          "2013-05-01",
          "2013-06-01",
          "2013-07-01",
          "2013-08-01"
         ],
         "y": [
          0.214,
          0.267,
          0.14400000000000002,
          0.165,
          0.191,
          0.311,
          0.381,
          0.287,
          0.166,
          0.35600000000000004,
          0.21100000000000002,
          0.335,
          0.45299999999999996,
          0.48200000000000004,
          0.24600000000000002,
          0.281,
          0.20199999999999999,
          0.2,
          0.28,
          0.262,
          0.242,
          0.493,
          0.272,
          0.272,
          0.40700000000000003,
          0.408,
          0.281,
          0.24100000000000002,
          0.19899999999999998,
          0.285,
          0.429,
          0.19,
          0.174,
          0.196,
          0.259,
          0.07400000000000001,
          0.262,
          0.235,
          0.195,
          0.307,
          0.305,
          0.38,
          0.317,
          0.42200000000000004,
          0.26,
          0.34299999999999997,
          0.162,
          0.258,
          0.242,
          0.27,
          0.183,
          0.304,
          0.22,
          0.38799999999999996,
          0.325,
          0.275,
          0.20199999999999999,
          0.26,
          0.22899999999999998,
          0.20600000000000002,
          0.263,
          0.20600000000000002,
          0.24600000000000002,
          0.332,
          0.22899999999999998,
          0.354,
          0.414,
          0.23199999999999998,
          0.201,
          0.151,
          0.265,
          0.205,
          0.419,
          0.289,
          0.261,
          0.401,
          0.34299999999999997,
          0.21899999999999997,
          0.23,
          0.25,
          0.166,
          0.217,
          0.226,
          0.385,
          0.23,
          0.31,
          0.254,
          0.22,
          0.22699999999999998,
          0.266,
          0.258,
          0.304,
          0.384,
          0.204,
          0.18,
          0.248,
          0.267,
          0.254,
          0.28,
          0.19399999999999998,
          0.165,
          0.22699999999999998,
          0.14800000000000002,
          0.248,
          0.17,
          0.267,
          0.196,
          0.16699999999999998,
          0.228,
          0.21899999999999997,
          0.179,
          0.276,
          0.298,
          0.298,
          0.426,
          0.308,
          0.203,
          0.192,
          0.247,
          0.223,
          0.21100000000000002,
          0.325,
          0.272,
          0.22699999999999998,
          0.145,
          0.21899999999999997,
          0.278,
          0.316,
          0.125,
          0.139,
          0.253,
          0.35,
          0.254,
          0.26,
          0.185,
          0.23199999999999998,
          0.239,
          0.313,
          0.3,
          0.231,
          0.138,
          0.313,
          0.39799999999999996,
          0.429,
          0.38299999999999995,
          0.19,
          0.19399999999999998,
          0.324,
          0.223,
          0.449,
          0.503,
          0.392,
          0.247,
          0.32899999999999996,
          0.34700000000000003,
          0.35700000000000004,
          0.18100000000000002,
          0.217,
          0.21899999999999997,
          0.284,
          0.188,
          0.245,
          0.304,
          0.24100000000000002
         ]
        }
       ],
       "layout": {
        "legend": {
         "bgcolor": "#F5F6F9",
         "font": {
          "color": "#4D5663"
         }
        },
        "paper_bgcolor": "#F5F6F9",
        "plot_bgcolor": "#F5F6F9",
        "template": {
         "data": {
          "bar": [
           {
            "error_x": {
             "color": "#2a3f5f"
            },
            "error_y": {
             "color": "#2a3f5f"
            },
            "marker": {
             "line": {
              "color": "#E5ECF6",
              "width": 0.5
             }
            },
            "type": "bar"
           }
          ],
          "barpolar": [
           {
            "marker": {
             "line": {
              "color": "#E5ECF6",
              "width": 0.5
             }
            },
            "type": "barpolar"
           }
          ],
          "carpet": [
           {
            "aaxis": {
             "endlinecolor": "#2a3f5f",
             "gridcolor": "white",
             "linecolor": "white",
             "minorgridcolor": "white",
             "startlinecolor": "#2a3f5f"
            },
            "baxis": {
             "endlinecolor": "#2a3f5f",
             "gridcolor": "white",
             "linecolor": "white",
             "minorgridcolor": "white",
             "startlinecolor": "#2a3f5f"
            },
            "type": "carpet"
           }
          ],
          "choropleth": [
           {
            "colorbar": {
             "outlinewidth": 0,
             "ticks": ""
            },
            "type": "choropleth"
           }
          ],
          "contour": [
           {
            "colorbar": {
             "outlinewidth": 0,
             "ticks": ""
            },
            "colorscale": [
             [
              0,
              "#0d0887"
             ],
             [
              0.1111111111111111,
              "#46039f"
             ],
             [
              0.2222222222222222,
              "#7201a8"
             ],
             [
              0.3333333333333333,
              "#9c179e"
             ],
             [
              0.4444444444444444,
              "#bd3786"
             ],
             [
              0.5555555555555556,
              "#d8576b"
             ],
             [
              0.6666666666666666,
              "#ed7953"
             ],
             [
              0.7777777777777778,
              "#fb9f3a"
             ],
             [
              0.8888888888888888,
              "#fdca26"
             ],
             [
              1,
              "#f0f921"
             ]
            ],
            "type": "contour"
           }
          ],
          "contourcarpet": [
           {
            "colorbar": {
             "outlinewidth": 0,
             "ticks": ""
            },
            "type": "contourcarpet"
           }
          ],
          "heatmap": [
           {
            "colorbar": {
             "outlinewidth": 0,
             "ticks": ""
            },
            "colorscale": [
             [
              0,
              "#0d0887"
             ],
             [
              0.1111111111111111,
              "#46039f"
             ],
             [
              0.2222222222222222,
              "#7201a8"
             ],
             [
              0.3333333333333333,
              "#9c179e"
             ],
             [
              0.4444444444444444,
              "#bd3786"
             ],
             [
              0.5555555555555556,
              "#d8576b"
             ],
             [
              0.6666666666666666,
              "#ed7953"
             ],
             [
              0.7777777777777778,
              "#fb9f3a"
             ],
             [
              0.8888888888888888,
              "#fdca26"
             ],
             [
              1,
              "#f0f921"
             ]
            ],
            "type": "heatmap"
           }
          ],
          "heatmapgl": [
           {
            "colorbar": {
             "outlinewidth": 0,
             "ticks": ""
            },
            "colorscale": [
             [
              0,
              "#0d0887"
             ],
             [
              0.1111111111111111,
              "#46039f"
             ],
             [
              0.2222222222222222,
              "#7201a8"
             ],
             [
              0.3333333333333333,
              "#9c179e"
             ],
             [
              0.4444444444444444,
              "#bd3786"
             ],
             [
              0.5555555555555556,
              "#d8576b"
             ],
             [
              0.6666666666666666,
              "#ed7953"
             ],
             [
              0.7777777777777778,
              "#fb9f3a"
             ],
             [
              0.8888888888888888,
              "#fdca26"
             ],
             [
              1,
              "#f0f921"
             ]
            ],
            "type": "heatmapgl"
           }
          ],
          "histogram": [
           {
            "marker": {
             "colorbar": {
              "outlinewidth": 0,
              "ticks": ""
             }
            },
            "type": "histogram"
           }
          ],
          "histogram2d": [
           {
            "colorbar": {
             "outlinewidth": 0,
             "ticks": ""
            },
            "colorscale": [
             [
              0,
              "#0d0887"
             ],
             [
              0.1111111111111111,
              "#46039f"
             ],
             [
              0.2222222222222222,
              "#7201a8"
             ],
             [
              0.3333333333333333,
              "#9c179e"
             ],
             [
              0.4444444444444444,
              "#bd3786"
             ],
             [
              0.5555555555555556,
              "#d8576b"
             ],
             [
              0.6666666666666666,
              "#ed7953"
             ],
             [
              0.7777777777777778,
              "#fb9f3a"
             ],
             [
              0.8888888888888888,
              "#fdca26"
             ],
             [
              1,
              "#f0f921"
             ]
            ],
            "type": "histogram2d"
           }
          ],
          "histogram2dcontour": [
           {
            "colorbar": {
             "outlinewidth": 0,
             "ticks": ""
            },
            "colorscale": [
             [
              0,
              "#0d0887"
             ],
             [
              0.1111111111111111,
              "#46039f"
             ],
             [
              0.2222222222222222,
              "#7201a8"
             ],
             [
              0.3333333333333333,
              "#9c179e"
             ],
             [
              0.4444444444444444,
              "#bd3786"
             ],
             [
              0.5555555555555556,
              "#d8576b"
             ],
             [
              0.6666666666666666,
              "#ed7953"
             ],
             [
              0.7777777777777778,
              "#fb9f3a"
             ],
             [
              0.8888888888888888,
              "#fdca26"
             ],
             [
              1,
              "#f0f921"
             ]
            ],
            "type": "histogram2dcontour"
           }
          ],
          "mesh3d": [
           {
            "colorbar": {
             "outlinewidth": 0,
             "ticks": ""
            },
            "type": "mesh3d"
           }
          ],
          "parcoords": [
           {
            "line": {
             "colorbar": {
              "outlinewidth": 0,
              "ticks": ""
             }
            },
            "type": "parcoords"
           }
          ],
          "scatter": [
           {
            "marker": {
             "colorbar": {
              "outlinewidth": 0,
              "ticks": ""
             }
            },
            "type": "scatter"
           }
          ],
          "scatter3d": [
           {
            "line": {
             "colorbar": {
              "outlinewidth": 0,
              "ticks": ""
             }
            },
            "marker": {
             "colorbar": {
              "outlinewidth": 0,
              "ticks": ""
             }
            },
            "type": "scatter3d"
           }
          ],
          "scattercarpet": [
           {
            "marker": {
             "colorbar": {
              "outlinewidth": 0,
              "ticks": ""
             }
            },
            "type": "scattercarpet"
           }
          ],
          "scattergeo": [
           {
            "marker": {
             "colorbar": {
              "outlinewidth": 0,
              "ticks": ""
             }
            },
            "type": "scattergeo"
           }
          ],
          "scattergl": [
           {
            "marker": {
             "colorbar": {
              "outlinewidth": 0,
              "ticks": ""
             }
            },
            "type": "scattergl"
           }
          ],
          "scattermapbox": [
           {
            "marker": {
             "colorbar": {
              "outlinewidth": 0,
              "ticks": ""
             }
            },
            "type": "scattermapbox"
           }
          ],
          "scatterpolar": [
           {
            "marker": {
             "colorbar": {
              "outlinewidth": 0,
              "ticks": ""
             }
            },
            "type": "scatterpolar"
           }
          ],
          "scatterpolargl": [
           {
            "marker": {
             "colorbar": {
              "outlinewidth": 0,
              "ticks": ""
             }
            },
            "type": "scatterpolargl"
           }
          ],
          "scatterternary": [
           {
            "marker": {
             "colorbar": {
              "outlinewidth": 0,
              "ticks": ""
             }
            },
            "type": "scatterternary"
           }
          ],
          "surface": [
           {
            "colorbar": {
             "outlinewidth": 0,
             "ticks": ""
            },
            "colorscale": [
             [
              0,
              "#0d0887"
             ],
             [
              0.1111111111111111,
              "#46039f"
             ],
             [
              0.2222222222222222,
              "#7201a8"
             ],
             [
              0.3333333333333333,
              "#9c179e"
             ],
             [
              0.4444444444444444,
              "#bd3786"
             ],
             [
              0.5555555555555556,
              "#d8576b"
             ],
             [
              0.6666666666666666,
              "#ed7953"
             ],
             [
              0.7777777777777778,
              "#fb9f3a"
             ],
             [
              0.8888888888888888,
              "#fdca26"
             ],
             [
              1,
              "#f0f921"
             ]
            ],
            "type": "surface"
           }
          ],
          "table": [
           {
            "cells": {
             "fill": {
              "color": "#EBF0F8"
             },
             "line": {
              "color": "white"
             }
            },
            "header": {
             "fill": {
              "color": "#C8D4E3"
             },
             "line": {
              "color": "white"
             }
            },
            "type": "table"
           }
          ]
         },
         "layout": {
          "annotationdefaults": {
           "arrowcolor": "#2a3f5f",
           "arrowhead": 0,
           "arrowwidth": 1
          },
          "colorscale": {
           "diverging": [
            [
             0,
             "#8e0152"
            ],
            [
             0.1,
             "#c51b7d"
            ],
            [
             0.2,
             "#de77ae"
            ],
            [
             0.3,
             "#f1b6da"
            ],
            [
             0.4,
             "#fde0ef"
            ],
            [
             0.5,
             "#f7f7f7"
            ],
            [
             0.6,
             "#e6f5d0"
            ],
            [
             0.7,
             "#b8e186"
            ],
            [
             0.8,
             "#7fbc41"
            ],
            [
             0.9,
             "#4d9221"
            ],
            [
             1,
             "#276419"
            ]
           ],
           "sequential": [
            [
             0,
             "#0d0887"
            ],
            [
             0.1111111111111111,
             "#46039f"
            ],
            [
             0.2222222222222222,
             "#7201a8"
            ],
            [
             0.3333333333333333,
             "#9c179e"
            ],
            [
             0.4444444444444444,
             "#bd3786"
            ],
            [
             0.5555555555555556,
             "#d8576b"
            ],
            [
             0.6666666666666666,
             "#ed7953"
            ],
            [
             0.7777777777777778,
             "#fb9f3a"
            ],
            [
             0.8888888888888888,
             "#fdca26"
            ],
            [
             1,
             "#f0f921"
            ]
           ],
           "sequentialminus": [
            [
             0,
             "#0d0887"
            ],
            [
             0.1111111111111111,
             "#46039f"
            ],
            [
             0.2222222222222222,
             "#7201a8"
            ],
            [
             0.3333333333333333,
             "#9c179e"
            ],
            [
             0.4444444444444444,
             "#bd3786"
            ],
            [
             0.5555555555555556,
             "#d8576b"
            ],
            [
             0.6666666666666666,
             "#ed7953"
            ],
            [
             0.7777777777777778,
             "#fb9f3a"
            ],
            [
             0.8888888888888888,
             "#fdca26"
            ],
            [
             1,
             "#f0f921"
            ]
           ]
          },
          "colorway": [
           "#636efa",
           "#EF553B",
           "#00cc96",
           "#ab63fa",
           "#FFA15A",
           "#19d3f3",
           "#FF6692",
           "#B6E880",
           "#FF97FF",
           "#FECB52"
          ],
          "font": {
           "color": "#2a3f5f"
          },
          "geo": {
           "bgcolor": "white",
           "lakecolor": "white",
           "landcolor": "#E5ECF6",
           "showlakes": true,
           "showland": true,
           "subunitcolor": "white"
          },
          "hoverlabel": {
           "align": "left"
          },
          "hovermode": "closest",
          "mapbox": {
           "style": "light"
          },
          "paper_bgcolor": "white",
          "plot_bgcolor": "#E5ECF6",
          "polar": {
           "angularaxis": {
            "gridcolor": "white",
            "linecolor": "white",
            "ticks": ""
           },
           "bgcolor": "#E5ECF6",
           "radialaxis": {
            "gridcolor": "white",
            "linecolor": "white",
            "ticks": ""
           }
          },
          "scene": {
           "xaxis": {
            "backgroundcolor": "#E5ECF6",
            "gridcolor": "white",
            "gridwidth": 2,
            "linecolor": "white",
            "showbackground": true,
            "ticks": "",
            "zerolinecolor": "white"
           },
           "yaxis": {
            "backgroundcolor": "#E5ECF6",
            "gridcolor": "white",
            "gridwidth": 2,
            "linecolor": "white",
            "showbackground": true,
            "ticks": "",
            "zerolinecolor": "white"
           },
           "zaxis": {
            "backgroundcolor": "#E5ECF6",
            "gridcolor": "white",
            "gridwidth": 2,
            "linecolor": "white",
            "showbackground": true,
            "ticks": "",
            "zerolinecolor": "white"
           }
          },
          "shapedefaults": {
           "line": {
            "color": "#2a3f5f"
           }
          },
          "ternary": {
           "aaxis": {
            "gridcolor": "white",
            "linecolor": "white",
            "ticks": ""
           },
           "baxis": {
            "gridcolor": "white",
            "linecolor": "white",
            "ticks": ""
           },
           "bgcolor": "#E5ECF6",
           "caxis": {
            "gridcolor": "white",
            "linecolor": "white",
            "ticks": ""
           }
          },
          "title": {
           "x": 0.05
          },
          "xaxis": {
           "automargin": true,
           "gridcolor": "white",
           "linecolor": "white",
           "ticks": "",
           "zerolinecolor": "white",
           "zerolinewidth": 2
          },
          "yaxis": {
           "automargin": true,
           "gridcolor": "white",
           "linecolor": "white",
           "ticks": "",
           "zerolinecolor": "white",
           "zerolinewidth": 2
          }
         }
        },
        "title": {
         "font": {
          "color": "#4D5663"
         },
         "text": "Greenhouses gases Emission over Time"
        },
        "xaxis": {
         "gridcolor": "#E1E5ED",
         "showgrid": true,
         "tickfont": {
          "color": "#4D5663"
         },
         "title": {
          "font": {
           "color": "#4D5663"
          },
          "text": "Time (years)"
         },
         "zerolinecolor": "#E1E5ED"
        },
        "yaxis": {
         "gridcolor": "#E1E5ED",
         "showgrid": true,
         "tickfont": {
          "color": "#4D5663"
         },
         "title": {
          "font": {
           "color": "#4D5663"
          },
          "text": "Greenhouses gases in ppm"
         },
         "zerolinecolor": "#E1E5ED"
        }
       }
      },
      "text/html": [
       "<div>\n",
       "        \n",
       "        \n",
       "            <div id=\"ab1b134f-3b82-4ecd-ba55-8032ee9ef1bc\" class=\"plotly-graph-div\" style=\"height:525px; width:100%;\"></div>\n",
       "            <script type=\"text/javascript\">\n",
       "                require([\"plotly\"], function(Plotly) {\n",
       "                    window.PLOTLYENV=window.PLOTLYENV || {};\n",
       "                    window.PLOTLYENV.BASE_URL='https://plot.ly';\n",
       "                    \n",
       "                if (document.getElementById(\"ab1b134f-3b82-4ecd-ba55-8032ee9ef1bc\")) {\n",
       "                    Plotly.newPlot(\n",
       "                        'ab1b134f-3b82-4ecd-ba55-8032ee9ef1bc',\n",
       "                        [{\"line\": {\"color\": \"rgba(255, 153, 51, 1.0)\", \"dash\": \"solid\", \"shape\": \"linear\", \"width\": 1.3}, \"mode\": \"lines\", \"name\": \"NO2 Mean\", \"text\": \"\", \"type\": \"scatter\", \"x\": [\"2000-01-01\", \"2000-02-01\", \"2000-03-01\", \"2000-04-01\", \"2000-05-01\", \"2000-06-01\", \"2000-07-01\", \"2000-08-01\", \"2000-09-01\", \"2000-10-01\", \"2000-11-01\", \"2000-12-01\", \"2001-01-01\", \"2001-02-01\", \"2001-03-01\", \"2001-04-01\", \"2001-05-01\", \"2001-06-01\", \"2001-07-01\", \"2001-08-01\", \"2001-09-01\", \"2001-10-01\", \"2001-11-01\", \"2001-12-01\", \"2002-01-01\", \"2002-02-01\", \"2002-03-01\", \"2002-04-01\", \"2002-05-01\", \"2002-06-01\", \"2002-07-01\", \"2002-08-01\", \"2002-09-01\", \"2002-10-01\", \"2002-11-01\", \"2002-12-01\", \"2003-01-01\", \"2003-02-01\", \"2003-03-01\", \"2003-04-01\", \"2003-05-01\", \"2003-06-01\", \"2003-07-01\", \"2003-08-01\", \"2003-09-01\", \"2003-10-01\", \"2003-11-01\", \"2003-12-01\", \"2004-01-01\", \"2004-02-01\", \"2004-03-01\", \"2004-04-01\", \"2004-05-01\", \"2004-06-01\", \"2004-07-01\", \"2004-08-01\", \"2004-09-01\", \"2004-10-01\", \"2004-11-01\", \"2004-12-01\", \"2005-01-01\", \"2005-02-01\", \"2005-03-01\", \"2005-04-01\", \"2005-05-01\", \"2005-06-01\", \"2005-07-01\", \"2005-08-01\", \"2005-09-01\", \"2005-10-01\", \"2005-11-01\", \"2005-12-01\", \"2006-01-01\", \"2006-02-01\", \"2006-03-01\", \"2006-04-01\", \"2006-05-01\", \"2006-06-01\", \"2006-07-01\", \"2006-08-01\", \"2006-09-01\", \"2006-10-01\", \"2006-11-01\", \"2006-12-01\", \"2007-01-01\", \"2007-02-01\", \"2007-03-01\", \"2007-04-01\", \"2007-05-01\", \"2007-06-01\", \"2007-07-01\", \"2007-08-01\", \"2007-09-01\", \"2007-10-01\", \"2007-11-01\", \"2007-12-01\", \"2008-01-01\", \"2008-02-01\", \"2008-03-01\", \"2008-04-01\", \"2008-05-01\", \"2008-06-01\", \"2008-07-01\", \"2008-08-01\", \"2008-09-01\", \"2008-10-01\", \"2008-11-01\", \"2008-12-01\", \"2009-01-01\", \"2009-02-01\", \"2009-03-01\", \"2009-04-01\", \"2009-05-01\", \"2009-06-01\", \"2009-07-01\", \"2009-08-01\", \"2009-09-01\", \"2009-10-01\", \"2009-11-01\", \"2009-12-01\", \"2010-01-01\", \"2010-02-01\", \"2010-03-01\", \"2010-04-01\", \"2010-05-01\", \"2010-06-01\", \"2010-07-01\", \"2010-08-01\", \"2010-09-01\", \"2010-10-01\", \"2010-11-01\", \"2010-12-01\", \"2011-01-01\", \"2011-02-01\", \"2011-03-01\", \"2011-04-01\", \"2011-05-01\", \"2011-06-01\", \"2011-07-01\", \"2011-08-01\", \"2011-09-01\", \"2011-10-01\", \"2011-11-01\", \"2011-12-01\", \"2012-01-01\", \"2012-02-01\", \"2012-03-01\", \"2012-04-01\", \"2012-05-01\", \"2012-06-01\", \"2012-07-01\", \"2012-08-01\", \"2012-09-01\", \"2012-10-01\", \"2012-11-01\", \"2012-12-01\", \"2013-01-01\", \"2013-02-01\", \"2013-03-01\", \"2013-04-01\", \"2013-05-01\", \"2013-06-01\", \"2013-07-01\", \"2013-08-01\"], \"y\": [683.300847, 539.8210809999998, 782.5893319999999, 666.711299, 695.4370380000003, 679.1529949999999, 515.194661, 600.4795240000002, 571.85616, 901.6123180000002, 786.670339, 849.3355060000001, 991.249834, 735.8959159999998, 734.9696979999999, 759.5205860000001, 690.1879149999999, 695.9131000000001, 591.8222979999999, 645.2998990000001, 613.0584630000001, 708.238472, 821.3199950000001, 554.0584269999999, 894.7221679999999, 760.1669960000002, 743.3369570000001, 644.9634390000001, 631.4934119999998, 744.3433879999998, 723.260871, 730.8029389999999, 716.88587, 761.273766, 700.7173909999999, 869.0108709999998, 752.112156, 844.979251, 801.47826, 712.27174, 594.078495, 621.6910809999999, 606.5385389999999, 633.8901520000002, 539.9058769999999, 710.0561609999999, 664.8025360000001, 691.508072, 632.476451, 869.908104, 701.906951, 642.3337960000002, 482.8727499999999, 534.0107019999999, 515.162997, 554.0798759999999, 587.8019220000001, 746.883133, 668.016785, 692.6774889999998, 800.046773, 889.5362300000003, 777.2560930000001, 801.1431120000002, 657.5895910000002, 504.00101900000004, 548.4752619999999, 364.88196800000003, 485.9495310000001, 476.9166690000001, 549.6102720000001, 687.5108660000001, 549.2546110000001, 575.2699289999999, 540.1001340000001, 467.2857369999999, 471.725462, 362.58333300000004, 364.2083299999999, 445.4166649999999, 381.52207100000004, 450.519166, 571.9537230000001, 647.9552060000001, 350.819005, 505.50324700000004, 376.23863600000004, 439.28803999999997, 408.036232, 363.925397, 359.96558100000004, 376.42143899999996, 463.1324809999999, 467.1086929999999, 420.66123300000004, 648.686101, 482.87499999999994, 427.7026030000001, 584.538038, 511.61558, 507.5766679999999, 476.727276, 512.519056, 594.340249, 583.0615950000001, 638.9380759999999, 607.4705210000001, 573.4430629999999, 746.238683, 549.2419320000001, 612.8642950000001, 576.8488130000001, 447.798418, 474.1142009999999, 432.57164300000005, 469.7702549999999, 487.02778700000005, 537.156787, 657.0660379999997, 634.970521, 659.5376600000001, 638.5503950000001, 597.0429880000003, 533.1907110000001, 421.90897300000006, 444.576295, 496.590086, 493.532443, 468.1166939999999, 519.462003, 602.7310620000001, 547.1466799999998, 641.403783, 511.56818400000003, 512.693722, 404.928573, 415.8041119999999, 360.64740299999994, 430.38158799999997, 423.192251, 389.2763705, 474.84284149999996, 588.7781125, 624.5625913333334, 523.4227343333334, 549.2088905, 443.7930928333333, 436.3661913333333, 372.7600848333334, 319.00887900000004, 332.4292808333333, 513.770021, 534.1417770000002, 582.7719360000001, 636.3503385, 606.1144199999999, 575.7306014999999, 441.54206216666665, 335.9437960000001, 298.82215299999996, 260.2549075, 241.1644775, 191.46318949999997, 235.80330733333332]}, {\"line\": {\"color\": \"rgba(55, 128, 191, 1.0)\", \"dash\": \"solid\", \"shape\": \"linear\", \"width\": 1.3}, \"mode\": \"lines\", \"name\": \"O3 Mean\", \"text\": \"\", \"type\": \"scatter\", \"x\": [\"2000-01-01\", \"2000-02-01\", \"2000-03-01\", \"2000-04-01\", \"2000-05-01\", \"2000-06-01\", \"2000-07-01\", \"2000-08-01\", \"2000-09-01\", \"2000-10-01\", \"2000-11-01\", \"2000-12-01\", \"2001-01-01\", \"2001-02-01\", \"2001-03-01\", \"2001-04-01\", \"2001-05-01\", \"2001-06-01\", \"2001-07-01\", \"2001-08-01\", \"2001-09-01\", \"2001-10-01\", \"2001-11-01\", \"2001-12-01\", \"2002-01-01\", \"2002-02-01\", \"2002-03-01\", \"2002-04-01\", \"2002-05-01\", \"2002-06-01\", \"2002-07-01\", \"2002-08-01\", \"2002-09-01\", \"2002-10-01\", \"2002-11-01\", \"2002-12-01\", \"2003-01-01\", \"2003-02-01\", \"2003-03-01\", \"2003-04-01\", \"2003-05-01\", \"2003-06-01\", \"2003-07-01\", \"2003-08-01\", \"2003-09-01\", \"2003-10-01\", \"2003-11-01\", \"2003-12-01\", \"2004-01-01\", \"2004-02-01\", \"2004-03-01\", \"2004-04-01\", \"2004-05-01\", \"2004-06-01\", \"2004-07-01\", \"2004-08-01\", \"2004-09-01\", \"2004-10-01\", \"2004-11-01\", \"2004-12-01\", \"2005-01-01\", \"2005-02-01\", \"2005-03-01\", \"2005-04-01\", \"2005-05-01\", \"2005-06-01\", \"2005-07-01\", \"2005-08-01\", \"2005-09-01\", \"2005-10-01\", \"2005-11-01\", \"2005-12-01\", \"2006-01-01\", \"2006-02-01\", \"2006-03-01\", \"2006-04-01\", \"2006-05-01\", \"2006-06-01\", \"2006-07-01\", \"2006-08-01\", \"2006-09-01\", \"2006-10-01\", \"2006-11-01\", \"2006-12-01\", \"2007-01-01\", \"2007-02-01\", \"2007-03-01\", \"2007-04-01\", \"2007-05-01\", \"2007-06-01\", \"2007-07-01\", \"2007-08-01\", \"2007-09-01\", \"2007-10-01\", \"2007-11-01\", \"2007-12-01\", \"2008-01-01\", \"2008-02-01\", \"2008-03-01\", \"2008-04-01\", \"2008-05-01\", \"2008-06-01\", \"2008-07-01\", \"2008-08-01\", \"2008-09-01\", \"2008-10-01\", \"2008-11-01\", \"2008-12-01\", \"2009-01-01\", \"2009-02-01\", \"2009-03-01\", \"2009-04-01\", \"2009-05-01\", \"2009-06-01\", \"2009-07-01\", \"2009-08-01\", \"2009-09-01\", \"2009-10-01\", \"2009-11-01\", \"2009-12-01\", \"2010-01-01\", \"2010-02-01\", \"2010-03-01\", \"2010-04-01\", \"2010-05-01\", \"2010-06-01\", \"2010-07-01\", \"2010-08-01\", \"2010-09-01\", \"2010-10-01\", \"2010-11-01\", \"2010-12-01\", \"2011-01-01\", \"2011-02-01\", \"2011-03-01\", \"2011-04-01\", \"2011-05-01\", \"2011-06-01\", \"2011-07-01\", \"2011-08-01\", \"2011-09-01\", \"2011-10-01\", \"2011-11-01\", \"2011-12-01\", \"2012-01-01\", \"2012-02-01\", \"2012-03-01\", \"2012-04-01\", \"2012-05-01\", \"2012-06-01\", \"2012-07-01\", \"2012-08-01\", \"2012-09-01\", \"2012-10-01\", \"2012-11-01\", \"2012-12-01\", \"2013-01-01\", \"2013-02-01\", \"2013-03-01\", \"2013-04-01\", \"2013-05-01\", \"2013-06-01\", \"2013-07-01\", \"2013-08-01\"], \"y\": [0.36410200000000004, 0.35754299999999994, 0.497125, 0.5468770000000002, 0.8650689999999998, 0.8640380000000002, 0.7623310000000002, 0.7213609999999999, 0.49861900000000003, 0.39579000000000014, 0.296332, 0.225345, 0.231293, 0.33591599999999994, 0.511043, 0.692793, 0.8683750000000001, 0.9980349999999999, 0.872917, 0.9432940000000001, 0.662627, 0.6085849999999999, 0.40625100000000014, 0.17549800000000002, 0.32516500000000004, 0.44646, 0.64054, 0.7929999999999997, 0.9885799999999997, 1.1172370000000003, 1.2603359999999997, 1.23717, 0.7767080000000002, 0.44922599999999985, 0.407041, 0.373448, 0.37541500000000005, 0.277999, 0.469163, 0.6707080000000002, 0.48593300000000006, 0.87946, 1.045376, 0.9237079999999999, 0.6261140000000001, 0.4860430000000001, 0.3656220000000001, 0.38769599999999993, 0.46167, 0.420044, 0.6194990000000002, 0.762082, 0.895788, 0.791458, 0.8645439999999999, 0.7943330000000001, 0.50125, 0.328623, 0.319833, 0.33821200000000007, 0.34908300000000003, 0.380792, 0.682542, 0.6927709999999999, 0.6873359999999998, 0.8754160000000001, 0.8597099999999998, 1.0083340000000003, 0.8789370000000002, 0.479833, 0.5650409999999999, 0.37517800000000007, 0.5031220000000002, 0.5955430000000002, 0.9268770000000001, 0.9364600000000002, 1.073042, 1.1270819999999997, 1.2137490000000002, 1.2173749999999999, 0.7112920000000001, 0.5982090000000002, 0.44570600000000005, 0.39851000000000003, 0.38625099999999996, 0.5072509999999999, 0.696709, 0.919293, 1.1729159999999998, 1.1407499999999997, 1.1772930000000001, 1.212168, 0.9587490000000004, 0.661087, 0.39566700000000005, 0.419496, 0.5358409999999998, 0.46041599999999994, 0.9135439999999999, 0.8750829999999999, 0.9706169999999997, 1.136541, 1.282015, 1.008873, 0.7398740000000001, 0.573087, 0.494997, 0.5374840000000002, 0.5610830000000001, 0.7774110000000002, 0.85883, 0.916127, 0.780081, 0.897097, 0.9508329999999998, 0.8470400000000001, 0.5750040000000001, 0.512874, 0.40658400000000006, 0.48058600000000007, 0.5366240000000001, 0.661541, 0.8871250000000002, 0.888877, 0.905163, 1.1706569999999998, 1.2625440000000003, 1.2164149999999998, 0.9825839999999999, 0.6605829999999999, 0.506874, 0.600371, 0.531079, 0.690791, 0.9305700000000002, 0.9571659999999999, 1.0149299999999999, 1.1043680000000005, 1.3082120000000002, 0.9759040000000001, 0.6171300000000002, 0.4593255000000001, 0.5040081666666667, 0.350811, 0.4871463333333333, 0.5499171666666667, 0.870107, 0.9902091666666665, 1.0280491666666667, 1.1122565000000002, 1.1800881666666663, 1.2204679999999999, 0.923971, 0.6497075000000002, 0.45225050000000006, 0.37482249999999995, 0.48366049999999994, 0.5943811666666666, 0.973736, 1.1131025000000003, 0.990282, 0.927717, 0.922355, 0.9261996666666668]}, {\"line\": {\"color\": \"rgba(50, 171, 96, 1.0)\", \"dash\": \"solid\", \"shape\": \"linear\", \"width\": 1.3}, \"mode\": \"lines\", \"name\": \"SO2 Mean\", \"text\": \"\", \"type\": \"scatter\", \"x\": [\"2000-01-01\", \"2000-02-01\", \"2000-03-01\", \"2000-04-01\", \"2000-05-01\", \"2000-06-01\", \"2000-07-01\", \"2000-08-01\", \"2000-09-01\", \"2000-10-01\", \"2000-11-01\", \"2000-12-01\", \"2001-01-01\", \"2001-02-01\", \"2001-03-01\", \"2001-04-01\", \"2001-05-01\", \"2001-06-01\", \"2001-07-01\", \"2001-08-01\", \"2001-09-01\", \"2001-10-01\", \"2001-11-01\", \"2001-12-01\", \"2002-01-01\", \"2002-02-01\", \"2002-03-01\", \"2002-04-01\", \"2002-05-01\", \"2002-06-01\", \"2002-07-01\", \"2002-08-01\", \"2002-09-01\", \"2002-10-01\", \"2002-11-01\", \"2002-12-01\", \"2003-01-01\", \"2003-02-01\", \"2003-03-01\", \"2003-04-01\", \"2003-05-01\", \"2003-06-01\", \"2003-07-01\", \"2003-08-01\", \"2003-09-01\", \"2003-10-01\", \"2003-11-01\", \"2003-12-01\", \"2004-01-01\", \"2004-02-01\", \"2004-03-01\", \"2004-04-01\", \"2004-05-01\", \"2004-06-01\", \"2004-07-01\", \"2004-08-01\", \"2004-09-01\", \"2004-10-01\", \"2004-11-01\", \"2004-12-01\", \"2005-01-01\", \"2005-02-01\", \"2005-03-01\", \"2005-04-01\", \"2005-05-01\", \"2005-06-01\", \"2005-07-01\", \"2005-08-01\", \"2005-09-01\", \"2005-10-01\", \"2005-11-01\", \"2005-12-01\", \"2006-01-01\", \"2006-02-01\", \"2006-03-01\", \"2006-04-01\", \"2006-05-01\", \"2006-06-01\", \"2006-07-01\", \"2006-08-01\", \"2006-09-01\", \"2006-10-01\", \"2006-11-01\", \"2006-12-01\", \"2007-01-01\", \"2007-02-01\", \"2007-03-01\", \"2007-04-01\", \"2007-05-01\", \"2007-06-01\", \"2007-07-01\", \"2007-08-01\", \"2007-09-01\", \"2007-10-01\", \"2007-11-01\", \"2007-12-01\", \"2008-01-01\", \"2008-02-01\", \"2008-03-01\", \"2008-04-01\", \"2008-05-01\", \"2008-06-01\", \"2008-07-01\", \"2008-08-01\", \"2008-09-01\", \"2008-10-01\", \"2008-11-01\", \"2008-12-01\", \"2009-01-01\", \"2009-02-01\", \"2009-03-01\", \"2009-04-01\", \"2009-05-01\", \"2009-06-01\", \"2009-07-01\", \"2009-08-01\", \"2009-09-01\", \"2009-10-01\", \"2009-11-01\", \"2009-12-01\", \"2010-01-01\", \"2010-02-01\", \"2010-03-01\", \"2010-04-01\", \"2010-05-01\", \"2010-06-01\", \"2010-07-01\", \"2010-08-01\", \"2010-09-01\", \"2010-10-01\", \"2010-11-01\", \"2010-12-01\", \"2011-01-01\", \"2011-02-01\", \"2011-03-01\", \"2011-04-01\", \"2011-05-01\", \"2011-06-01\", \"2011-07-01\", \"2011-08-01\", \"2011-09-01\", \"2011-10-01\", \"2011-11-01\", \"2011-12-01\", \"2012-01-01\", \"2012-02-01\", \"2012-03-01\", \"2012-04-01\", \"2012-05-01\", \"2012-06-01\", \"2012-07-01\", \"2012-08-01\", \"2012-09-01\", \"2012-10-01\", \"2012-11-01\", \"2012-12-01\", \"2013-01-01\", \"2013-02-01\", \"2013-03-01\", \"2013-04-01\", \"2013-05-01\", \"2013-06-01\", \"2013-07-01\", \"2013-08-01\"], \"y\": [358.04571599999997, 284.93944049999993, 202.28372299999998, 156.87967949999998, 199.12019050000004, 203.60725000000005, 207.41786800000003, 169.49098800000002, 196.71591450000003, 271.88749050000007, 284.5572855, 427.11895649999997, 404.93539000000004, 171.93207049999998, 206.57714249999998, 223.020759, 137.81401400000001, 195.62358849999998, 296.6338255, 239.39690999999996, 111.15900599999999, 110.1028075, 135.2355145, 88.8896655, 185.25146450000003, 117.25729799999999, 253.30573200000003, 250.61679650000008, 253.473227, 274.55232400000006, 208.65714350000005, 160.33749899999998, 132.966083, 152.75633549999998, 201.95596900000004, 259.00880000000006, 339.1244474999999, 284.80735849999996, 300.23765349999996, 203.71890600000006, 154.38927800000002, 222.71010950000007, 214.69639100000006, 226.204393, 190.73936450000002, 222.9258235, 357.265778, 287.850897, 242.830279, 231.430188, 176.81492300000002, 243.111064, 272.4738315000001, 273.03033049999993, 307.643631, 143.406148, 80.170647, 90.23284600000002, 125.64616699999999, 170.1261535, 208.97406499999997, 181.36002900000003, 164.53970050000004, 115.6518835, 87.888559, 89.212314, 68.105546, 98.8143575, 83.011299, 105.62615100000001, 153.492057, 266.51502250000004, 187.64204049999998, 167.1097435, 196.64560050000003, 100.10950650000001, 100.81458199999997, 99.097917, 116.7979165, 129.1875005, 99.60301700000001, 104.79070449999999, 138.36550450000001, 211.46201900000003, 114.249123, 199.37007450000004, 125.91187750000002, 115.00551300000004, 137.35864450000003, 131.35687650000003, 127.334019, 169.334456, 131.92308949999997, 131.67870100000002, 140.312617, 172.87671600000004, 169.6958335, 163.556879, 178.44892549999997, 130.03637400000002, 120.5138105, 148.49958800000005, 168.3594375, 177.276596, 160.7563105, 160.452877, 186.47398399999994, 236.2507375, 309.34151549999996, 223.94706349999996, 195.4324325, 175.06806949999995, 149.90251249999997, 83.27656199999998, 94.12312999999999, 98.58660850000001, 75.0451295, 58.83805199999998, 68.14172049999999, 107.81691949999998, 131.40513500000003, 117.8867685, 94.72467999999999, 73.63640599999998, 70.86021149999999, 91.40883249999999, 103.357548, 85.81518750000001, 90.3324255, 93.90323150000002, 105.08346250000001, 164.9410695, 185.10316099999997, 157.50804000000002, 144.382936, 130.340036, 133.65830749999998, 126.49848700000003, 157.52683950000002, 144.13695249999998, 94.328893, 62.475635749999995, 29.799812166666673, 59.540611833333315, 43.80851941666667, 43.241296, 46.393157333333335, 48.948851416666656, 44.37333016666666, 46.005377499999994, 57.78146925, 55.779853499999994, 56.42860599999999, 34.036572500000005, 68.51352274999999, 66.59617800000001, 54.31027950000001, 45.598864750000004, 46.01616624999999, 42.45468375, 25.652624749999998, 26.448650000000004, 24.873497249999996, 22.85436208333334]}, {\"line\": {\"color\": \"rgba(128, 0, 128, 1.0)\", \"dash\": \"solid\", \"shape\": \"linear\", \"width\": 1.3}, \"mode\": \"lines\", \"name\": \"CO Mean\", \"text\": \"\", \"type\": \"scatter\", \"x\": [\"2000-01-01\", \"2000-02-01\", \"2000-03-01\", \"2000-04-01\", \"2000-05-01\", \"2000-06-01\", \"2000-07-01\", \"2000-08-01\", \"2000-09-01\", \"2000-10-01\", \"2000-11-01\", \"2000-12-01\", \"2001-01-01\", \"2001-02-01\", \"2001-03-01\", \"2001-04-01\", \"2001-05-01\", \"2001-06-01\", \"2001-07-01\", \"2001-08-01\", \"2001-09-01\", \"2001-10-01\", \"2001-11-01\", \"2001-12-01\", \"2002-01-01\", \"2002-02-01\", \"2002-03-01\", \"2002-04-01\", \"2002-05-01\", \"2002-06-01\", \"2002-07-01\", \"2002-08-01\", \"2002-09-01\", \"2002-10-01\", \"2002-11-01\", \"2002-12-01\", \"2003-01-01\", \"2003-02-01\", \"2003-03-01\", \"2003-04-01\", \"2003-05-01\", \"2003-06-01\", \"2003-07-01\", \"2003-08-01\", \"2003-09-01\", \"2003-10-01\", \"2003-11-01\", \"2003-12-01\", \"2004-01-01\", \"2004-02-01\", \"2004-03-01\", \"2004-04-01\", \"2004-05-01\", \"2004-06-01\", \"2004-07-01\", \"2004-08-01\", \"2004-09-01\", \"2004-10-01\", \"2004-11-01\", \"2004-12-01\", \"2005-01-01\", \"2005-02-01\", \"2005-03-01\", \"2005-04-01\", \"2005-05-01\", \"2005-06-01\", \"2005-07-01\", \"2005-08-01\", \"2005-09-01\", \"2005-10-01\", \"2005-11-01\", \"2005-12-01\", \"2006-01-01\", \"2006-02-01\", \"2006-03-01\", \"2006-04-01\", \"2006-05-01\", \"2006-06-01\", \"2006-07-01\", \"2006-08-01\", \"2006-09-01\", \"2006-10-01\", \"2006-11-01\", \"2006-12-01\", \"2007-01-01\", \"2007-02-01\", \"2007-03-01\", \"2007-04-01\", \"2007-05-01\", \"2007-06-01\", \"2007-07-01\", \"2007-08-01\", \"2007-09-01\", \"2007-10-01\", \"2007-11-01\", \"2007-12-01\", \"2008-01-01\", \"2008-02-01\", \"2008-03-01\", \"2008-04-01\", \"2008-05-01\", \"2008-06-01\", \"2008-07-01\", \"2008-08-01\", \"2008-09-01\", \"2008-10-01\", \"2008-11-01\", \"2008-12-01\", \"2009-01-01\", \"2009-02-01\", \"2009-03-01\", \"2009-04-01\", \"2009-05-01\", \"2009-06-01\", \"2009-07-01\", \"2009-08-01\", \"2009-09-01\", \"2009-10-01\", \"2009-11-01\", \"2009-12-01\", \"2010-01-01\", \"2010-02-01\", \"2010-03-01\", \"2010-04-01\", \"2010-05-01\", \"2010-06-01\", \"2010-07-01\", \"2010-08-01\", \"2010-09-01\", \"2010-10-01\", \"2010-11-01\", \"2010-12-01\", \"2011-01-01\", \"2011-02-01\", \"2011-03-01\", \"2011-04-01\", \"2011-05-01\", \"2011-06-01\", \"2011-07-01\", \"2011-08-01\", \"2011-09-01\", \"2011-10-01\", \"2011-11-01\", \"2011-12-01\", \"2012-01-01\", \"2012-02-01\", \"2012-03-01\", \"2012-04-01\", \"2012-05-01\", \"2012-06-01\", \"2012-07-01\", \"2012-08-01\", \"2012-09-01\", \"2012-10-01\", \"2012-11-01\", \"2012-12-01\", \"2013-01-01\", \"2013-02-01\", \"2013-03-01\", \"2013-04-01\", \"2013-05-01\", \"2013-06-01\", \"2013-07-01\", \"2013-08-01\"], \"y\": [32.160385500000004, 35.490967500000004, 38.38143049999999, 33.64546999999999, 26.834821, 29.963349499999993, 36.971377000000004, 31.702144, 32.159532999999996, 50.6438415, 37.81529849999999, 42.184715, 43.296887500000004, 33.4221025, 25.743856, 30.92869, 29.729628500000004, 28.046710499999996, 18.0918475, 31.557064999999998, 29.491485500000003, 33.7360915, 44.5525125, 26.726136999999998, 40.52756550000001, 36.511196, 30.293328500000005, 40.923171499999995, 33.511981, 35.914626, 35.77237250000001, 25.5673985, 35.278079, 38.385560500000004, 33.066575, 37.208242, 37.423607999999994, 39.03914700000001, 34.06065350000001, 19.6887685, 16.5834435, 16.646238999999998, 25.815852, 26.492979000000002, 29.943462000000004, 25.1681165, 28.438134499999993, 24.289146499999998, 17.435178, 22.2373205, 20.893975500000003, 15.963405499999997, 12.5684475, 11.445651, 16.4852455, 19.7783525, 19.206974500000005, 23.389425999999997, 21.2309545, 24.1674815, 22.3161385, 27.475543000000002, 27.497012999999992, 30.996285500000003, 29.014097500000005, 19.905708, 24.956611999999996, 20.018658999999996, 25.063527000000004, 21.13279, 28.5594195, 30.362934999999993, 36.823207999999994, 22.9877475, 19.6095095, 27.617045000000005, 37.13110149999999, 39.43125049999999, 35.21875149999999, 28.689584500000002, 28.149364000000006, 42.454550499999996, 40.1326095, 49.039947000000005, 22.1510725, 35.326221, 40.746261000000004, 25.718658499999997, 35.335417, 30.800180500000007, 35.274184500000004, 40.72463699999999, 35.746236, 45.6603255, 14.5616315, 42.04052299999999, 30.819097499999998, 35.55581800000001, 19.117323, 25.257879999999997, 28.5651415, 32.987688999999996, 26.83345449999999, 28.400088500000003, 34.02486100000001, 47.769894, 59.44313399999999, 70.98805900000002, 65.60249350000001, 20.894112500000002, 22.727395499999997, 19.871919999999996, 23.955253, 21.791839499999995, 23.557971, 31.49800550000001, 11.522034500000002, 24.6586955, 27.6540435, 19.658531, 39.193043, 12.486363, 26.796481, 34.7207085, 39.40379, 17.0941735, 19.083441, 21.387400500000005, 23.7521765, 28.694596500000007, 37.832158, 21.281102500000003, 30.98299950000001, 26.016305499999998, 18.652668999999992, 20.459303, 19.401494999999997, 13.581365500000002, 11.908704, 12.861466499999995, 17.10788625, 22.358505, 24.031367916666664, 26.703606000000004, 18.467203249999997, 20.997484000000004, 15.70755333333333, 19.26304766666667, 19.27712866666667, 13.977506499999995, 4.092326583333333, 18.5441095, 21.533774, 17.7927985, 19.58344675, 22.35408775, 13.664203999999998, 10.520735083333335, 12.830911249999998, 10.809237249999999, 9.95744125, 5.7971052499999995, 5.253108, 6.540158166666667]}, {\"line\": {\"color\": \"rgba(219, 64, 82, 1.0)\", \"dash\": \"solid\", \"shape\": \"linear\", \"width\": 1.3}, \"mode\": \"lines\", \"name\": \"AverageTemperature\", \"text\": \"\", \"type\": \"scatter\", \"x\": [\"2000-01-01\", \"2000-02-01\", \"2000-03-01\", \"2000-04-01\", \"2000-05-01\", \"2000-06-01\", \"2000-07-01\", \"2000-08-01\", \"2000-09-01\", \"2000-10-01\", \"2000-11-01\", \"2000-12-01\", \"2001-01-01\", \"2001-02-01\", \"2001-03-01\", \"2001-04-01\", \"2001-05-01\", \"2001-06-01\", \"2001-07-01\", \"2001-08-01\", \"2001-09-01\", \"2001-10-01\", \"2001-11-01\", \"2001-12-01\", \"2002-01-01\", \"2002-02-01\", \"2002-03-01\", \"2002-04-01\", \"2002-05-01\", \"2002-06-01\", \"2002-07-01\", \"2002-08-01\", \"2002-09-01\", \"2002-10-01\", \"2002-11-01\", \"2002-12-01\", \"2003-01-01\", \"2003-02-01\", \"2003-03-01\", \"2003-04-01\", \"2003-05-01\", \"2003-06-01\", \"2003-07-01\", \"2003-08-01\", \"2003-09-01\", \"2003-10-01\", \"2003-11-01\", \"2003-12-01\", \"2004-01-01\", \"2004-02-01\", \"2004-03-01\", \"2004-04-01\", \"2004-05-01\", \"2004-06-01\", \"2004-07-01\", \"2004-08-01\", \"2004-09-01\", \"2004-10-01\", \"2004-11-01\", \"2004-12-01\", \"2005-01-01\", \"2005-02-01\", \"2005-03-01\", \"2005-04-01\", \"2005-05-01\", \"2005-06-01\", \"2005-07-01\", \"2005-08-01\", \"2005-09-01\", \"2005-10-01\", \"2005-11-01\", \"2005-12-01\", \"2006-01-01\", \"2006-02-01\", \"2006-03-01\", \"2006-04-01\", \"2006-05-01\", \"2006-06-01\", \"2006-07-01\", \"2006-08-01\", \"2006-09-01\", \"2006-10-01\", \"2006-11-01\", \"2006-12-01\", \"2007-01-01\", \"2007-02-01\", \"2007-03-01\", \"2007-04-01\", \"2007-05-01\", \"2007-06-01\", \"2007-07-01\", \"2007-08-01\", \"2007-09-01\", \"2007-10-01\", \"2007-11-01\", \"2007-12-01\", \"2008-01-01\", \"2008-02-01\", \"2008-03-01\", \"2008-04-01\", \"2008-05-01\", \"2008-06-01\", \"2008-07-01\", \"2008-08-01\", \"2008-09-01\", \"2008-10-01\", \"2008-11-01\", \"2008-12-01\", \"2009-01-01\", \"2009-02-01\", \"2009-03-01\", \"2009-04-01\", \"2009-05-01\", \"2009-06-01\", \"2009-07-01\", \"2009-08-01\", \"2009-09-01\", \"2009-10-01\", \"2009-11-01\", \"2009-12-01\", \"2010-01-01\", \"2010-02-01\", \"2010-03-01\", \"2010-04-01\", \"2010-05-01\", \"2010-06-01\", \"2010-07-01\", \"2010-08-01\", \"2010-09-01\", \"2010-10-01\", \"2010-11-01\", \"2010-12-01\", \"2011-01-01\", \"2011-02-01\", \"2011-03-01\", \"2011-04-01\", \"2011-05-01\", \"2011-06-01\", \"2011-07-01\", \"2011-08-01\", \"2011-09-01\", \"2011-10-01\", \"2011-11-01\", \"2011-12-01\", \"2012-01-01\", \"2012-02-01\", \"2012-03-01\", \"2012-04-01\", \"2012-05-01\", \"2012-06-01\", \"2012-07-01\", \"2012-08-01\", \"2012-09-01\", \"2012-10-01\", \"2012-11-01\", \"2012-12-01\", \"2013-01-01\", \"2013-02-01\", \"2013-03-01\", \"2013-04-01\", \"2013-05-01\", \"2013-06-01\", \"2013-07-01\", \"2013-08-01\"], \"y\": [-0.09699999999999998, 3.38, 9.113, 11.591, 18.559, 22.689, 22.476999999999997, 22.808000000000003, 18.748, 13.848, 6.274, -2.057, -0.419, 3.172, 4.638, 12.612, 17.412000000000006, 22.812, 22.839, 24.933000000000003, 18.863000000000003, 13.333, 10.369000000000002, 5.359, 3.603, 4.184, 7.194, 13.707999999999998, 16.956, 23.171999999999997, 25.759, 25.552, 20.985000000000007, 12.960999999999999, 6.7970000000000015, 0.6920000000000001, -2.3369999999999997, -1.085, 6.504, 11.441, 15.740000000000002, 21.028000000000002, 24.459000000000003, 24.89, 19.949, 12.199000000000002, 10.136000000000001, 1.949, -2.7889999999999997, 0.922, 7.545, 12.539000000000001, 21.033, 21.733, 24.368, 23.362, 20.572000000000006, 12.763, 8.981, 2.41, 0.449, 2.2769999999999997, 4.1419999999999995, 12.543, 15.118000000000002, 23.245, 25.66800000000001, 25.261999999999997, 21.998, 14.109000000000002, 8.743, 0.2699999999999998, 4.497999999999998, 1.982, 6.934, 13.605, 17.038, 22.412, 25.83, 25.315, 18.518, 12.398, 9.122, 5.4110000000000005, 3.14, -2.353, 6.945, 10.552, 18.644, 23.064, 24.544, 24.94400000000001, 21.151999999999997, 17.014, 7.313, 2.642, 1.531, 2.175, 6.768, 12.946, 15.85, 23.81900000000001, 24.94700000000001, 22.75800000000001, 20.453000000000007, 12.375, 6.837999999999999, 2.708, -2.133, 2.589, 6.0, 12.561, 17.675, 21.941999999999997, 23.349, 24.831, 19.278, 12.515999999999998, 9.455, 1.1889999999999998, -0.191, -0.721, 8.815999999999997, 14.207999999999998, 18.928, 24.801, 26.520000000000003, 24.851999999999997, 21.403, 13.977, 7.518, -0.7410000000000001, -1.709, 2.528, 6.452000000000001, 13.627, 19.117, 23.731, 26.895000000000003, 24.261999999999997, 20.646, 12.853, 9.475, 4.8100000000000005, 2.3819999999999997, 4.503, 11.47, 12.158, 20.116, 22.173000000000002, 26.629, 24.621, 19.972, 13.607000000000001, 5.487, 4.840999999999998, 1.8419999999999999, 1.043, 4.303, 12.425, 17.134, 22.919, 25.658, 22.721999999999998]}, {\"line\": {\"color\": \"rgba(0, 128, 128, 1.0)\", \"dash\": \"solid\", \"shape\": \"linear\", \"width\": 1.3}, \"mode\": \"lines\", \"name\": \"AverageTemperatureAnomaly\", \"text\": \"\", \"type\": \"scatter\", \"x\": [\"2000-01-01\", \"2000-02-01\", \"2000-03-01\", \"2000-04-01\", \"2000-05-01\", \"2000-06-01\", \"2000-07-01\", \"2000-08-01\", \"2000-09-01\", \"2000-10-01\", \"2000-11-01\", \"2000-12-01\", \"2001-01-01\", \"2001-02-01\", \"2001-03-01\", \"2001-04-01\", \"2001-05-01\", \"2001-06-01\", \"2001-07-01\", \"2001-08-01\", \"2001-09-01\", \"2001-10-01\", \"2001-11-01\", \"2001-12-01\", \"2002-01-01\", \"2002-02-01\", \"2002-03-01\", \"2002-04-01\", \"2002-05-01\", \"2002-06-01\", \"2002-07-01\", \"2002-08-01\", \"2002-09-01\", \"2002-10-01\", \"2002-11-01\", \"2002-12-01\", \"2003-01-01\", \"2003-02-01\", \"2003-03-01\", \"2003-04-01\", \"2003-05-01\", \"2003-06-01\", \"2003-07-01\", \"2003-08-01\", \"2003-09-01\", \"2003-10-01\", \"2003-11-01\", \"2003-12-01\", \"2004-01-01\", \"2004-02-01\", \"2004-03-01\", \"2004-04-01\", \"2004-05-01\", \"2004-06-01\", \"2004-07-01\", \"2004-08-01\", \"2004-09-01\", \"2004-10-01\", \"2004-11-01\", \"2004-12-01\", \"2005-01-01\", \"2005-02-01\", \"2005-03-01\", \"2005-04-01\", \"2005-05-01\", \"2005-06-01\", \"2005-07-01\", \"2005-08-01\", \"2005-09-01\", \"2005-10-01\", \"2005-11-01\", \"2005-12-01\", \"2006-01-01\", \"2006-02-01\", \"2006-03-01\", \"2006-04-01\", \"2006-05-01\", \"2006-06-01\", \"2006-07-01\", \"2006-08-01\", \"2006-09-01\", \"2006-10-01\", \"2006-11-01\", \"2006-12-01\", \"2007-01-01\", \"2007-02-01\", \"2007-03-01\", \"2007-04-01\", \"2007-05-01\", \"2007-06-01\", \"2007-07-01\", \"2007-08-01\", \"2007-09-01\", \"2007-10-01\", \"2007-11-01\", \"2007-12-01\", \"2008-01-01\", \"2008-02-01\", \"2008-03-01\", \"2008-04-01\", \"2008-05-01\", \"2008-06-01\", \"2008-07-01\", \"2008-08-01\", \"2008-09-01\", \"2008-10-01\", \"2008-11-01\", \"2008-12-01\", \"2009-01-01\", \"2009-02-01\", \"2009-03-01\", \"2009-04-01\", \"2009-05-01\", \"2009-06-01\", \"2009-07-01\", \"2009-08-01\", \"2009-09-01\", \"2009-10-01\", \"2009-11-01\", \"2009-12-01\", \"2010-01-01\", \"2010-02-01\", \"2010-03-01\", \"2010-04-01\", \"2010-05-01\", \"2010-06-01\", \"2010-07-01\", \"2010-08-01\", \"2010-09-01\", \"2010-10-01\", \"2010-11-01\", \"2010-12-01\", \"2011-01-01\", \"2011-02-01\", \"2011-03-01\", \"2011-04-01\", \"2011-05-01\", \"2011-06-01\", \"2011-07-01\", \"2011-08-01\", \"2011-09-01\", \"2011-10-01\", \"2011-11-01\", \"2011-12-01\", \"2012-01-01\", \"2012-02-01\", \"2012-03-01\", \"2012-04-01\", \"2012-05-01\", \"2012-06-01\", \"2012-07-01\", \"2012-08-01\", \"2012-09-01\", \"2012-10-01\", \"2012-11-01\", \"2012-12-01\", \"2013-01-01\", \"2013-02-01\", \"2013-03-01\", \"2013-04-01\", \"2013-05-01\", \"2013-06-01\", \"2013-07-01\", \"2013-08-01\"], \"y\": [0.214, 0.267, 0.14400000000000002, 0.165, 0.191, 0.311, 0.381, 0.287, 0.166, 0.35600000000000004, 0.21100000000000002, 0.335, 0.45299999999999996, 0.48200000000000004, 0.24600000000000002, 0.281, 0.20199999999999999, 0.2, 0.28, 0.262, 0.242, 0.493, 0.272, 0.272, 0.40700000000000003, 0.408, 0.281, 0.24100000000000002, 0.19899999999999998, 0.285, 0.429, 0.19, 0.174, 0.196, 0.259, 0.07400000000000001, 0.262, 0.235, 0.195, 0.307, 0.305, 0.38, 0.317, 0.42200000000000004, 0.26, 0.34299999999999997, 0.162, 0.258, 0.242, 0.27, 0.183, 0.304, 0.22, 0.38799999999999996, 0.325, 0.275, 0.20199999999999999, 0.26, 0.22899999999999998, 0.20600000000000002, 0.263, 0.20600000000000002, 0.24600000000000002, 0.332, 0.22899999999999998, 0.354, 0.414, 0.23199999999999998, 0.201, 0.151, 0.265, 0.205, 0.419, 0.289, 0.261, 0.401, 0.34299999999999997, 0.21899999999999997, 0.23, 0.25, 0.166, 0.217, 0.226, 0.385, 0.23, 0.31, 0.254, 0.22, 0.22699999999999998, 0.266, 0.258, 0.304, 0.384, 0.204, 0.18, 0.248, 0.267, 0.254, 0.28, 0.19399999999999998, 0.165, 0.22699999999999998, 0.14800000000000002, 0.248, 0.17, 0.267, 0.196, 0.16699999999999998, 0.228, 0.21899999999999997, 0.179, 0.276, 0.298, 0.298, 0.426, 0.308, 0.203, 0.192, 0.247, 0.223, 0.21100000000000002, 0.325, 0.272, 0.22699999999999998, 0.145, 0.21899999999999997, 0.278, 0.316, 0.125, 0.139, 0.253, 0.35, 0.254, 0.26, 0.185, 0.23199999999999998, 0.239, 0.313, 0.3, 0.231, 0.138, 0.313, 0.39799999999999996, 0.429, 0.38299999999999995, 0.19, 0.19399999999999998, 0.324, 0.223, 0.449, 0.503, 0.392, 0.247, 0.32899999999999996, 0.34700000000000003, 0.35700000000000004, 0.18100000000000002, 0.217, 0.21899999999999997, 0.284, 0.188, 0.245, 0.304, 0.24100000000000002]}],\n",
       "                        {\"legend\": {\"bgcolor\": \"#F5F6F9\", \"font\": {\"color\": \"#4D5663\"}}, \"paper_bgcolor\": \"#F5F6F9\", \"plot_bgcolor\": \"#F5F6F9\", \"template\": {\"data\": {\"bar\": [{\"error_x\": {\"color\": \"#2a3f5f\"}, \"error_y\": {\"color\": \"#2a3f5f\"}, \"marker\": {\"line\": {\"color\": \"#E5ECF6\", \"width\": 0.5}}, \"type\": \"bar\"}], \"barpolar\": [{\"marker\": {\"line\": {\"color\": \"#E5ECF6\", \"width\": 0.5}}, \"type\": \"barpolar\"}], \"carpet\": [{\"aaxis\": {\"endlinecolor\": \"#2a3f5f\", \"gridcolor\": \"white\", \"linecolor\": \"white\", \"minorgridcolor\": \"white\", \"startlinecolor\": \"#2a3f5f\"}, \"baxis\": {\"endlinecolor\": \"#2a3f5f\", \"gridcolor\": \"white\", \"linecolor\": \"white\", \"minorgridcolor\": \"white\", \"startlinecolor\": \"#2a3f5f\"}, \"type\": \"carpet\"}], \"choropleth\": [{\"colorbar\": {\"outlinewidth\": 0, \"ticks\": \"\"}, \"type\": \"choropleth\"}], \"contour\": [{\"colorbar\": {\"outlinewidth\": 0, \"ticks\": \"\"}, \"colorscale\": [[0.0, \"#0d0887\"], [0.1111111111111111, \"#46039f\"], [0.2222222222222222, \"#7201a8\"], [0.3333333333333333, \"#9c179e\"], [0.4444444444444444, \"#bd3786\"], [0.5555555555555556, \"#d8576b\"], [0.6666666666666666, \"#ed7953\"], [0.7777777777777778, \"#fb9f3a\"], [0.8888888888888888, \"#fdca26\"], [1.0, \"#f0f921\"]], \"type\": \"contour\"}], \"contourcarpet\": [{\"colorbar\": {\"outlinewidth\": 0, \"ticks\": \"\"}, \"type\": \"contourcarpet\"}], \"heatmap\": [{\"colorbar\": {\"outlinewidth\": 0, \"ticks\": \"\"}, \"colorscale\": [[0.0, \"#0d0887\"], [0.1111111111111111, \"#46039f\"], [0.2222222222222222, \"#7201a8\"], [0.3333333333333333, \"#9c179e\"], [0.4444444444444444, \"#bd3786\"], [0.5555555555555556, \"#d8576b\"], [0.6666666666666666, \"#ed7953\"], [0.7777777777777778, \"#fb9f3a\"], [0.8888888888888888, \"#fdca26\"], [1.0, \"#f0f921\"]], \"type\": \"heatmap\"}], \"heatmapgl\": [{\"colorbar\": {\"outlinewidth\": 0, \"ticks\": \"\"}, \"colorscale\": [[0.0, \"#0d0887\"], [0.1111111111111111, \"#46039f\"], [0.2222222222222222, \"#7201a8\"], [0.3333333333333333, \"#9c179e\"], [0.4444444444444444, \"#bd3786\"], [0.5555555555555556, \"#d8576b\"], [0.6666666666666666, \"#ed7953\"], [0.7777777777777778, \"#fb9f3a\"], [0.8888888888888888, \"#fdca26\"], [1.0, \"#f0f921\"]], \"type\": \"heatmapgl\"}], \"histogram\": [{\"marker\": {\"colorbar\": {\"outlinewidth\": 0, \"ticks\": \"\"}}, \"type\": \"histogram\"}], \"histogram2d\": [{\"colorbar\": {\"outlinewidth\": 0, \"ticks\": \"\"}, \"colorscale\": [[0.0, \"#0d0887\"], [0.1111111111111111, \"#46039f\"], [0.2222222222222222, \"#7201a8\"], [0.3333333333333333, \"#9c179e\"], [0.4444444444444444, \"#bd3786\"], [0.5555555555555556, \"#d8576b\"], [0.6666666666666666, \"#ed7953\"], [0.7777777777777778, \"#fb9f3a\"], [0.8888888888888888, \"#fdca26\"], [1.0, \"#f0f921\"]], \"type\": \"histogram2d\"}], \"histogram2dcontour\": [{\"colorbar\": {\"outlinewidth\": 0, \"ticks\": \"\"}, \"colorscale\": [[0.0, \"#0d0887\"], [0.1111111111111111, \"#46039f\"], [0.2222222222222222, \"#7201a8\"], [0.3333333333333333, \"#9c179e\"], [0.4444444444444444, \"#bd3786\"], [0.5555555555555556, \"#d8576b\"], [0.6666666666666666, \"#ed7953\"], [0.7777777777777778, \"#fb9f3a\"], [0.8888888888888888, \"#fdca26\"], [1.0, \"#f0f921\"]], \"type\": \"histogram2dcontour\"}], \"mesh3d\": [{\"colorbar\": {\"outlinewidth\": 0, \"ticks\": \"\"}, \"type\": \"mesh3d\"}], \"parcoords\": [{\"line\": {\"colorbar\": {\"outlinewidth\": 0, \"ticks\": \"\"}}, \"type\": \"parcoords\"}], \"scatter\": [{\"marker\": {\"colorbar\": {\"outlinewidth\": 0, \"ticks\": \"\"}}, \"type\": \"scatter\"}], \"scatter3d\": [{\"line\": {\"colorbar\": {\"outlinewidth\": 0, \"ticks\": \"\"}}, \"marker\": {\"colorbar\": {\"outlinewidth\": 0, \"ticks\": \"\"}}, \"type\": \"scatter3d\"}], \"scattercarpet\": [{\"marker\": {\"colorbar\": {\"outlinewidth\": 0, \"ticks\": \"\"}}, \"type\": \"scattercarpet\"}], \"scattergeo\": [{\"marker\": {\"colorbar\": {\"outlinewidth\": 0, \"ticks\": \"\"}}, \"type\": \"scattergeo\"}], \"scattergl\": [{\"marker\": {\"colorbar\": {\"outlinewidth\": 0, \"ticks\": \"\"}}, \"type\": \"scattergl\"}], \"scattermapbox\": [{\"marker\": {\"colorbar\": {\"outlinewidth\": 0, \"ticks\": \"\"}}, \"type\": \"scattermapbox\"}], \"scatterpolar\": [{\"marker\": {\"colorbar\": {\"outlinewidth\": 0, \"ticks\": \"\"}}, \"type\": \"scatterpolar\"}], \"scatterpolargl\": [{\"marker\": {\"colorbar\": {\"outlinewidth\": 0, \"ticks\": \"\"}}, \"type\": \"scatterpolargl\"}], \"scatterternary\": [{\"marker\": {\"colorbar\": {\"outlinewidth\": 0, \"ticks\": \"\"}}, \"type\": \"scatterternary\"}], \"surface\": [{\"colorbar\": {\"outlinewidth\": 0, \"ticks\": \"\"}, \"colorscale\": [[0.0, \"#0d0887\"], [0.1111111111111111, \"#46039f\"], [0.2222222222222222, \"#7201a8\"], [0.3333333333333333, \"#9c179e\"], [0.4444444444444444, \"#bd3786\"], [0.5555555555555556, \"#d8576b\"], [0.6666666666666666, \"#ed7953\"], [0.7777777777777778, \"#fb9f3a\"], [0.8888888888888888, \"#fdca26\"], [1.0, \"#f0f921\"]], \"type\": \"surface\"}], \"table\": [{\"cells\": {\"fill\": {\"color\": \"#EBF0F8\"}, \"line\": {\"color\": \"white\"}}, \"header\": {\"fill\": {\"color\": \"#C8D4E3\"}, \"line\": {\"color\": \"white\"}}, \"type\": \"table\"}]}, \"layout\": {\"annotationdefaults\": {\"arrowcolor\": \"#2a3f5f\", \"arrowhead\": 0, \"arrowwidth\": 1}, \"colorscale\": {\"diverging\": [[0, \"#8e0152\"], [0.1, \"#c51b7d\"], [0.2, \"#de77ae\"], [0.3, \"#f1b6da\"], [0.4, \"#fde0ef\"], [0.5, \"#f7f7f7\"], [0.6, \"#e6f5d0\"], [0.7, \"#b8e186\"], [0.8, \"#7fbc41\"], [0.9, \"#4d9221\"], [1, \"#276419\"]], \"sequential\": [[0.0, \"#0d0887\"], [0.1111111111111111, \"#46039f\"], [0.2222222222222222, \"#7201a8\"], [0.3333333333333333, \"#9c179e\"], [0.4444444444444444, \"#bd3786\"], [0.5555555555555556, \"#d8576b\"], [0.6666666666666666, \"#ed7953\"], [0.7777777777777778, \"#fb9f3a\"], [0.8888888888888888, \"#fdca26\"], [1.0, \"#f0f921\"]], \"sequentialminus\": [[0.0, \"#0d0887\"], [0.1111111111111111, \"#46039f\"], [0.2222222222222222, \"#7201a8\"], [0.3333333333333333, \"#9c179e\"], [0.4444444444444444, \"#bd3786\"], [0.5555555555555556, \"#d8576b\"], [0.6666666666666666, \"#ed7953\"], [0.7777777777777778, \"#fb9f3a\"], [0.8888888888888888, \"#fdca26\"], [1.0, \"#f0f921\"]]}, \"colorway\": [\"#636efa\", \"#EF553B\", \"#00cc96\", \"#ab63fa\", \"#FFA15A\", \"#19d3f3\", \"#FF6692\", \"#B6E880\", \"#FF97FF\", \"#FECB52\"], \"font\": {\"color\": \"#2a3f5f\"}, \"geo\": {\"bgcolor\": \"white\", \"lakecolor\": \"white\", \"landcolor\": \"#E5ECF6\", \"showlakes\": true, \"showland\": true, \"subunitcolor\": \"white\"}, \"hoverlabel\": {\"align\": \"left\"}, \"hovermode\": \"closest\", \"mapbox\": {\"style\": \"light\"}, \"paper_bgcolor\": \"white\", \"plot_bgcolor\": \"#E5ECF6\", \"polar\": {\"angularaxis\": {\"gridcolor\": \"white\", \"linecolor\": \"white\", \"ticks\": \"\"}, \"bgcolor\": \"#E5ECF6\", \"radialaxis\": {\"gridcolor\": \"white\", \"linecolor\": \"white\", \"ticks\": \"\"}}, \"scene\": {\"xaxis\": {\"backgroundcolor\": \"#E5ECF6\", \"gridcolor\": \"white\", \"gridwidth\": 2, \"linecolor\": \"white\", \"showbackground\": true, \"ticks\": \"\", \"zerolinecolor\": \"white\"}, \"yaxis\": {\"backgroundcolor\": \"#E5ECF6\", \"gridcolor\": \"white\", \"gridwidth\": 2, \"linecolor\": \"white\", \"showbackground\": true, \"ticks\": \"\", \"zerolinecolor\": \"white\"}, \"zaxis\": {\"backgroundcolor\": \"#E5ECF6\", \"gridcolor\": \"white\", \"gridwidth\": 2, \"linecolor\": \"white\", \"showbackground\": true, \"ticks\": \"\", \"zerolinecolor\": \"white\"}}, \"shapedefaults\": {\"line\": {\"color\": \"#2a3f5f\"}}, \"ternary\": {\"aaxis\": {\"gridcolor\": \"white\", \"linecolor\": \"white\", \"ticks\": \"\"}, \"baxis\": {\"gridcolor\": \"white\", \"linecolor\": \"white\", \"ticks\": \"\"}, \"bgcolor\": \"#E5ECF6\", \"caxis\": {\"gridcolor\": \"white\", \"linecolor\": \"white\", \"ticks\": \"\"}}, \"title\": {\"x\": 0.05}, \"xaxis\": {\"automargin\": true, \"gridcolor\": \"white\", \"linecolor\": \"white\", \"ticks\": \"\", \"zerolinecolor\": \"white\", \"zerolinewidth\": 2}, \"yaxis\": {\"automargin\": true, \"gridcolor\": \"white\", \"linecolor\": \"white\", \"ticks\": \"\", \"zerolinecolor\": \"white\", \"zerolinewidth\": 2}}}, \"title\": {\"font\": {\"color\": \"#4D5663\"}, \"text\": \"Greenhouses gases Emission over Time\"}, \"xaxis\": {\"gridcolor\": \"#E1E5ED\", \"showgrid\": true, \"tickfont\": {\"color\": \"#4D5663\"}, \"title\": {\"font\": {\"color\": \"#4D5663\"}, \"text\": \"Time (years)\"}, \"zerolinecolor\": \"#E1E5ED\"}, \"yaxis\": {\"gridcolor\": \"#E1E5ED\", \"showgrid\": true, \"tickfont\": {\"color\": \"#4D5663\"}, \"title\": {\"font\": {\"color\": \"#4D5663\"}, \"text\": \"Greenhouses gases in ppm\"}, \"zerolinecolor\": \"#E1E5ED\"}},\n",
       "                        {\"showLink\": true, \"linkText\": \"Export to plot.ly\", \"plotlyServerURL\": \"https://plot.ly\", \"responsive\": true}\n",
       "                    ).then(function(){\n",
       "                            \n",
       "var gd = document.getElementById('ab1b134f-3b82-4ecd-ba55-8032ee9ef1bc');\n",
       "var x = new MutationObserver(function (mutations, observer) {{\n",
       "        var display = window.getComputedStyle(gd).display;\n",
       "        if (!display || display === 'none') {{\n",
       "            console.log([gd, 'removed!']);\n",
       "            Plotly.purge(gd);\n",
       "            observer.disconnect();\n",
       "        }}\n",
       "}});\n",
       "\n",
       "// Listen for the removal of the full notebook cells\n",
       "var notebookContainer = gd.closest('#notebook-container');\n",
       "if (notebookContainer) {{\n",
       "    x.observe(notebookContainer, {childList: true});\n",
       "}}\n",
       "\n",
       "// Listen for the clearing of the current output cell\n",
       "var outputEl = gd.closest('.output');\n",
       "if (outputEl) {{\n",
       "    x.observe(outputEl, {childList: true});\n",
       "}}\n",
       "\n",
       "                        })\n",
       "                };\n",
       "                });\n",
       "            </script>\n",
       "        </div>"
      ]
     },
     "metadata": {},
     "output_type": "display_data"
    }
   ],
   "source": [
    "data.iplot(kind='line', xTitle='Time (years)',yTitle='Greenhouses gases in ppm', title='Greenhouses gases Emission over Time')"
   ]
  },
  {
   "cell_type": "markdown",
   "metadata": {},
   "source": [
    "### 4.2.A Ploting Individually "
   ]
  },
  {
   "cell_type": "code",
   "execution_count": 9,
   "metadata": {},
   "outputs": [
    {
     "data": {
      "image/png": "[encoded data removed]",
      "text/plain": [
       "<Figure size 1440x720 with 6 Axes>"
      ]
     },
     "metadata": {
      "needs_background": "light"
     },
     "output_type": "display_data"
    }
   ],
   "source": [
    "import matplotlib.pyplot as plt\n",
    "fig = plt.figure(figsize=(20,10))\n",
    "\n",
    "plt.subplot(2, 3, 1)\n",
    "plt.plot(data['NO2 Mean'])\n",
    "plt.xlabel(\"YEARS\")\n",
    "plt.ylabel('NO2 Mean')\n",
    "\n",
    "plt.subplot(2, 3, 2)\n",
    "plt.plot(data['O3 Mean'])\n",
    "plt.xlabel(\"YEARS\")\n",
    "plt.ylabel('O3 Mean')\n",
    "\n",
    "plt.subplot(2, 3, 3)\n",
    "plt.plot(data['SO2 Mean'])\n",
    "plt.xlabel(\"YEARS\")\n",
    "plt.ylabel('SO2 Mean')\n",
    "\n",
    "plt.subplot(2, 3, 4)\n",
    "plt.plot(data['CO Mean'])\n",
    "plt.xlabel(\"YEARS\")\n",
    "plt.ylabel('CO Mean')\n",
    "\n",
    "plt.subplot(2, 3, 5)\n",
    "plt.plot(data['AverageTemperature'])\n",
    "plt.xlabel(\"YEARS\")\n",
    "plt.ylabel('AverageTemperature')\n",
    "\n",
    "plt.subplot(2, 3, 6)\n",
    "plt.plot(data['AverageTemperatureAnomaly'])\n",
    "plt.xlabel(\"YEARS\")\n",
    "plt.ylabel('AverageTemperatureAnomaly')\n",
    "\n",
    "\n",
    "plt.show()"
   ]
  },
  {
   "cell_type": "markdown",
   "metadata": {},
   "source": [
    "### 4.3.A Correlation"
   ]
  },
  {
   "cell_type": "code",
   "execution_count": 10,
   "metadata": {},
   "outputs": [
    {
     "data": {
      "image/png": "[encoded data removed]",
      "text/plain": [
       "<Figure size 720x432 with 2 Axes>"
      ]
     },
     "metadata": {
      "needs_background": "light"
     },
     "output_type": "display_data"
    }
   ],
   "source": [
    "corr=data.corr()\n",
    "sns.heatmap(corr,xticklabels=corr.columns.values,yticklabels=corr.columns.values,cmap='YlGnBu',annot=True,annot_kws={'size':12})\n",
    "heat_map=plt.gcf()\n",
    "heat_map.set_size_inches(10,6)\n",
    "plt.xticks(fontsize=10)\n",
    "plt.yticks(fontsize=10)\n",
    "plt.show()\n",
    "#corr"
   ]
  },
  {
   "cell_type": "markdown",
   "metadata": {},
   "source": [
    "It is neccesary to remove trend before calculating correlation. We remove seasonality from data by taking first order differencing\n",
    "### 4.3.B Correlation after first order differencing"
   ]
  },
  {
   "cell_type": "code",
   "execution_count": 11,
   "metadata": {},
   "outputs": [
    {
     "data": {
      "image/png": "[encoded data removed]",
      "text/plain": [
       "<Figure size 720x432 with 2 Axes>"
      ]
     },
     "metadata": {
      "needs_background": "light"
     },
     "output_type": "display_data"
    }
   ],
   "source": [
    "corr1=data.diff().dropna().corr()\n",
    "sns.heatmap(corr1,xticklabels=corr1.columns.values,yticklabels=corr1.columns.values,annot=True,annot_kws={'size':12},cmap='YlGnBu')\n",
    "heat_map=plt.gcf()\n",
    "heat_map.set_size_inches(10,6)\n",
    "plt.xticks(fontsize=10)\n",
    "plt.yticks(fontsize=10)\n",
    "plt.show()"
   ]
  },
  {
   "cell_type": "markdown",
   "metadata": {},
   "source": [
    "### *Observations:*  \n",
    "\n",
    "**AverageTemperatureAnomaly is postively correlated to all the greenhouse gases to some extent.\n",
    "This is what we want to convey through this project that temperature change is related to greenhouse gases. As correlation does not mean causation we need some strong proof to prove our point. (Done in further analysis)**"
   ]
  },
  {
   "cell_type": "markdown",
   "metadata": {},
   "source": [
    "  **-------------------------------------------------------------------------------------------------------------------------------------------------------------------------**"
   ]
  },
  {
   "cell_type": "markdown",
   "metadata": {},
   "source": [
    "# 5. Model Methodology \n",
    "\n",
    "***We will be using Vector Auto Regressive Model for Time Series Forecasting***"
   ]
  },
  {
   "cell_type": "markdown",
   "metadata": {},
   "source": [
    "### 5.1 Train Test Split"
   ]
  },
  {
   "cell_type": "code",
   "execution_count": 12,
   "metadata": {},
   "outputs": [
    {
     "name": "stdout",
     "output_type": "stream",
     "text": [
      "(134, 6)\n",
      "(30, 6)\n"
     ]
    }
   ],
   "source": [
    "number_test=30\n",
    "X_train,X_test=data[0:-number_test],data[-number_test:]\n",
    "print(X_train.shape)\n",
    "print(X_test.shape)"
   ]
  },
  {
   "cell_type": "markdown",
   "metadata": {},
   "source": [
    "### 5.2 Transformation \n",
    "**Making the timeseries stationary is important in order to proceed**\n"
   ]
  },
  {
   "cell_type": "code",
   "execution_count": 13,
   "metadata": {},
   "outputs": [
    {
     "data": {
      "text/html": [
       "<div>\n",
       "<style scoped>\n",
       "    .dataframe tbody tr th:only-of-type {\n",
       "        vertical-align: middle;\n",
       "    }\n",
       "\n",
       "    .dataframe tbody tr th {\n",
       "        vertical-align: top;\n",
       "    }\n",
       "\n",
       "    .dataframe thead th {\n",
       "        text-align: right;\n",
       "    }\n",
       "</style>\n",
       "<table border=\"1\" class=\"dataframe\">\n",
       "  <thead>\n",
       "    <tr style=\"text-align: right;\">\n",
       "      <th></th>\n",
       "      <th>NO2 Mean</th>\n",
       "      <th>O3 Mean</th>\n",
       "      <th>SO2 Mean</th>\n",
       "      <th>CO Mean</th>\n",
       "      <th>AverageTemperature</th>\n",
       "      <th>AverageTemperatureAnomaly</th>\n",
       "    </tr>\n",
       "  </thead>\n",
       "  <tbody>\n",
       "    <tr>\n",
       "      <th>2000-02-01</th>\n",
       "      <td>-143.479766</td>\n",
       "      <td>-0.006559</td>\n",
       "      <td>-73.106276</td>\n",
       "      <td>3.330582</td>\n",
       "      <td>3.477</td>\n",
       "      <td>0.053</td>\n",
       "    </tr>\n",
       "    <tr>\n",
       "      <th>2000-03-01</th>\n",
       "      <td>242.768251</td>\n",
       "      <td>0.139582</td>\n",
       "      <td>-82.655717</td>\n",
       "      <td>2.890463</td>\n",
       "      <td>5.733</td>\n",
       "      <td>-0.123</td>\n",
       "    </tr>\n",
       "    <tr>\n",
       "      <th>2000-04-01</th>\n",
       "      <td>-115.878033</td>\n",
       "      <td>0.049752</td>\n",
       "      <td>-45.404044</td>\n",
       "      <td>-4.735961</td>\n",
       "      <td>2.478</td>\n",
       "      <td>0.021</td>\n",
       "    </tr>\n",
       "    <tr>\n",
       "      <th>2000-05-01</th>\n",
       "      <td>28.725739</td>\n",
       "      <td>0.318192</td>\n",
       "      <td>42.240511</td>\n",
       "      <td>-6.810649</td>\n",
       "      <td>6.968</td>\n",
       "      <td>0.026</td>\n",
       "    </tr>\n",
       "    <tr>\n",
       "      <th>2000-06-01</th>\n",
       "      <td>-16.284043</td>\n",
       "      <td>-0.001031</td>\n",
       "      <td>4.487060</td>\n",
       "      <td>3.128528</td>\n",
       "      <td>4.130</td>\n",
       "      <td>0.120</td>\n",
       "    </tr>\n",
       "  </tbody>\n",
       "</table>\n",
       "</div>"
      ],
      "text/plain": [
       "              NO2 Mean   O3 Mean   SO2 Mean   CO Mean  AverageTemperature  \\\n",
       "2000-02-01 -143.479766 -0.006559 -73.106276  3.330582               3.477   \n",
       "2000-03-01  242.768251  0.139582 -82.655717  2.890463               5.733   \n",
       "2000-04-01 -115.878033  0.049752 -45.404044 -4.735961               2.478   \n",
       "2000-05-01   28.725739  0.318192  42.240511 -6.810649               6.968   \n",
       "2000-06-01  -16.284043 -0.001031   4.487060  3.128528               4.130   \n",
       "\n",
       "            AverageTemperatureAnomaly  \n",
       "2000-02-01                      0.053  \n",
       "2000-03-01                     -0.123  \n",
       "2000-04-01                      0.021  \n",
       "2000-05-01                      0.026  \n",
       "2000-06-01                      0.120  "
      ]
     },
     "execution_count": 13,
     "metadata": {},
     "output_type": "execute_result"
    }
   ],
   "source": [
    "transform_data=X_train.diff().dropna()\n",
    "transform_data.head()"
   ]
  },
  {
   "cell_type": "markdown",
   "metadata": {},
   "source": [
    "### 5.3 Stationary Check\n",
    "<ul>\n",
    "<li>Using adfuller_test to check for stationarity as VAR works on stationary series</li>\n",
    "</ul>"
   ]
  },
  {
   "cell_type": "code",
   "execution_count": 14,
   "metadata": {},
   "outputs": [
    {
     "name": "stdout",
     "output_type": "stream",
     "text": [
      "Augemented Dickey Fuller Test on \"NO2 Mean\" \n",
      "  -----------------------------------------------\n",
      "Null Hypothesis: Data has unit root. Non Stationary\n",
      "Significance Level   =0.05\n",
      "test stats   =-3.0861\n",
      "No. lags chosen   =13\n",
      "Critical Value 1%    =-3.487\n",
      "Critical Value 5%    =-2.886\n",
      "Critical Value 10%   =-2.58\n",
      " => P-value=0.0276. Rejecting Null Hypothesis\n",
      " => Series is Stationary\n",
      "\n",
      "\n",
      "Augemented Dickey Fuller Test on \"O3 Mean\" \n",
      "  -----------------------------------------------\n",
      "Null Hypothesis: Data has unit root. Non Stationary\n",
      "Significance Level   =0.05\n",
      "test stats   =-9.8827\n",
      "No. lags chosen   =9\n",
      "Critical Value 1%    =-3.485\n",
      "Critical Value 5%    =-2.885\n",
      "Critical Value 10%   =-2.579\n",
      " => P-value=0.0. Rejecting Null Hypothesis\n",
      " => Series is Stationary\n",
      "\n",
      "\n",
      "Augemented Dickey Fuller Test on \"SO2 Mean\" \n",
      "  -----------------------------------------------\n",
      "Null Hypothesis: Data has unit root. Non Stationary\n",
      "Significance Level   =0.05\n",
      "test stats   =-7.508\n",
      "No. lags chosen   =5\n",
      "Critical Value 1%    =-3.483\n",
      "Critical Value 5%    =-2.885\n",
      "Critical Value 10%   =-2.579\n",
      " => P-value=0.0. Rejecting Null Hypothesis\n",
      " => Series is Stationary\n",
      "\n",
      "\n",
      "Augemented Dickey Fuller Test on \"CO Mean\" \n",
      "  -----------------------------------------------\n",
      "Null Hypothesis: Data has unit root. Non Stationary\n",
      "Significance Level   =0.05\n",
      "test stats   =-8.6935\n",
      "No. lags chosen   =3\n",
      "Critical Value 1%    =-3.482\n",
      "Critical Value 5%    =-2.884\n",
      "Critical Value 10%   =-2.579\n",
      " => P-value=0.0. Rejecting Null Hypothesis\n",
      " => Series is Stationary\n",
      "\n",
      "\n",
      "Augemented Dickey Fuller Test on \"AverageTemperature\" \n",
      "  -----------------------------------------------\n",
      "Null Hypothesis: Data has unit root. Non Stationary\n",
      "Significance Level   =0.05\n",
      "test stats   =-8.9057\n",
      "No. lags chosen   =10\n",
      "Critical Value 1%    =-3.485\n",
      "Critical Value 5%    =-2.886\n",
      "Critical Value 10%   =-2.58\n",
      " => P-value=0.0. Rejecting Null Hypothesis\n",
      " => Series is Stationary\n",
      "\n",
      "\n",
      "Augemented Dickey Fuller Test on \"AverageTemperatureAnomaly\" \n",
      "  -----------------------------------------------\n",
      "Null Hypothesis: Data has unit root. Non Stationary\n",
      "Significance Level   =0.05\n",
      "test stats   =-6.2888\n",
      "No. lags chosen   =10\n",
      "Critical Value 1%    =-3.485\n",
      "Critical Value 5%    =-2.886\n",
      "Critical Value 10%   =-2.58\n",
      " => P-value=0.0. Rejecting Null Hypothesis\n",
      " => Series is Stationary\n",
      "\n",
      "\n"
     ]
    }
   ],
   "source": [
    "from statsmodels.tsa.stattools import adfuller\n",
    "def adfuller_test(series,signif=0.05,name='',verbose=False):\n",
    "    r=adfuller(series,autolag='AIC')\n",
    "    output={'test_statistic':round(r[0],4),'pvalue':round(r[1],4),'n_lags':round(r[2],4),'o_obs':r[3]}\n",
    "    p_value=output['pvalue']\n",
    "    def adjust(val,length=6):return str(val).ljust(length)\n",
    "    \n",
    "    print(f'Augemented Dickey Fuller Test on \"{name}\"',\"\\n \",'-'*47)\n",
    "    print(f'Null Hypothesis: Data has unit root. Non Stationary')\n",
    "    print(f'Significance Level   ={signif}')\n",
    "    print(f'test stats   ={output[\"test_statistic\"]}')\n",
    "    print(f'No. lags chosen   ={output[\"n_lags\"]}')\n",
    "    \n",
    "    for key,val in r[4].items():\n",
    "          print(f'Critical Value {adjust(key)}={round(val,3)}')\n",
    "    if p_value<=signif:\n",
    "          print(f\" => P-value={p_value}. Rejecting Null Hypothesis\")\n",
    "          print(f\" => Series is Stationary\")\n",
    "          \n",
    "    else:\n",
    "      print(f\" => P-value={p_value}. Weak, to reject Null Hypothesis\")\n",
    "      print(f\" => Series is Non-Stationary\")\n",
    "\n",
    "for name, column in transform_data.iteritems():\n",
    "          adfuller_test(column,name=column.name)\n",
    "          print(\"\\n\")\n"
   ]
  },
  {
   "cell_type": "markdown",
   "metadata": {},
   "source": [
    "***We see that each series in stationary after first order differencing*** \n",
    "(proceeding further)"
   ]
  },
  {
   "cell_type": "code",
   "execution_count": 15,
   "metadata": {},
   "outputs": [
    {
     "data": {
      "image/png": "[encoded data removed]",
      "text/plain": [
       "<Figure size 1200x720 with 6 Axes>"
      ]
     },
     "metadata": {
      "needs_background": "light"
     },
     "output_type": "display_data"
    }
   ],
   "source": [
    "fig,axes=plt.subplots(nrows=3,ncols=2,dpi=120,figsize=(10,6))\n",
    "for i,ax in enumerate(axes.flatten()):\n",
    "    data=transform_data[transform_data.columns[i]]\n",
    "    ax.plot(data,color='red',linewidth=1)\n",
    "    \n",
    "    ax.set_title(transform_data.columns[i])\n",
    "plt.tight_layout();\n",
    "    "
   ]
  },
  {
   "cell_type": "markdown",
   "metadata": {},
   "source": [
    "**We have reached at stage where we want to prove that temperature change is caused by Greenhouse gases. As we know correlation is not enough to prove so. We will apply Granger's Causality Test**"
   ]
  },
  {
   "cell_type": "markdown",
   "metadata": {},
   "source": [
    "# 5.4 Granger’s Causality Test"
   ]
  },
  {
   "cell_type": "code",
   "execution_count": 16,
   "metadata": {
    "scrolled": false
   },
   "outputs": [
    {
     "data": {
      "text/html": [
       "<div>\n",
       "<style scoped>\n",
       "    .dataframe tbody tr th:only-of-type {\n",
       "        vertical-align: middle;\n",
       "    }\n",
       "\n",
       "    .dataframe tbody tr th {\n",
       "        vertical-align: top;\n",
       "    }\n",
       "\n",
       "    .dataframe thead th {\n",
       "        text-align: right;\n",
       "    }\n",
       "</style>\n",
       "<table border=\"1\" class=\"dataframe\">\n",
       "  <thead>\n",
       "    <tr style=\"text-align: right;\">\n",
       "      <th></th>\n",
       "      <th>NO2 Mean_x</th>\n",
       "      <th>O3 Mean_x</th>\n",
       "      <th>SO2 Mean_x</th>\n",
       "      <th>CO Mean_x</th>\n",
       "      <th>AverageTemperature_x</th>\n",
       "      <th>AverageTemperatureAnomaly_x</th>\n",
       "    </tr>\n",
       "  </thead>\n",
       "  <tbody>\n",
       "    <tr>\n",
       "      <th>NO2 Mean_y</th>\n",
       "      <td>1.0000</td>\n",
       "      <td>0.0000</td>\n",
       "      <td>0.0904</td>\n",
       "      <td>0.0714</td>\n",
       "      <td>0.0000</td>\n",
       "      <td>0.0987</td>\n",
       "    </tr>\n",
       "    <tr>\n",
       "      <th>O3 Mean_y</th>\n",
       "      <td>0.0000</td>\n",
       "      <td>1.0000</td>\n",
       "      <td>0.0091</td>\n",
       "      <td>0.4324</td>\n",
       "      <td>0.0000</td>\n",
       "      <td>0.3200</td>\n",
       "    </tr>\n",
       "    <tr>\n",
       "      <th>SO2 Mean_y</th>\n",
       "      <td>0.0034</td>\n",
       "      <td>0.0079</td>\n",
       "      <td>1.0000</td>\n",
       "      <td>0.0005</td>\n",
       "      <td>0.0056</td>\n",
       "      <td>0.0090</td>\n",
       "    </tr>\n",
       "    <tr>\n",
       "      <th>CO Mean_y</th>\n",
       "      <td>0.6391</td>\n",
       "      <td>0.0337</td>\n",
       "      <td>0.2297</td>\n",
       "      <td>1.0000</td>\n",
       "      <td>0.0001</td>\n",
       "      <td>0.3397</td>\n",
       "    </tr>\n",
       "    <tr>\n",
       "      <th>AverageTemperature_y</th>\n",
       "      <td>0.0001</td>\n",
       "      <td>0.0000</td>\n",
       "      <td>0.0000</td>\n",
       "      <td>0.0034</td>\n",
       "      <td>1.0000</td>\n",
       "      <td>0.0656</td>\n",
       "    </tr>\n",
       "    <tr>\n",
       "      <th>AverageTemperatureAnomaly_y</th>\n",
       "      <td>0.4422</td>\n",
       "      <td>0.3920</td>\n",
       "      <td>0.5202</td>\n",
       "      <td>0.2824</td>\n",
       "      <td>0.8824</td>\n",
       "      <td>1.0000</td>\n",
       "    </tr>\n",
       "  </tbody>\n",
       "</table>\n",
       "</div>"
      ],
      "text/plain": [
       "                             NO2 Mean_x  O3 Mean_x  SO2 Mean_x  CO Mean_x  \\\n",
       "NO2 Mean_y                       1.0000     0.0000      0.0904     0.0714   \n",
       "O3 Mean_y                        0.0000     1.0000      0.0091     0.4324   \n",
       "SO2 Mean_y                       0.0034     0.0079      1.0000     0.0005   \n",
       "CO Mean_y                        0.6391     0.0337      0.2297     1.0000   \n",
       "AverageTemperature_y             0.0001     0.0000      0.0000     0.0034   \n",
       "AverageTemperatureAnomaly_y      0.4422     0.3920      0.5202     0.2824   \n",
       "\n",
       "                             AverageTemperature_x  AverageTemperatureAnomaly_x  \n",
       "NO2 Mean_y                                 0.0000                       0.0987  \n",
       "O3 Mean_y                                  0.0000                       0.3200  \n",
       "SO2 Mean_y                                 0.0056                       0.0090  \n",
       "CO Mean_y                                  0.0001                       0.3397  \n",
       "AverageTemperature_y                       1.0000                       0.0656  \n",
       "AverageTemperatureAnomaly_y                0.8824                       1.0000  "
      ]
     },
     "execution_count": 16,
     "metadata": {},
     "output_type": "execute_result"
    }
   ],
   "source": [
    "from statsmodels.tsa.stattools import grangercausalitytests\n",
    "maxlag=5\n",
    "test=\"ssr_chi2test\"\n",
    "def grangers_causation_matrix(data,variables,test='ssr_chi2test',verbose=False):\n",
    "    xtrain=pd.DataFrame(np.zeros((len(variables),len(variables))),columns=variables,index=variables)\n",
    "    for c in xtrain.columns:\n",
    "        for r in xtrain.index:\n",
    "            test_result=grangercausalitytests(data[[r,c]],maxlag=maxlag,verbose=False)\n",
    "            p_values=[round(test_result[i+1][0][test][1],4) for i in range(maxlag)]\n",
    "            if verbose:print(f'Y={r},X={c},P Values={p_values}')\n",
    "            min_p_value=np.min(p_values)\n",
    "            xtrain.loc[r,c]=min_p_value\n",
    "    xtrain.columns=[var+'_x' for var in variables]\n",
    "    xtrain.index=[var+'_y' for var in variables]\n",
    "    return xtrain\n",
    "grangers_causation_matrix(data2,variables=data2.columns)  "
   ]
  },
  {
   "cell_type": "markdown",
   "metadata": {},
   "source": [
    "### Result of this test shows that NO2_mean_x, O3 Mean_x, SO2 Mean_x, CO Mean_x causes AverageTemperatureAnomaly_y\t"
   ]
  },
  {
   "cell_type": "markdown",
   "metadata": {},
   "source": [
    "# Cointegration Test"
   ]
  },
  {
   "cell_type": "code",
   "execution_count": 17,
   "metadata": {},
   "outputs": [
    {
     "name": "stdout",
     "output_type": "stream",
     "text": [
      "Name : Test Stat > c(95%) ==> Signif \n",
      ", '--'*20\n",
      "NO2 Mean :: 131.44    > 83.9383   =>  True\n",
      "O3 Mean :: 57.28     > 60.0627   =>  False\n",
      "SO2 Mean :: 28.07     > 40.1749   =>  False\n",
      "CO Mean :: 14.66     > 24.2761   =>  False\n",
      "AverageTemperature :: 3.56      > 12.3212   =>  False\n",
      "AverageTemperatureAnomaly :: 0.47      > 4.1296    =>  False\n"
     ]
    }
   ],
   "source": [
    "from statsmodels.tsa.vector_ar.vecm import coint_johansen\n",
    "def cointegration_test(transform_data,alpha=0.05):\n",
    "    out=coint_johansen(transform_data,-1,5)\n",
    "    d={'0.90':0,'0.95':1,'0.99':2}\n",
    "    traces=out.lr1\n",
    "    cvts=out.cvt[:,d[str(1-alpha)]]\n",
    "    def adjust(val,length=6):return str(val).ljust(length)\n",
    "    \n",
    "    print(\"Name : Test Stat > c(95%) ==> Signif \\n, '--'*20\")\n",
    "    for col, trace,cvt in zip(transform_data.columns,traces,cvts):\n",
    "        print(adjust(col),'::',adjust(round(trace,2),9), \">\",adjust(cvt,8),' => ',trace >cvt)\n",
    "cointegration_test(X_train)"
   ]
  },
  {
   "cell_type": "markdown",
   "metadata": {},
   "source": [
    "# 5.5 Vector Auto Regressive Model\n",
    "Main requirement of VAR model is that it requires stationarity of series, which we confirmed from augmennted Dickey-Fuller Test\n"
   ]
  },
  {
   "cell_type": "code",
   "execution_count": 18,
   "metadata": {},
   "outputs": [
    {
     "name": "stderr",
     "output_type": "stream",
     "text": [
      "/usr/local/lib/python3.7/site-packages/statsmodels/tsa/base/tsa_model.py:165: ValueWarning:\n",
      "\n",
      "No frequency information was provided, so inferred frequency MS will be used.\n",
      "\n"
     ]
    }
   ],
   "source": [
    "import statsmodels.tsa.api as smt\n",
    "from statsmodels.tsa.api import VAR\n",
    "mod = smt.VAR(transform_data)\n",
    "res = mod.fit(maxlags=15, ic=\"aic\")\n",
    "#print(res.summary())"
   ]
  },
  {
   "cell_type": "code",
   "execution_count": 19,
   "metadata": {},
   "outputs": [
    {
     "data": {
      "text/html": [
       "<div>\n",
       "<style scoped>\n",
       "    .dataframe tbody tr th:only-of-type {\n",
       "        vertical-align: middle;\n",
       "    }\n",
       "\n",
       "    .dataframe tbody tr th {\n",
       "        vertical-align: top;\n",
       "    }\n",
       "\n",
       "    .dataframe thead th {\n",
       "        text-align: right;\n",
       "    }\n",
       "</style>\n",
       "<table border=\"1\" class=\"dataframe\">\n",
       "  <thead>\n",
       "    <tr style=\"text-align: right;\">\n",
       "      <th></th>\n",
       "      <th>NO2 Mean</th>\n",
       "      <th>O3 Mean</th>\n",
       "      <th>SO2 Mean</th>\n",
       "      <th>CO Mean</th>\n",
       "      <th>AverageTemperature</th>\n",
       "      <th>AverageTemperatureAnomaly</th>\n",
       "    </tr>\n",
       "  </thead>\n",
       "  <tbody>\n",
       "    <tr>\n",
       "      <th>2011-03-01</th>\n",
       "      <td>12.691055</td>\n",
       "      <td>0.251460</td>\n",
       "      <td>-114.745869</td>\n",
       "      <td>-29.33486</td>\n",
       "      <td>6.964410</td>\n",
       "      <td>-0.167739</td>\n",
       "    </tr>\n",
       "    <tr>\n",
       "      <th>2011-04-01</th>\n",
       "      <td>-81.751008</td>\n",
       "      <td>-0.078677</td>\n",
       "      <td>-32.441721</td>\n",
       "      <td>0.12755</td>\n",
       "      <td>2.673734</td>\n",
       "      <td>0.062453</td>\n",
       "    </tr>\n",
       "  </tbody>\n",
       "</table>\n",
       "</div>"
      ],
      "text/plain": [
       "             NO2 Mean   O3 Mean    SO2 Mean   CO Mean  AverageTemperature  \\\n",
       "2011-03-01  12.691055  0.251460 -114.745869 -29.33486            6.964410   \n",
       "2011-04-01 -81.751008 -0.078677  -32.441721   0.12755            2.673734   \n",
       "\n",
       "            AverageTemperatureAnomaly  \n",
       "2011-03-01                  -0.167739  \n",
       "2011-04-01                   0.062453  "
      ]
     },
     "execution_count": 19,
     "metadata": {},
     "output_type": "execute_result"
    }
   ],
   "source": [
    "lag_order=res.k_ar\n",
    "pred=res.forecast(transform_data.values[-lag_order:],number_test)\n",
    "pred_df=pd.DataFrame(pred,index=data2.index[-number_test:],columns=data2.columns)\n",
    "pred_df.head(2)"
   ]
  },
  {
   "cell_type": "markdown",
   "metadata": {},
   "source": [
    "### 5.5.1 De differencing data (invert Transform)\n"
   ]
  },
  {
   "cell_type": "code",
   "execution_count": 20,
   "metadata": {},
   "outputs": [
    {
     "data": {
      "text/html": [
       "<div>\n",
       "<style scoped>\n",
       "    .dataframe tbody tr th:only-of-type {\n",
       "        vertical-align: middle;\n",
       "    }\n",
       "\n",
       "    .dataframe tbody tr th {\n",
       "        vertical-align: top;\n",
       "    }\n",
       "\n",
       "    .dataframe thead th {\n",
       "        text-align: right;\n",
       "    }\n",
       "</style>\n",
       "<table border=\"1\" class=\"dataframe\">\n",
       "  <thead>\n",
       "    <tr style=\"text-align: right;\">\n",
       "      <th></th>\n",
       "      <th>NO2 Mean</th>\n",
       "      <th>O3 Mean</th>\n",
       "      <th>SO2 Mean</th>\n",
       "      <th>CO Mean</th>\n",
       "      <th>AverageTemperature</th>\n",
       "      <th>AverageTemperatureAnomaly</th>\n",
       "    </tr>\n",
       "  </thead>\n",
       "  <tbody>\n",
       "    <tr>\n",
       "      <th>2011-03-01</th>\n",
       "      <td>525.384777</td>\n",
       "      <td>1.182030</td>\n",
       "      <td>29.637067</td>\n",
       "      <td>-10.682191</td>\n",
       "      <td>13.416410</td>\n",
       "      <td>0.017261</td>\n",
       "    </tr>\n",
       "    <tr>\n",
       "      <th>2011-04-01</th>\n",
       "      <td>335.868620</td>\n",
       "      <td>1.129949</td>\n",
       "      <td>-16.847553</td>\n",
       "      <td>-8.748006</td>\n",
       "      <td>23.265145</td>\n",
       "      <td>0.126713</td>\n",
       "    </tr>\n",
       "  </tbody>\n",
       "</table>\n",
       "</div>"
      ],
      "text/plain": [
       "              NO2 Mean   O3 Mean   SO2 Mean    CO Mean  AverageTemperature  \\\n",
       "2011-03-01  525.384777  1.182030  29.637067 -10.682191           13.416410   \n",
       "2011-04-01  335.868620  1.129949 -16.847553  -8.748006           23.265145   \n",
       "\n",
       "            AverageTemperatureAnomaly  \n",
       "2011-03-01                   0.017261  \n",
       "2011-04-01                   0.126713  "
      ]
     },
     "execution_count": 20,
     "metadata": {},
     "output_type": "execute_result"
    }
   ],
   "source": [
    "pred_inverse=pred_df.cumsum()\n",
    "f=pred_inverse+X_test\n",
    "f.head(2)"
   ]
  },
  {
   "cell_type": "markdown",
   "metadata": {},
   "source": [
    "# 5.6 Prediction on test set"
   ]
  },
  {
   "cell_type": "code",
   "execution_count": 21,
   "metadata": {
    "scrolled": true
   },
   "outputs": [
    {
     "data": {
      "image/png": "[encoded data removed]",
      "text/plain": [
       "<Figure size 864x360 with 1 Axes>"
      ]
     },
     "metadata": {
      "needs_background": "light"
     },
     "output_type": "display_data"
    }
   ],
   "source": [
    "plt.figure(figsize=(12,5))\n",
    "plt.xlabel('Month')\n",
    "ax1=X_test.AverageTemperatureAnomaly.plot(color='blue',grid=True,label='Actual temp uncertainity')\n",
    "ax2=f.AverageTemperatureAnomaly.plot(color='red',grid=True,label='Predicted temp uncertainity',alpha=0.5)\n",
    "ax1.legend(loc=1)\n",
    "ax2.legend(loc=2)\n",
    "plt.title(\"Predicted Vs Actual\")\n",
    "plt.show()"
   ]
  },
  {
   "cell_type": "code",
   "execution_count": 22,
   "metadata": {},
   "outputs": [],
   "source": [
    "# plt.figure(figsize=(12,5))\n",
    "# plt.xlabel('Month')\n",
    "# ax1=X_test['CO Mean'].plot(color='black',grid=True,label='Actual temp uncertainity')\n",
    "# ax2=f['CO Mean'].plot(color='red',grid=True,label='Predicted temp uncertainity',alpha=0.5)\n",
    "# ax1.legend(loc=1)\n",
    "# ax2.legend(loc=2)\n",
    "# plt.title(\"Predicted Vs Actual\")\n",
    "# plt.show()"
   ]
  },
  {
   "cell_type": "code",
   "execution_count": 23,
   "metadata": {},
   "outputs": [],
   "source": [
    "# plt.figure(figsize=(12,5))\n",
    "# plt.xlabel('Month')\n",
    "# ax1=X_test['NO2 Mean'].plot(color='black',grid=True,label='Actual temp uncertainity')\n",
    "# ax2=f['NO2 Mean'].plot(color='red',grid=True,label='Predicted temp uncertainity',alpha=0.5)\n",
    "# ax1.legend(loc=1)\n",
    "# ax2.legend(loc=2)\n",
    "# plt.title(\"Predicted Vs Actual\")\n",
    "# plt.show()"
   ]
  },
  {
   "cell_type": "code",
   "execution_count": 24,
   "metadata": {},
   "outputs": [],
   "source": [
    "# plt.figure(figsize=(12,5))\n",
    "# plt.xlabel('Month')\n",
    "# ax1=X_test['O3 Mean'].plot(color='black',grid=True,label='Actual temp uncertainity')\n",
    "# ax2=f['O3 Mean'].plot(color='red',grid=True,label='Predicted temp uncertainity',alpha=0.5)\n",
    "# ax1.legend(loc=1)\n",
    "# ax2.legend(loc=2)\n",
    "# plt.title(\"Predicted Vs Actual\")\n",
    "# plt.show()"
   ]
  },
  {
   "cell_type": "code",
   "execution_count": 25,
   "metadata": {},
   "outputs": [],
   "source": [
    "# plt.figure(figsize=(12,5))\n",
    "# plt.xlabel('Month')\n",
    "# ax1=X_test['SO2 Mean'].plot(color='black',grid=True,label='Actual temp uncertainity')\n",
    "# ax2=f['SO2 Mean'].plot(color='red',grid=True,label='Predicted temp uncertainity',alpha=0.5)\n",
    "# ax1.legend(loc=1)\n",
    "# ax2.legend(loc=2)\n",
    "# plt.title(\"Predicted Vs Actual\")\n",
    "# plt.show()"
   ]
  },
  {
   "cell_type": "markdown",
   "metadata": {},
   "source": [
    "# 5.7 Model Evaluation\n",
    "<ul>\n",
    "    <li>Calculating Bias</li>\n",
    "    <li>Calculating Mean Absolute Error</li>\n",
    "    <li>Calculating Mean Squared Error</li>\n",
    "    <li>Calculating Root Mean Squared Error</li>\n",
    "    \n",
    "</ul>"
   ]
  },
  {
   "cell_type": "code",
   "execution_count": 26,
   "metadata": {
    "scrolled": false
   },
   "outputs": [
    {
     "name": "stdout",
     "output_type": "stream",
     "text": [
      "Evaluation for AverageTemperatureAnomaly\n",
      "Bias: 0.044473\n",
      "MAE: 0.059591\n",
      "MSE: 0.006206\n",
      "RMSE: 0.078778\n"
     ]
    }
   ],
   "source": [
    "from sklearn.metrics import mean_absolute_error\n",
    "from sklearn.metrics import mean_squared_error\n",
    "from math import sqrt\n",
    "m=['AverageTemperatureAnomaly']\n",
    "for quant in m:\n",
    "    forecast_errors=[X_test[quant][i]-f[quant][i] for i in range(len(X_test[quant]))]\n",
    "    print('Evaluation for',quant)\n",
    "    bias=sum(forecast_errors)*1.0/len(X_test[quant])\n",
    "    print('Bias: %f' %bias)\n",
    "\n",
    "    mae=mean_absolute_error(X_test[quant],f[quant])\n",
    "    print('MAE: %f'%mae)\n",
    "\n",
    "    mse=mean_squared_error(X_test[quant],f[quant])\n",
    "    print('MSE: %f'%mse)\n",
    "\n",
    "    rmse=sqrt(mse)\n",
    "    print('RMSE: %f' %rmse)\n",
    "\n"
   ]
  },
  {
   "cell_type": "markdown",
   "metadata": {},
   "source": [
    "  **-------------------------------------------------------------------------------------------------------------------------------------------------------------------------**"
   ]
  },
  {
   "cell_type": "markdown",
   "metadata": {},
   "source": [
    "# 6. Forecasting"
   ]
  },
  {
   "cell_type": "markdown",
   "metadata": {},
   "source": [
    "## 6.1 Forecasting next 20 Months for VAR Model"
   ]
  },
  {
   "cell_type": "code",
   "execution_count": 27,
   "metadata": {},
   "outputs": [
    {
     "data": {
      "image/png": "[encoded data removed]",
      "text/plain": [
       "<Figure size 720x720 with 6 Axes>"
      ]
     },
     "metadata": {
      "needs_background": "light"
     },
     "output_type": "display_data"
    }
   ],
   "source": [
    "res.plot_forecast(20)\n",
    "plt.show()"
   ]
  },
  {
   "cell_type": "markdown",
   "metadata": {},
   "source": [
    "## 6.2 Forecasting Individually on Temperature Change for next (20 Years)"
   ]
  },
  {
   "cell_type": "code",
   "execution_count": 28,
   "metadata": {
    "scrolled": false
   },
   "outputs": [
    {
     "name": "stderr",
     "output_type": "stream",
     "text": [
      "INFO:fbprophet:Disabling weekly seasonality. Run prophet with weekly_seasonality=True to override this.\n",
      "INFO:fbprophet:Disabling daily seasonality. Run prophet with daily_seasonality=True to override this.\n"
     ]
    },
    {
     "data": {
      "image/png": "[encoded data removed]",
      "text/plain": [
       "<Figure size 720x432 with 1 Axes>"
      ]
     },
     "metadata": {},
     "output_type": "display_data"
    }
   ],
   "source": [
    "from fbprophet import Prophet\n",
    "\n",
    "# Create a new DataFrame with which we will create/train our Prophet model \n",
    "t_prophet = pd.DataFrame()\n",
    "t_prophet['ds'] = df_t.index\n",
    "t_prophet['y'] = df_t['AverageTemperatureAnomaly'].values\n",
    "\n",
    "# Instantiate model and fit to data (just like with sklearn model API)\n",
    "m = Prophet()\n",
    "m.fit(t_prophet)\n",
    "\n",
    "# Generate future dataframe containing predictions (we are doing this for 100 years into the future)\n",
    "future = m.make_future_dataframe(freq='m', periods=20*12)\n",
    "forecast = m.predict(future)\n",
    "\n",
    "# Plot the resulting forecast\n",
    "m.plot(forecast)\n",
    "plt.show()"
   ]
  },
  {
   "cell_type": "markdown",
   "metadata": {},
   "source": [
    "  **-------------------------------------------------------------------------------------------------------------------------------------------------------------------------**"
   ]
  },
  {
   "cell_type": "markdown",
   "metadata": {},
   "source": [
    "# 7. Result Section\n"
   ]
  },
  {
   "cell_type": "markdown",
   "metadata": {},
   "source": [
    "We have "
   ]
  },
  {
   "cell_type": "markdown",
   "metadata": {},
   "source": [
    "  **-------------------------------------------------------------------------------------------------------------------------------------------------------------------------**"
   ]
  },
  {
   "cell_type": "markdown",
   "metadata": {},
   "source": [
    "# 8. Conclusion Section"
   ]
  },
  {
   "cell_type": "markdown",
   "metadata": {},
   "source": [
    "lo"
   ]
  },
  {
   "cell_type": "code",
   "execution_count": null,
   "metadata": {},
   "outputs": [],
   "source": []
  }
 ],
 "metadata": {
  "kernelspec": {
   "display_name": "Python 3",
   "language": "python",
   "name": "python3"
  },
  "language_info": {
   "codemirror_mode": {
    "name": "ipython",
    "version": 3
   },
   "file_extension": ".py",
   "mimetype": "text/x-python",
   "name": "python",
   "nbconvert_exporter": "python",
   "pygments_lexer": "ipython3",
   "version": "3.7.4"
  }
 },
 "nbformat": 4,
 "nbformat_minor": 2
}
