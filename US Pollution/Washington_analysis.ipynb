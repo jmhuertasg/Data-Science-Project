{
 "cells": [
  {
   "cell_type": "markdown",
   "metadata": {},
   "source": [
    "# Greenhouse Gases Pollution and Temperature Analysis for Washington\n",
    "\n",
    "                                                                            -Maitrey Talware (mt3915)\n",
    "\n",
    "                                                                            -Shivam Bawane (sb6818)\n",
    "                                                                            "
   ]
  },
  {
   "cell_type": "markdown",
   "metadata": {},
   "source": [
    "  **-------------------------------------------------------------------------------------------------------------------------------------------------------------------------**"
   ]
  },
  {
   "cell_type": "markdown",
   "metadata": {},
   "source": [
    "# Table of contents\n",
    "\n",
    "<div class=\"alert alert-block alert-info\" style=\"margin-top: 20px\">\n",
    "    <ol>\n",
    "        <li><a href=\"#ref1\">Introduction </a></li>\n",
    "        <li><a href=\"#ref2\">Data Importing and Cleaning</a></li>\n",
    "        <ul>\n",
    "         <li><a href=\"#ref3\">2.1 Importing Greenhouse Pollution Datset</a></li>\n",
    "            <ul>\n",
    "                <li><a href=\"#ref4\">Data Transformation</a></li>\n",
    "            </ul>\n",
    "        <li><a href=\"#ref4\">2.2 Importing Temperature Dataset</a></li>\n",
    "        </ul>\n",
    "        <li><a href=\"#ref5\">Combining both the Dataset</a></li>\n",
    "        <ul>\n",
    "        <li><a href=\"#ref4\">3.1 Normalizing the Dataset</a></li>\n",
    "        </ul>\n",
    "        <li><a href=\"#ref5\">Exploratory Data Analysis</a></li>\n",
    "            <ul>\n",
    "                <li><a href=\"#ref6\">4.1 Descriptive Statistics</a></li>\n",
    "                <li><a href=\"#ref6\">4.2 Line Plots</a></li>\n",
    "       <li><a href=\"#ref6\">4.3 Correlation heatmap</a></li>\n",
    "        </ul>\n",
    "        <li><a href=\"#ref7\">Model /Methodology</a></li>\n",
    "                    <ul>\n",
    "                <li><a href=\"#ref6\">5.1 Train - Test Split</a></li>\n",
    "                <li><a href=\"#ref6\">5.2 Data transformed to stationary</a></li>\n",
    "                <li><a href=\"#ref6\">5.3 Stationary Check</a></li>\n",
    "       <li><a href=\"#ref6\">5.4 Granger's Causality Test</a></li>\n",
    "                  <li><a href=\"#ref6\">5.5 Vector Auto Regressive Model Building</a></li>\n",
    "                  <li><a href=\"#ref6\">5.6 Prediction on test set</a></li>\n",
    "                  <li><a href=\"#ref6\">5.7 Model Evaluation</a></li>\n",
    "        </ul>\n",
    "        <li><a href=\"#ref7\">Forecasting</a></li>\n",
    "                    <ul>\n",
    "                <li><a href=\"#ref6\">6.1 Forecasting based on VAR model</a></li>\n",
    "                <li><a href=\"#ref6\">6.2 Forecasting Individually</a></li>\n",
    "        </ul>\n",
    "        <li><a href=\"#ref8\">Result section</a></li>\n",
    "        <li><a href=\"#ref9\">Conclusion section</a></li>\n",
    "    </ol>\n",
    "</div>\n",
    "<br>"
   ]
  },
  {
   "cell_type": "markdown",
   "metadata": {},
   "source": [
    "  **-------------------------------------------------------------------------------------------------------------------------------------------------------------------------**"
   ]
  },
  {
   "cell_type": "markdown",
   "metadata": {},
   "source": [
    "# 1. Introduction"
   ]
  },
  {
   "cell_type": "markdown",
   "metadata": {},
   "source": [
    "The earth's climate has changed throughout history. But recent trend of warming is significant because the majority of it is caused as a result of human activity since the mid 20TH century. This is mostly attributed to burning of fossil fuels that pump carbon dioxide(CO2), methane and other greenhouse gases into the atmosphere.\n",
    " \n",
    "The result of global warming is evident all over the world like ice melting in both polar ice caps and mountain glaciers. Animals are changing migration patterns and plants are changing the dates of activity such as trees budding their leaves earlier in the spring and dropping them later in the fall. Increase in average temperature and temperature extremes, extreme weather events , ice melting ,sea levels and ocean acidification are only a few of the changes wrought by global warming.\n",
    "\n",
    "We want to show how greenhouse gases are causing temperature change"
   ]
  },
  {
   "cell_type": "markdown",
   "metadata": {},
   "source": [
    "  **-------------------------------------------------------------------------------------------------------------------------------------------------------------------------**"
   ]
  },
  {
   "cell_type": "markdown",
   "metadata": {},
   "source": [
    "# 2. Data Importing and Data Cleaning"
   ]
  },
  {
   "cell_type": "markdown",
   "metadata": {},
   "source": [
    "## 2.1 Importing and Cleaning Greenhouses gases pollution Dataset\n",
    "\n",
    "<ul>\n",
    "<li><a href=\"https://www.kaggle.com/sogun3/uspollution\">Dataset Link </a></li>\n",
    "<li>Dataset has various columns, selected only the required columns while importing</li>\n",
    "<li>Based on our results from Exploratory Data Analysis we will be working on Washington</li>\n",
    "</ul>"
   ]
  },
  {
   "cell_type": "code",
   "execution_count": 1,
   "metadata": {},
   "outputs": [
    {
     "data": {
      "text/html": [
       "<div>\n",
       "<style scoped>\n",
       "    .dataframe tbody tr th:only-of-type {\n",
       "        vertical-align: middle;\n",
       "    }\n",
       "\n",
       "    .dataframe tbody tr th {\n",
       "        vertical-align: top;\n",
       "    }\n",
       "\n",
       "    .dataframe thead th {\n",
       "        text-align: right;\n",
       "    }\n",
       "</style>\n",
       "<table border=\"1\" class=\"dataframe\">\n",
       "  <thead>\n",
       "    <tr style=\"text-align: right;\">\n",
       "      <th></th>\n",
       "      <th>NO2 Mean</th>\n",
       "      <th>O3 Mean</th>\n",
       "      <th>SO2 Mean</th>\n",
       "      <th>CO Mean</th>\n",
       "    </tr>\n",
       "    <tr>\n",
       "      <th>Date Local</th>\n",
       "      <th></th>\n",
       "      <th></th>\n",
       "      <th></th>\n",
       "      <th></th>\n",
       "    </tr>\n",
       "  </thead>\n",
       "  <tbody>\n",
       "    <tr>\n",
       "      <th>2000-01-01</th>\n",
       "      <td>26.541667</td>\n",
       "      <td>0.004167</td>\n",
       "      <td>11.237500</td>\n",
       "      <td>2.033882</td>\n",
       "    </tr>\n",
       "    <tr>\n",
       "      <th>2000-01-02</th>\n",
       "      <td>14.958333</td>\n",
       "      <td>0.023083</td>\n",
       "      <td>7.777083</td>\n",
       "      <td>0.770833</td>\n",
       "    </tr>\n",
       "    <tr>\n",
       "      <th>2000-01-03</th>\n",
       "      <td>18.291667</td>\n",
       "      <td>0.014875</td>\n",
       "      <td>7.116149</td>\n",
       "      <td>0.583333</td>\n",
       "    </tr>\n",
       "    <tr>\n",
       "      <th>2000-01-04</th>\n",
       "      <td>13.363636</td>\n",
       "      <td>0.017250</td>\n",
       "      <td>5.402083</td>\n",
       "      <td>0.508333</td>\n",
       "    </tr>\n",
       "    <tr>\n",
       "      <th>2000-01-05</th>\n",
       "      <td>16.625000</td>\n",
       "      <td>0.009583</td>\n",
       "      <td>8.362500</td>\n",
       "      <td>0.616667</td>\n",
       "    </tr>\n",
       "  </tbody>\n",
       "</table>\n",
       "</div>"
      ],
      "text/plain": [
       "             NO2 Mean   O3 Mean   SO2 Mean   CO Mean\n",
       "Date Local                                          \n",
       "2000-01-01  26.541667  0.004167  11.237500  2.033882\n",
       "2000-01-02  14.958333  0.023083   7.777083  0.770833\n",
       "2000-01-03  18.291667  0.014875   7.116149  0.583333\n",
       "2000-01-04  13.363636  0.017250   5.402083  0.508333\n",
       "2000-01-05  16.625000  0.009583   8.362500  0.616667"
      ]
     },
     "execution_count": 1,
     "metadata": {},
     "output_type": "execute_result"
    }
   ],
   "source": [
    "# ------ Importing Libraries --------\n",
    "import pandas as pd\n",
    "import numpy as np\n",
    "%matplotlib inline\n",
    "\n",
    "import matplotlib.pyplot as plt\n",
    "#plt.rcParams['figure.figsize']=(20,10)\n",
    "plt.rcParams['legend.loc']='upper left'\n",
    "#plt.style.use('ggplot')\n",
    "import seaborn as sns\n",
    "import warnings\n",
    "warnings.filterwarnings('ignore')\n",
    "# ------ Importing Dataset -------------\n",
    "df=pd.read_csv(\"pollution_us_2000_2016.csv\",usecols=['City','Date Local','NO2 Mean','O3 Mean','SO2 Mean','CO Mean'])\n",
    "#----------- Filtering City ----------------\n",
    "df=df[df['City']=='Washington']\n",
    "df['Date Local']=pd.to_datetime(df['Date Local'], format='%Y-%m-%d') # Converting to datetime\n",
    "# Getting to same date range as for temperature data\n",
    "df=df[df['Date Local']<'2013-09-01']\n",
    "# Grouping as some measurements are taken multiple timesa a day\n",
    "df=df.groupby(['Date Local']).mean()\n",
    "df.head()\n"
   ]
  },
  {
   "cell_type": "markdown",
   "metadata": {},
   "source": [
    "### 2.1.A Data Transformations:  \n",
    "<ul>\n",
    "<li>Re sampling data from day to month by aggregating</li></ul>"
   ]
  },
  {
   "cell_type": "code",
   "execution_count": 2,
   "metadata": {},
   "outputs": [
    {
     "data": {
      "text/html": [
       "<div>\n",
       "<style scoped>\n",
       "    .dataframe tbody tr th:only-of-type {\n",
       "        vertical-align: middle;\n",
       "    }\n",
       "\n",
       "    .dataframe tbody tr th {\n",
       "        vertical-align: top;\n",
       "    }\n",
       "\n",
       "    .dataframe thead th {\n",
       "        text-align: right;\n",
       "    }\n",
       "</style>\n",
       "<table border=\"1\" class=\"dataframe\">\n",
       "  <thead>\n",
       "    <tr style=\"text-align: right;\">\n",
       "      <th></th>\n",
       "      <th>NO2 Mean</th>\n",
       "      <th>O3 Mean</th>\n",
       "      <th>SO2 Mean</th>\n",
       "      <th>CO Mean</th>\n",
       "    </tr>\n",
       "  </thead>\n",
       "  <tbody>\n",
       "    <tr>\n",
       "      <th>2000-01-01</th>\n",
       "      <td>683.300847</td>\n",
       "      <td>0.364102</td>\n",
       "      <td>358.045716</td>\n",
       "      <td>32.160386</td>\n",
       "    </tr>\n",
       "    <tr>\n",
       "      <th>2000-02-01</th>\n",
       "      <td>539.821081</td>\n",
       "      <td>0.357543</td>\n",
       "      <td>284.939440</td>\n",
       "      <td>35.490968</td>\n",
       "    </tr>\n",
       "    <tr>\n",
       "      <th>2000-03-01</th>\n",
       "      <td>782.589332</td>\n",
       "      <td>0.497125</td>\n",
       "      <td>202.283723</td>\n",
       "      <td>38.381430</td>\n",
       "    </tr>\n",
       "    <tr>\n",
       "      <th>2000-04-01</th>\n",
       "      <td>666.711299</td>\n",
       "      <td>0.546877</td>\n",
       "      <td>156.879679</td>\n",
       "      <td>33.645470</td>\n",
       "    </tr>\n",
       "    <tr>\n",
       "      <th>2000-05-01</th>\n",
       "      <td>695.437038</td>\n",
       "      <td>0.865069</td>\n",
       "      <td>199.120191</td>\n",
       "      <td>26.834821</td>\n",
       "    </tr>\n",
       "  </tbody>\n",
       "</table>\n",
       "</div>"
      ],
      "text/plain": [
       "              NO2 Mean   O3 Mean    SO2 Mean    CO Mean\n",
       "2000-01-01  683.300847  0.364102  358.045716  32.160386\n",
       "2000-02-01  539.821081  0.357543  284.939440  35.490968\n",
       "2000-03-01  782.589332  0.497125  202.283723  38.381430\n",
       "2000-04-01  666.711299  0.546877  156.879679  33.645470\n",
       "2000-05-01  695.437038  0.865069  199.120191  26.834821"
      ]
     },
     "execution_count": 2,
     "metadata": {},
     "output_type": "execute_result"
    }
   ],
   "source": [
    "#taking sum of daily values to get monthly values\n",
    "df=df.resample('M').sum()\n",
    "df.index = [pd.datetime(x.year, x.month, 1) for x in df.index.tolist()] \n",
    "df.head()"
   ]
  },
  {
   "cell_type": "markdown",
   "metadata": {},
   "source": [
    "## 2.2 Importing and Cleaning Temperature Dataset\n",
    "<ul>\n",
    "    <li><a href=\"https://www.kaggle.com/berkeleyearth/climate-change-earth-surface-temperature-data\">Dataset Link</a></li>\n",
    "<li>Dataset has various columns, selected only the required columns while importing</li>\n",
    "<li>Based on our results from Exploratory Data Analysis we will be working on Washington</li>\n",
    "</ul>"
   ]
  },
  {
   "cell_type": "code",
   "execution_count": 3,
   "metadata": {
    "scrolled": true
   },
   "outputs": [
    {
     "data": {
      "text/html": [
       "<div>\n",
       "<style scoped>\n",
       "    .dataframe tbody tr th:only-of-type {\n",
       "        vertical-align: middle;\n",
       "    }\n",
       "\n",
       "    .dataframe tbody tr th {\n",
       "        vertical-align: top;\n",
       "    }\n",
       "\n",
       "    .dataframe thead th {\n",
       "        text-align: right;\n",
       "    }\n",
       "</style>\n",
       "<table border=\"1\" class=\"dataframe\">\n",
       "  <thead>\n",
       "    <tr style=\"text-align: right;\">\n",
       "      <th></th>\n",
       "      <th>AverageTemperatureAnomaly</th>\n",
       "    </tr>\n",
       "    <tr>\n",
       "      <th>dt</th>\n",
       "      <th></th>\n",
       "    </tr>\n",
       "  </thead>\n",
       "  <tbody>\n",
       "    <tr>\n",
       "      <th>2000-01-01</th>\n",
       "      <td>0.214</td>\n",
       "    </tr>\n",
       "    <tr>\n",
       "      <th>2000-02-01</th>\n",
       "      <td>0.267</td>\n",
       "    </tr>\n",
       "    <tr>\n",
       "      <th>2000-03-01</th>\n",
       "      <td>0.144</td>\n",
       "    </tr>\n",
       "    <tr>\n",
       "      <th>2000-04-01</th>\n",
       "      <td>0.165</td>\n",
       "    </tr>\n",
       "    <tr>\n",
       "      <th>2000-05-01</th>\n",
       "      <td>0.191</td>\n",
       "    </tr>\n",
       "  </tbody>\n",
       "</table>\n",
       "</div>"
      ],
      "text/plain": [
       "            AverageTemperatureAnomaly\n",
       "dt                                   \n",
       "2000-01-01                      0.214\n",
       "2000-02-01                      0.267\n",
       "2000-03-01                      0.144\n",
       "2000-04-01                      0.165\n",
       "2000-05-01                      0.191"
      ]
     },
     "execution_count": 3,
     "metadata": {},
     "output_type": "execute_result"
    }
   ],
   "source": [
    "df_t=pd.read_csv(\"GlobalLandTemperaturesByCity.csv\",usecols=['dt','City','AverageTemperatureAnomaly'])\n",
    "df_t= df_t[df_t['City']=='Washington'] #filtering for city\n",
    "df_t=df_t[df_t['dt']<'2017-01-01'] # getting it to same date range as Greenhouse dataset\n",
    "df_t=df_t[df_t['dt']>'1999-12-31']\n",
    "df_t=df_t.set_index('dt')\n",
    "df_t=df_t.drop('City',axis=1)\n",
    "df_t.head()"
   ]
  },
  {
   "cell_type": "markdown",
   "metadata": {},
   "source": [
    "  **-------------------------------------------------------------------------------------------------------------------------------------------------------------------------**"
   ]
  },
  {
   "cell_type": "markdown",
   "metadata": {},
   "source": [
    "# 3. Creating a Combined Dataset"
   ]
  },
  {
   "cell_type": "code",
   "execution_count": 4,
   "metadata": {},
   "outputs": [
    {
     "data": {
      "text/html": [
       "<div>\n",
       "<style scoped>\n",
       "    .dataframe tbody tr th:only-of-type {\n",
       "        vertical-align: middle;\n",
       "    }\n",
       "\n",
       "    .dataframe tbody tr th {\n",
       "        vertical-align: top;\n",
       "    }\n",
       "\n",
       "    .dataframe thead th {\n",
       "        text-align: right;\n",
       "    }\n",
       "</style>\n",
       "<table border=\"1\" class=\"dataframe\">\n",
       "  <thead>\n",
       "    <tr style=\"text-align: right;\">\n",
       "      <th></th>\n",
       "      <th>NO2 Mean</th>\n",
       "      <th>O3 Mean</th>\n",
       "      <th>SO2 Mean</th>\n",
       "      <th>CO Mean</th>\n",
       "      <th>AverageTemperatureAnomaly</th>\n",
       "    </tr>\n",
       "  </thead>\n",
       "  <tbody>\n",
       "    <tr>\n",
       "      <th>2000-01-01</th>\n",
       "      <td>683.300847</td>\n",
       "      <td>0.364102</td>\n",
       "      <td>358.045716</td>\n",
       "      <td>32.160386</td>\n",
       "      <td>0.214</td>\n",
       "    </tr>\n",
       "    <tr>\n",
       "      <th>2000-02-01</th>\n",
       "      <td>539.821081</td>\n",
       "      <td>0.357543</td>\n",
       "      <td>284.939440</td>\n",
       "      <td>35.490968</td>\n",
       "      <td>0.267</td>\n",
       "    </tr>\n",
       "    <tr>\n",
       "      <th>2000-03-01</th>\n",
       "      <td>782.589332</td>\n",
       "      <td>0.497125</td>\n",
       "      <td>202.283723</td>\n",
       "      <td>38.381430</td>\n",
       "      <td>0.144</td>\n",
       "    </tr>\n",
       "    <tr>\n",
       "      <th>2000-04-01</th>\n",
       "      <td>666.711299</td>\n",
       "      <td>0.546877</td>\n",
       "      <td>156.879679</td>\n",
       "      <td>33.645470</td>\n",
       "      <td>0.165</td>\n",
       "    </tr>\n",
       "    <tr>\n",
       "      <th>2000-05-01</th>\n",
       "      <td>695.437038</td>\n",
       "      <td>0.865069</td>\n",
       "      <td>199.120191</td>\n",
       "      <td>26.834821</td>\n",
       "      <td>0.191</td>\n",
       "    </tr>\n",
       "  </tbody>\n",
       "</table>\n",
       "</div>"
      ],
      "text/plain": [
       "              NO2 Mean   O3 Mean    SO2 Mean    CO Mean  \\\n",
       "2000-01-01  683.300847  0.364102  358.045716  32.160386   \n",
       "2000-02-01  539.821081  0.357543  284.939440  35.490968   \n",
       "2000-03-01  782.589332  0.497125  202.283723  38.381430   \n",
       "2000-04-01  666.711299  0.546877  156.879679  33.645470   \n",
       "2000-05-01  695.437038  0.865069  199.120191  26.834821   \n",
       "\n",
       "            AverageTemperatureAnomaly  \n",
       "2000-01-01                      0.214  \n",
       "2000-02-01                      0.267  \n",
       "2000-03-01                      0.144  \n",
       "2000-04-01                      0.165  \n",
       "2000-05-01                      0.191  "
      ]
     },
     "execution_count": 4,
     "metadata": {},
     "output_type": "execute_result"
    }
   ],
   "source": [
    "data=df.join(df_t) #joining dataset on Index\n",
    "data2=data\n",
    "data.head()"
   ]
  },
  {
   "cell_type": "markdown",
   "metadata": {},
   "source": [
    "### 3.1 Normalizing the Dataset\n",
    "<ul>\n",
    "    <li>Using min max scaler to normalize the data</li>\n",
    "</ul>"
   ]
  },
  {
   "cell_type": "code",
   "execution_count": 5,
   "metadata": {},
   "outputs": [
    {
     "data": {
      "text/html": [
       "<div>\n",
       "<style scoped>\n",
       "    .dataframe tbody tr th:only-of-type {\n",
       "        vertical-align: middle;\n",
       "    }\n",
       "\n",
       "    .dataframe tbody tr th {\n",
       "        vertical-align: top;\n",
       "    }\n",
       "\n",
       "    .dataframe thead th {\n",
       "        text-align: right;\n",
       "    }\n",
       "</style>\n",
       "<table border=\"1\" class=\"dataframe\">\n",
       "  <thead>\n",
       "    <tr style=\"text-align: right;\">\n",
       "      <th></th>\n",
       "      <th>NO2 Mean</th>\n",
       "      <th>O3 Mean</th>\n",
       "      <th>SO2 Mean</th>\n",
       "      <th>CO Mean</th>\n",
       "      <th>AverageTemperatureAnomaly</th>\n",
       "    </tr>\n",
       "  </thead>\n",
       "  <tbody>\n",
       "    <tr>\n",
       "      <th>2000-01-01</th>\n",
       "      <td>0.614961</td>\n",
       "      <td>0.166506</td>\n",
       "      <td>0.829139</td>\n",
       "      <td>0.419579</td>\n",
       "      <td>0.326340</td>\n",
       "    </tr>\n",
       "    <tr>\n",
       "      <th>2000-02-01</th>\n",
       "      <td>0.435564</td>\n",
       "      <td>0.160716</td>\n",
       "      <td>0.648301</td>\n",
       "      <td>0.469367</td>\n",
       "      <td>0.449883</td>\n",
       "    </tr>\n",
       "    <tr>\n",
       "      <th>2000-03-01</th>\n",
       "      <td>0.739105</td>\n",
       "      <td>0.283944</td>\n",
       "      <td>0.443841</td>\n",
       "      <td>0.512575</td>\n",
       "      <td>0.163170</td>\n",
       "    </tr>\n",
       "    <tr>\n",
       "      <th>2000-04-01</th>\n",
       "      <td>0.594219</td>\n",
       "      <td>0.327867</td>\n",
       "      <td>0.331529</td>\n",
       "      <td>0.441779</td>\n",
       "      <td>0.212121</td>\n",
       "    </tr>\n",
       "    <tr>\n",
       "      <th>2000-05-01</th>\n",
       "      <td>0.630135</td>\n",
       "      <td>0.608778</td>\n",
       "      <td>0.436016</td>\n",
       "      <td>0.339969</td>\n",
       "      <td>0.272727</td>\n",
       "    </tr>\n",
       "  </tbody>\n",
       "</table>\n",
       "</div>"
      ],
      "text/plain": [
       "            NO2 Mean   O3 Mean  SO2 Mean   CO Mean  AverageTemperatureAnomaly\n",
       "2000-01-01  0.614961  0.166506  0.829139  0.419579                   0.326340\n",
       "2000-02-01  0.435564  0.160716  0.648301  0.469367                   0.449883\n",
       "2000-03-01  0.739105  0.283944  0.443841  0.512575                   0.163170\n",
       "2000-04-01  0.594219  0.327867  0.331529  0.441779                   0.212121\n",
       "2000-05-01  0.630135  0.608778  0.436016  0.339969                   0.272727"
      ]
     },
     "execution_count": 5,
     "metadata": {},
     "output_type": "execute_result"
    }
   ],
   "source": [
    "from sklearn import preprocessing\n",
    "min_max_scaler = preprocessing.MinMaxScaler()\n",
    "data[['NO2 Mean', 'O3 Mean','SO2 Mean','CO Mean','AverageTemperatureAnomaly']] = min_max_scaler.fit_transform(data[['NO2 Mean', 'O3 Mean','SO2 Mean','CO Mean','AverageTemperatureAnomaly']])\n",
    "data.head()"
   ]
  },
  {
   "cell_type": "markdown",
   "metadata": {},
   "source": [
    "  **-------------------------------------------------------------------------------------------------------------------------------------------------------------------------**"
   ]
  },
  {
   "cell_type": "markdown",
   "metadata": {},
   "source": [
    "# 4. Exploratory Data Analysis"
   ]
  },
  {
   "cell_type": "markdown",
   "metadata": {},
   "source": [
    "### 4.1 Descriptive Statistics"
   ]
  },
  {
   "cell_type": "code",
   "execution_count": 6,
   "metadata": {},
   "outputs": [
    {
     "data": {
      "text/html": [
       "<div>\n",
       "<style scoped>\n",
       "    .dataframe tbody tr th:only-of-type {\n",
       "        vertical-align: middle;\n",
       "    }\n",
       "\n",
       "    .dataframe tbody tr th {\n",
       "        vertical-align: top;\n",
       "    }\n",
       "\n",
       "    .dataframe thead th {\n",
       "        text-align: right;\n",
       "    }\n",
       "</style>\n",
       "<table border=\"1\" class=\"dataframe\">\n",
       "  <thead>\n",
       "    <tr style=\"text-align: right;\">\n",
       "      <th></th>\n",
       "      <th>NO2 Mean</th>\n",
       "      <th>O3 Mean</th>\n",
       "      <th>SO2 Mean</th>\n",
       "      <th>CO Mean</th>\n",
       "      <th>AverageTemperatureAnomaly</th>\n",
       "    </tr>\n",
       "  </thead>\n",
       "  <tbody>\n",
       "    <tr>\n",
       "      <th>count</th>\n",
       "      <td>164.000000</td>\n",
       "      <td>164.000000</td>\n",
       "      <td>164.000000</td>\n",
       "      <td>164.000000</td>\n",
       "      <td>164.000000</td>\n",
       "    </tr>\n",
       "    <tr>\n",
       "      <th>mean</th>\n",
       "      <td>0.476076</td>\n",
       "      <td>0.482548</td>\n",
       "      <td>0.324394</td>\n",
       "      <td>0.348929</td>\n",
       "      <td>0.447837</td>\n",
       "    </tr>\n",
       "    <tr>\n",
       "      <th>std</th>\n",
       "      <td>0.186617</td>\n",
       "      <td>0.248803</td>\n",
       "      <td>0.199676</td>\n",
       "      <td>0.161680</td>\n",
       "      <td>0.187666</td>\n",
       "    </tr>\n",
       "    <tr>\n",
       "      <th>min</th>\n",
       "      <td>0.000000</td>\n",
       "      <td>0.000000</td>\n",
       "      <td>0.000000</td>\n",
       "      <td>0.000000</td>\n",
       "      <td>0.000000</td>\n",
       "    </tr>\n",
       "    <tr>\n",
       "      <th>25%</th>\n",
       "      <td>0.347460</td>\n",
       "      <td>0.273561</td>\n",
       "      <td>0.176674</td>\n",
       "      <td>0.234150</td>\n",
       "      <td>0.316434</td>\n",
       "    </tr>\n",
       "    <tr>\n",
       "      <th>50%</th>\n",
       "      <td>0.476671</td>\n",
       "      <td>0.455793</td>\n",
       "      <td>0.299104</td>\n",
       "      <td>0.338870</td>\n",
       "      <td>0.419580</td>\n",
       "    </tr>\n",
       "    <tr>\n",
       "      <th>75%</th>\n",
       "      <td>0.599332</td>\n",
       "      <td>0.664715</td>\n",
       "      <td>0.443233</td>\n",
       "      <td>0.459714</td>\n",
       "      <td>0.546620</td>\n",
       "    </tr>\n",
       "    <tr>\n",
       "      <th>max</th>\n",
       "      <td>1.000000</td>\n",
       "      <td>1.000000</td>\n",
       "      <td>1.000000</td>\n",
       "      <td>1.000000</td>\n",
       "      <td>1.000000</td>\n",
       "    </tr>\n",
       "  </tbody>\n",
       "</table>\n",
       "</div>"
      ],
      "text/plain": [
       "         NO2 Mean     O3 Mean    SO2 Mean     CO Mean  \\\n",
       "count  164.000000  164.000000  164.000000  164.000000   \n",
       "mean     0.476076    0.482548    0.324394    0.348929   \n",
       "std      0.186617    0.248803    0.199676    0.161680   \n",
       "min      0.000000    0.000000    0.000000    0.000000   \n",
       "25%      0.347460    0.273561    0.176674    0.234150   \n",
       "50%      0.476671    0.455793    0.299104    0.338870   \n",
       "75%      0.599332    0.664715    0.443233    0.459714   \n",
       "max      1.000000    1.000000    1.000000    1.000000   \n",
       "\n",
       "       AverageTemperatureAnomaly  \n",
       "count                 164.000000  \n",
       "mean                    0.447837  \n",
       "std                     0.187666  \n",
       "min                     0.000000  \n",
       "25%                     0.316434  \n",
       "50%                     0.419580  \n",
       "75%                     0.546620  \n",
       "max                     1.000000  "
      ]
     },
     "execution_count": 6,
     "metadata": {},
     "output_type": "execute_result"
    }
   ],
   "source": [
    "data.describe()"
   ]
  },
  {
   "cell_type": "markdown",
   "metadata": {},
   "source": [
    "### 4.2.A Line chart "
   ]
  },
  {
   "cell_type": "code",
   "execution_count": 7,
   "metadata": {},
   "outputs": [
    {
     "data": {
      "text/html": [
       "        <script type=\"text/javascript\">\n",
       "        window.PlotlyConfig = {MathJaxConfig: 'local'};\n",
       "        if (window.MathJax) {MathJax.Hub.Config({SVG: {font: \"STIX-Web\"}});}\n",
       "        if (typeof require !== 'undefined') {\n",
       "        require.undef(\"plotly\");\n",
       "        requirejs.config({\n",
       "            paths: {\n",
       "                'plotly': ['https://cdn.plot.ly/plotly-latest.min']\n",
       "            }\n",
       "        });\n",
       "        require(['plotly'], function(Plotly) {\n",
       "            window._Plotly = Plotly;\n",
       "        });\n",
       "        }\n",
       "        </script>\n",
       "        "
      ]
     },
     "metadata": {},
     "output_type": "display_data"
    },
    {
     "data": {
      "text/html": [
       "        <script type=\"text/javascript\">\n",
       "        window.PlotlyConfig = {MathJaxConfig: 'local'};\n",
       "        if (window.MathJax) {MathJax.Hub.Config({SVG: {font: \"STIX-Web\"}});}\n",
       "        if (typeof require !== 'undefined') {\n",
       "        require.undef(\"plotly\");\n",
       "        requirejs.config({\n",
       "            paths: {\n",
       "                'plotly': ['https://cdn.plot.ly/plotly-latest.min']\n",
       "            }\n",
       "        });\n",
       "        require(['plotly'], function(Plotly) {\n",
       "            window._Plotly = Plotly;\n",
       "        });\n",
       "        }\n",
       "        </script>\n",
       "        "
      ]
     },
     "metadata": {},
     "output_type": "display_data"
    }
   ],
   "source": [
    "import chart_studio.plotly as py\n",
    "import plotly.graph_objs as go\n",
    "from plotly.offline import iplot, init_notebook_mode\n",
    "from plotly.subplots import make_subplots\n",
    "import plotly.graph_objects as go\n",
    "import cufflinks\n",
    "cufflinks.go_offline(connected=True)\n",
    "init_notebook_mode(connected=True)"
   ]
  },
  {
   "cell_type": "markdown",
   "metadata": {},
   "source": [
    "### Built an interactive graph which shows Greenhouse gases emission over time"
   ]
  },
  {
   "cell_type": "code",
   "execution_count": 8,
   "metadata": {
    "scrolled": false
   },
   "outputs": [
    {
     "data": {
      "application/vnd.plotly.v1+json": {
       "config": {
        "linkText": "Export to plot.ly",
        "plotlyServerURL": "https://plot.ly",
        "showLink": true
       },
       "data": [
        {
         "line": {
          "color": "rgba(255, 153, 51, 1.0)",
          "dash": "solid",
          "shape": "linear",
          "width": 1.3
         },
         "mode": "lines",
         "name": "NO2 Mean",
         "text": "",
         "type": "scatter",
         "x": [
          "2000-01-01",
          "2000-02-01",
          "2000-03-01",
          "2000-04-01",
          "2000-05-01",
          "2000-06-01",
          "2000-07-01",
          "2000-08-01",
          "2000-09-01",
          "2000-10-01",
          "2000-11-01",
          "2000-12-01",
          "2001-01-01",
          "2001-02-01",
          "2001-03-01",
          "2001-04-01",
          "2001-05-01",
          "2001-06-01",
          "2001-07-01",
          "2001-08-01",
          "2001-09-01",
          "2001-10-01",
          "2001-11-01",
          "2001-12-01",
          "2002-01-01",
          "2002-02-01",
          "2002-03-01",
          "2002-04-01",
          "2002-05-01",
          "2002-06-01",
          "2002-07-01",
          "2002-08-01",
          "2002-09-01",
          "2002-10-01",
          "2002-11-01",
          "2002-12-01",
          "2003-01-01",
          "2003-02-01",
          "2003-03-01",
          "2003-04-01",
          "2003-05-01",
          "2003-06-01",
          "2003-07-01",
          "2003-08-01",
          "2003-09-01",
          "2003-10-01",
          "2003-11-01",
          "2003-12-01",
          "2004-01-01",
          "2004-02-01",
          "2004-03-01",
          "2004-04-01",
          "2004-05-01",
          "2004-06-01",
          "2004-07-01",
          "2004-08-01",
          "2004-09-01",
          "2004-10-01",
          "2004-11-01",
          "2004-12-01",
          "2005-01-01",
          "2005-02-01",
          "2005-03-01",
          "2005-04-01",
          "2005-05-01",
          "2005-06-01",
          "2005-07-01",
          "2005-08-01",
          "2005-09-01",
          "2005-10-01",
          "2005-11-01",
          "2005-12-01",
          "2006-01-01",
          "2006-02-01",
          "2006-03-01",
          "2006-04-01",
          "2006-05-01",
          "2006-06-01",
          "2006-07-01",
          "2006-08-01",
          "2006-09-01",
          "2006-10-01",
          "2006-11-01",
          "2006-12-01",
          "2007-01-01",
          "2007-02-01",
          "2007-03-01",
          "2007-04-01",
          "2007-05-01",
          "2007-06-01",
          "2007-07-01",
          "2007-08-01",
          "2007-09-01",
          "2007-10-01",
          "2007-11-01",
          "2007-12-01",
          "2008-01-01",
          "2008-02-01",
          "2008-03-01",
          "2008-04-01",
          "2008-05-01",
          "2008-06-01",
          "2008-07-01",
          "2008-08-01",
          "2008-09-01",
          "2008-10-01",
          "2008-11-01",
          "2008-12-01",
          "2009-01-01",
          "2009-02-01",
          "2009-03-01",
          "2009-04-01",
          "2009-05-01",
          "2009-06-01",
          "2009-07-01",
          "2009-08-01",
          "2009-09-01",
          "2009-10-01",
          "2009-11-01",
          "2009-12-01",
          "2010-01-01",
          "2010-02-01",
          "2010-03-01",
          "2010-04-01",
          "2010-05-01",
          "2010-06-01",
          "2010-07-01",
          "2010-08-01",
          "2010-09-01",
          "2010-10-01",
          "2010-11-01",
          "2010-12-01",
          "2011-01-01",
          "2011-02-01",
          "2011-03-01",
          "2011-04-01",
          "2011-05-01",
          "2011-06-01",
          "2011-07-01",
          "2011-08-01",
          "2011-09-01",
          "2011-10-01",
          "2011-11-01",
          "2011-12-01",
          "2012-01-01",
          "2012-02-01",
          "2012-03-01",
          "2012-04-01",
          "2012-05-01",
          "2012-06-01",
          "2012-07-01",
          "2012-08-01",
          "2012-09-01",
          "2012-10-01",
          "2012-11-01",
          "2012-12-01",
          "2013-01-01",
          "2013-02-01",
          "2013-03-01",
          "2013-04-01",
          "2013-05-01",
          "2013-06-01",
          "2013-07-01",
          "2013-08-01"
         ],
         "y": [
          0.6149610785354894,
          0.4355635267175306,
          0.7391047932158862,
          0.5942186116362439,
          0.6301353641821164,
          0.6097748804056204,
          0.40477228986786373,
          0.5114068074438823,
          0.47561805778566,
          0.8879232147518066,
          0.7442074128058288,
          0.822559767688144,
          1,
          0.6807224529741444,
          0.6795643716203615,
          0.7102611682833624,
          0.6235722100758335,
          0.6307306004282748,
          0.500582388132139,
          0.5674472218571789,
          0.5271346757278843,
          0.6461414254086111,
          0.7875310369726987,
          0.45336495675878974,
          0.8793082296837478,
          0.7110693963332371,
          0.690026235490608,
          0.5670265346622704,
          0.550184509238826,
          0.6912846098419687,
          0.6649244334812096,
          0.6743545334358231,
          0.6569535564431397,
          0.7124532278933299,
          0.6367375662022573,
          0.8471605348243596,
          0.7009981603912618,
          0.8171129963148567,
          0.7627222518592582,
          0.6511843553296546,
          0.503403386726596,
          0.5379283268339198,
          0.5189825966142398,
          0.5531812334483166,
          0.43566954999334195,
          0.6484141427795497,
          0.5918320213960515,
          0.6252228465412941,
          0.5514136357899636,
          0.8482823752628943,
          0.6382249128692473,
          0.5637386040396681,
          0.36435912315362495,
          0.42829861545656256,
          0.40473269930928446,
          0.45339177516110674,
          0.495555577510022,
          0.6944601379874632,
          0.5958509044595581,
          0.6266850077414613,
          0.7609324157700412,
          0.87282407789694,
          0.7324364660605435,
          0.7623032051018455,
          0.5828134349397732,
          0.3907765047707047,
          0.4463841387638976,
          0.21683130081325094,
          0.3682061253774789,
          0.3569120358073199,
          0.4478032797408137,
          0.6202250061453736,
          0.44735858489319913,
          0.4798864073804874,
          0.4359124360196792,
          0.34487015930659237,
          0.3504212960135271,
          0.21395724056754997,
          0.21598902868401162,
          0.31752652691364114,
          0.23763697832041017,
          0.32390635462780604,
          0.4757400440687156,
          0.5707672410376192,
          0.1992479076712065,
          0.39265479069899634,
          0.23103092277255463,
          0.3098637020313485,
          0.2707885209003388,
          0.21563526808805075,
          0.21068417766008354,
          0.2312594874794762,
          0.3396772043747225,
          0.344648795270049,
          0.2865739820440326,
          0.5716811035095999,
          0.364361936403903,
          0.2953780425374435,
          0.49147463414538195,
          0.4002972451486092,
          0.395247258345535,
          0.3566752314029171,
          0.4014268914189152,
          0.5037306665102733,
          0.4896285880652764,
          0.5594928217134039,
          0.5201478848900686,
          0.47760221569941463,
          0.693654360591164,
          0.44734273191529916,
          0.526891900981225,
          0.4818605388702514,
          0.32050451237561284,
          0.3534080163050285,
          0.30146596615242693,
          0.3479766352862622,
          0.3695543049293819,
          0.43223227079031334,
          0.5821588191074123,
          0.5545320549548137,
          0.5852491707868225,
          0.5590080911884997,
          0.5071099915072417,
          0.427273353274906,
          0.2881340731115448,
          0.3164757841864664,
          0.3815103672939616,
          0.377687293951806,
          0.3459091326449375,
          0.4101078903424975,
          0.5142219807347636,
          0.44472296823906254,
          0.562575777670416,
          0.4002379843440861,
          0.40164528216249806,
          0.26690291088000284,
          0.28050096115352174,
          0.21153668251833377,
          0.2987276671134761,
          0.2897385985294483,
          0.2473324384200817,
          0.3543190599002307,
          0.4967761411524797,
          0.5415186722755203,
          0.4150601252423558,
          0.44730141902238296,
          0.31549652031396647,
          0.306210416887417,
          0.22668157386733337,
          0.15947464286520738,
          0.17625462028246378,
          0.402991014811826,
          0.428462502914426,
          0.48926641772648427,
          0.5562572869394796,
          0.518452306438833,
          0.48046240161991105,
          0.31268198135892566,
          0.18064893618012914,
          0.13423450396213762,
          0.08601258657301827,
          0.06214318323741405,
          0,
          0.05543993280989748
         ]
        },
        {
         "line": {
          "color": "rgba(55, 128, 191, 1.0)",
          "dash": "solid",
          "shape": "linear",
          "width": 1.3
         },
         "mode": "lines",
         "name": "O3 Mean",
         "text": "",
         "type": "scatter",
         "x": [
          "2000-01-01",
          "2000-02-01",
          "2000-03-01",
          "2000-04-01",
          "2000-05-01",
          "2000-06-01",
          "2000-07-01",
          "2000-08-01",
          "2000-09-01",
          "2000-10-01",
          "2000-11-01",
          "2000-12-01",
          "2001-01-01",
          "2001-02-01",
          "2001-03-01",
          "2001-04-01",
          "2001-05-01",
          "2001-06-01",
          "2001-07-01",
          "2001-08-01",
          "2001-09-01",
          "2001-10-01",
          "2001-11-01",
          "2001-12-01",
          "2002-01-01",
          "2002-02-01",
          "2002-03-01",
          "2002-04-01",
          "2002-05-01",
          "2002-06-01",
          "2002-07-01",
          "2002-08-01",
          "2002-09-01",
          "2002-10-01",
          "2002-11-01",
          "2002-12-01",
          "2003-01-01",
          "2003-02-01",
          "2003-03-01",
          "2003-04-01",
          "2003-05-01",
          "2003-06-01",
          "2003-07-01",
          "2003-08-01",
          "2003-09-01",
          "2003-10-01",
          "2003-11-01",
          "2003-12-01",
          "2004-01-01",
          "2004-02-01",
          "2004-03-01",
          "2004-04-01",
          "2004-05-01",
          "2004-06-01",
          "2004-07-01",
          "2004-08-01",
          "2004-09-01",
          "2004-10-01",
          "2004-11-01",
          "2004-12-01",
          "2005-01-01",
          "2005-02-01",
          "2005-03-01",
          "2005-04-01",
          "2005-05-01",
          "2005-06-01",
          "2005-07-01",
          "2005-08-01",
          "2005-09-01",
          "2005-10-01",
          "2005-11-01",
          "2005-12-01",
          "2006-01-01",
          "2006-02-01",
          "2006-03-01",
          "2006-04-01",
          "2006-05-01",
          "2006-06-01",
          "2006-07-01",
          "2006-08-01",
          "2006-09-01",
          "2006-10-01",
          "2006-11-01",
          "2006-12-01",
          "2007-01-01",
          "2007-02-01",
          "2007-03-01",
          "2007-04-01",
          "2007-05-01",
          "2007-06-01",
          "2007-07-01",
          "2007-08-01",
          "2007-09-01",
          "2007-10-01",
          "2007-11-01",
          "2007-12-01",
          "2008-01-01",
          "2008-02-01",
          "2008-03-01",
          "2008-04-01",
          "2008-05-01",
          "2008-06-01",
          "2008-07-01",
          "2008-08-01",
          "2008-09-01",
          "2008-10-01",
          "2008-11-01",
          "2008-12-01",
          "2009-01-01",
          "2009-02-01",
          "2009-03-01",
          "2009-04-01",
          "2009-05-01",
          "2009-06-01",
          "2009-07-01",
          "2009-08-01",
          "2009-09-01",
          "2009-10-01",
          "2009-11-01",
          "2009-12-01",
          "2010-01-01",
          "2010-02-01",
          "2010-03-01",
          "2010-04-01",
          "2010-05-01",
          "2010-06-01",
          "2010-07-01",
          "2010-08-01",
          "2010-09-01",
          "2010-10-01",
          "2010-11-01",
          "2010-12-01",
          "2011-01-01",
          "2011-02-01",
          "2011-03-01",
          "2011-04-01",
          "2011-05-01",
          "2011-06-01",
          "2011-07-01",
          "2011-08-01",
          "2011-09-01",
          "2011-10-01",
          "2011-11-01",
          "2011-12-01",
          "2012-01-01",
          "2012-02-01",
          "2012-03-01",
          "2012-04-01",
          "2012-05-01",
          "2012-06-01",
          "2012-07-01",
          "2012-08-01",
          "2012-09-01",
          "2012-10-01",
          "2012-11-01",
          "2012-12-01",
          "2013-01-01",
          "2013-02-01",
          "2013-03-01",
          "2013-04-01",
          "2013-05-01",
          "2013-06-01",
          "2013-07-01",
          "2013-08-01"
         ],
         "y": [
          0.16650628490510402,
          0.16071576761653858,
          0.2839436962905022,
          0.32786652235250924,
          0.6087776790964,
          0.6078674758147247,
          0.5180769373381101,
          0.4819071716249643,
          0.28526265235531645,
          0.19448157257701423,
          0.10667653088069887,
          0.04400669542355792,
          0.04925780029204194,
          0.141622686750583,
          0.2962309991754317,
          0.4566863303534695,
          0.6116963328783788,
          0.7261647688648677,
          0.6157061711959064,
          0.6778374770683508,
          0.4300547181371466,
          0.38234452827456866,
          0.2037169135368682,
          0,
          0.1321313235291521,
          0.23921484152222008,
          0.4105555329942068,
          0.545152615752961,
          0.7178175603020706,
          0.8314005123976573,
          0.9577333731197808,
          0.9372816085966977,
          0.5307694616646391,
          0.2416567641964342,
          0.20441435349081935,
          0.17475726441096337,
          0.1764938016127637,
          0.09049150977210485,
          0.259257853262165,
          0.4371889108812993,
          0.2740630026643972,
          0.6214825631183157,
          0.7679590788142461,
          0.6605462632226667,
          0.39781974973382506,
          0.2741601145567196,
          0.16784819468992182,
          0.18733590297285976,
          0.25264276772424454,
          0.21589386199870395,
          0.39197979366371405,
          0.5178571113273076,
          0.635897499280489,
          0.5437912835896792,
          0.6083141905194072,
          0.5463294353208311,
          0.2875853922525897,
          0.13518416828961236,
          0.12742404525767312,
          0.14364967679396565,
          0.15324698026156644,
          0.18124080747655627,
          0.4476363848244127,
          0.456666907975005,
          0.4518686976588969,
          0.6179123768223929,
          0.6040465642695328,
          0.7352570904923927,
          0.6210208402120924,
          0.2686777068174314,
          0.34390234428108046,
          0.17628456962657832,
          0.28923806009283903,
          0.3708305891866791,
          0.6633439685569349,
          0.6718041800489797,
          0.7923836025686977,
          0.8400920267605058,
          0.9166047210505035,
          0.9198058821556012,
          0.473017902135932,
          0.3731842283224186,
          0.23854918364211972,
          0.19688288482353003,
          0.18606020584189822,
          0.2928832873964653,
          0.4601435137201446,
          0.6566485449990023,
          0.8805559037850681,
          0.8521586207992482,
          0.8844200742641126,
          0.9152089583072158,
          0.691481697939639,
          0.4286951516446339,
          0.19437298382469007,
          0.21541006820786177,
          0.31812355104642454,
          0.25153569215176985,
          0.6515731243720831,
          0.6176183926392715,
          0.7019591882858335,
          0.848442766664842,
          0.9768723614257435,
          0.7357329387647719,
          0.4982511031028133,
          0.35100563778676697,
          0.2820650225917575,
          0.3195740495835666,
          0.3404080818282462,
          0.5313900949401174,
          0.6032696691309544,
          0.6538534881708885,
          0.5337472654173956,
          0.6370531307991248,
          0.6844931730339694,
          0.5928610399447698,
          0.3526980332193298,
          0.29784747076490625,
          0.20401089771998934,
          0.26934248186214704,
          0.31881481115268284,
          0.42909595890930974,
          0.628249496342413,
          0.6297962239364923,
          0.6441740810125062,
          0.8785615786509213,
          0.959682673649306,
          0.9189583601862426,
          0.7125240793351187,
          0.42825020261072066,
          0.29255045845641525,
          0.37509291842424464,
          0.31391948894425237,
          0.45491889391320306,
          0.6666042796328112,
          0.6900841695255816,
          0.7410802726901934,
          0.8200393038313293,
          1,
          0.7066267389649991,
          0.38988835663724475,
          0.2505729601647019,
          0.2900203993829569,
          0.1547725198064118,
          0.2751341762645586,
          0.3305504890613753,
          0.6132254037647631,
          0.7192558462830567,
          0.7526623372419398,
          0.8270035507639175,
          0.8868877463037148,
          0.9225364920006283,
          0.6607784489288556,
          0.41864892638388873,
          0.24432689981760622,
          0.17597072164730013,
          0.2720567592525561,
          0.36980488160883196,
          0.7047127518508642,
          0.8277504294994148,
          0.7193201461269128,
          0.6640855502801235,
          0.6593517869471022,
          0.6627459947229986
         ]
        },
        {
         "line": {
          "color": "rgba(50, 171, 96, 1.0)",
          "dash": "solid",
          "shape": "linear",
          "width": 1.3
         },
         "mode": "lines",
         "name": "SO2 Mean",
         "text": "",
         "type": "scatter",
         "x": [
          "2000-01-01",
          "2000-02-01",
          "2000-03-01",
          "2000-04-01",
          "2000-05-01",
          "2000-06-01",
          "2000-07-01",
          "2000-08-01",
          "2000-09-01",
          "2000-10-01",
          "2000-11-01",
          "2000-12-01",
          "2001-01-01",
          "2001-02-01",
          "2001-03-01",
          "2001-04-01",
          "2001-05-01",
          "2001-06-01",
          "2001-07-01",
          "2001-08-01",
          "2001-09-01",
          "2001-10-01",
          "2001-11-01",
          "2001-12-01",
          "2002-01-01",
          "2002-02-01",
          "2002-03-01",
          "2002-04-01",
          "2002-05-01",
          "2002-06-01",
          "2002-07-01",
          "2002-08-01",
          "2002-09-01",
          "2002-10-01",
          "2002-11-01",
          "2002-12-01",
          "2003-01-01",
          "2003-02-01",
          "2003-03-01",
          "2003-04-01",
          "2003-05-01",
          "2003-06-01",
          "2003-07-01",
          "2003-08-01",
          "2003-09-01",
          "2003-10-01",
          "2003-11-01",
          "2003-12-01",
          "2004-01-01",
          "2004-02-01",
          "2004-03-01",
          "2004-04-01",
          "2004-05-01",
          "2004-06-01",
          "2004-07-01",
          "2004-08-01",
          "2004-09-01",
          "2004-10-01",
          "2004-11-01",
          "2004-12-01",
          "2005-01-01",
          "2005-02-01",
          "2005-03-01",
          "2005-04-01",
          "2005-05-01",
          "2005-06-01",
          "2005-07-01",
          "2005-08-01",
          "2005-09-01",
          "2005-10-01",
          "2005-11-01",
          "2005-12-01",
          "2006-01-01",
          "2006-02-01",
          "2006-03-01",
          "2006-04-01",
          "2006-05-01",
          "2006-06-01",
          "2006-07-01",
          "2006-08-01",
          "2006-09-01",
          "2006-10-01",
          "2006-11-01",
          "2006-12-01",
          "2007-01-01",
          "2007-02-01",
          "2007-03-01",
          "2007-04-01",
          "2007-05-01",
          "2007-06-01",
          "2007-07-01",
          "2007-08-01",
          "2007-09-01",
          "2007-10-01",
          "2007-11-01",
          "2007-12-01",
          "2008-01-01",
          "2008-02-01",
          "2008-03-01",
          "2008-04-01",
          "2008-05-01",
          "2008-06-01",
          "2008-07-01",
          "2008-08-01",
          "2008-09-01",
          "2008-10-01",
          "2008-11-01",
          "2008-12-01",
          "2009-01-01",
          "2009-02-01",
          "2009-03-01",
          "2009-04-01",
          "2009-05-01",
          "2009-06-01",
          "2009-07-01",
          "2009-08-01",
          "2009-09-01",
          "2009-10-01",
          "2009-11-01",
          "2009-12-01",
          "2010-01-01",
          "2010-02-01",
          "2010-03-01",
          "2010-04-01",
          "2010-05-01",
          "2010-06-01",
          "2010-07-01",
          "2010-08-01",
          "2010-09-01",
          "2010-10-01",
          "2010-11-01",
          "2010-12-01",
          "2011-01-01",
          "2011-02-01",
          "2011-03-01",
          "2011-04-01",
          "2011-05-01",
          "2011-06-01",
          "2011-07-01",
          "2011-08-01",
          "2011-09-01",
          "2011-10-01",
          "2011-11-01",
          "2011-12-01",
          "2012-01-01",
          "2012-02-01",
          "2012-03-01",
          "2012-04-01",
          "2012-05-01",
          "2012-06-01",
          "2012-07-01",
          "2012-08-01",
          "2012-09-01",
          "2012-10-01",
          "2012-11-01",
          "2012-12-01",
          "2013-01-01",
          "2013-02-01",
          "2013-03-01",
          "2013-04-01",
          "2013-05-01",
          "2013-06-01",
          "2013-07-01",
          "2013-08-01"
         ],
         "y": [
          0.8291385358649348,
          0.6483008456252325,
          0.44384139347046736,
          0.33152870488215375,
          0.4360159926223799,
          0.44711530619564643,
          0.45654135550253294,
          0.3627243838364226,
          0.4300687094983921,
          0.6160151837585702,
          0.6473555365250097,
          1.0000000000000002,
          0.9451261208466458,
          0.3687627125293479,
          0.45446171382326794,
          0.4951370950639312,
          0.28436735124565543,
          0.4273667019145318,
          0.6772283974353891,
          0.5356455917915013,
          0.21843279163263307,
          0.21582015002466826,
          0.2779891040886897,
          0.16334673955791817,
          0.4017099312171958,
          0.23351769415495144,
          0.5700508357631378,
          0.5633994110845062,
          0.5704651559937819,
          0.6226069890682714,
          0.4596068614041522,
          0.3400820621332122,
          0.2723753760221132,
          0.321329087955646,
          0.44303065217744647,
          0.5841581013480185,
          0.7823343666121154,
          0.6479741239636668,
          0.6861429253207709,
          0.44739150154280793,
          0.325368379356755,
          0.4943686639317214,
          0.47454570983017963,
          0.5030122195343139,
          0.4152849513297504,
          0.494902260004638,
          0.8272092598146159,
          0.6555027043588698,
          0.5441384676144613,
          0.5159388895226678,
          0.38084107053407434,
          0.5448330250995291,
          0.6174655729544039,
          0.6188421441597127,
          0.7044625545989335,
          0.2982002074423975,
          0.1417791360120744,
          0.16666926772029203,
          0.2542686308332048,
          0.36429554665595293,
          0.46039080712776237,
          0.39208396952343144,
          0.3504767431367852,
          0.2295464967704352,
          0.16087037503372692,
          0.16414485174596563,
          0.1119345709261575,
          0.18789673017562444,
          0.14880585079054492,
          0.2047465695978204,
          0.32314898885758286,
          0.6027256994104486,
          0.4076233256450443,
          0.35683407206317413,
          0.4298947788574923,
          0.19110044630087367,
          0.1928445404158118,
          0.1885981507400673,
          0.2323813554640432,
          0.2630285706075745,
          0.18984757996779586,
          0.20267998619789263,
          0.2857315332878543,
          0.4665450784499642,
          0.22607658988426793,
          0.43663411254544804,
          0.25492589962119605,
          0.227947616955267,
          0.2832409367480983,
          0.2683947986422861,
          0.25844374788107655,
          0.362337181983572,
          0.2697953986646971,
          0.26919087256131025,
          0.29054796422662976,
          0.3710994135737793,
          0.3632310952893401,
          0.34804560889061603,
          0.3848829839802858,
          0.2651283674033461,
          0.24157309288384338,
          0.3107994804688905,
          0.3599253494524376,
          0.38198307754229666,
          0.3411180457582545,
          0.34036746432176274,
          0.40473398901717195,
          0.5278631331160397,
          0.7086624883142515,
          0.4974284273072027,
          0.4268938531846651,
          0.3765200057558919,
          0.3142697930299602,
          0.14946201263024983,
          0.17629238103204137,
          0.1873333639962819,
          0.1291005152008805,
          0.08901024332489293,
          0.11202405316254327,
          0.21016571470787176,
          0.26851417219284307,
          0.23507476966612328,
          0.17778039162784437,
          0.1256158580741966,
          0.11874858713743328,
          0.16957822021388563,
          0.1991348909315907,
          0.15574162636605848,
          0.16691559030548817,
          0.17574843406503754,
          0.20340416042448412,
          0.35146958051493626,
          0.401343083607862,
          0.3330830346668502,
          0.3006164170573143,
          0.2658795140637113,
          0.2740876815506219,
          0.2563769529860015,
          0.3331295376261982,
          0.3000079455181359,
          0.17680136203814928,
          0.09800827036025292,
          0.01718045601632582,
          0.09074811461769583,
          0.051832778884752746,
          0.050429679467933565,
          0.05822621019771788,
          0.06454804524988478,
          0.053229910263064485,
          0.0572669873553295,
          0.08639665122557841,
          0.08144539955119362,
          0.08305017154696068,
          0.027660622698858973,
          0.11294375341612717,
          0.10820095680103745,
          0.07781022095703427,
          0.05626142625595456,
          0.05729367470353907,
          0.04848389380957028,
          0.00692185935972061,
          0.008890929273321697,
          0.004994588184454217,
          0
         ]
        },
        {
         "line": {
          "color": "rgba(128, 0, 128, 1.0)",
          "dash": "solid",
          "shape": "linear",
          "width": 1.3
         },
         "mode": "lines",
         "name": "CO Mean",
         "text": "",
         "type": "scatter",
         "x": [
          "2000-01-01",
          "2000-02-01",
          "2000-03-01",
          "2000-04-01",
          "2000-05-01",
          "2000-06-01",
          "2000-07-01",
          "2000-08-01",
          "2000-09-01",
          "2000-10-01",
          "2000-11-01",
          "2000-12-01",
          "2001-01-01",
          "2001-02-01",
          "2001-03-01",
          "2001-04-01",
          "2001-05-01",
          "2001-06-01",
          "2001-07-01",
          "2001-08-01",
          "2001-09-01",
          "2001-10-01",
          "2001-11-01",
          "2001-12-01",
          "2002-01-01",
          "2002-02-01",
          "2002-03-01",
          "2002-04-01",
          "2002-05-01",
          "2002-06-01",
          "2002-07-01",
          "2002-08-01",
          "2002-09-01",
          "2002-10-01",
          "2002-11-01",
          "2002-12-01",
          "2003-01-01",
          "2003-02-01",
          "2003-03-01",
          "2003-04-01",
          "2003-05-01",
          "2003-06-01",
          "2003-07-01",
          "2003-08-01",
          "2003-09-01",
          "2003-10-01",
          "2003-11-01",
          "2003-12-01",
          "2004-01-01",
          "2004-02-01",
          "2004-03-01",
          "2004-04-01",
          "2004-05-01",
          "2004-06-01",
          "2004-07-01",
          "2004-08-01",
          "2004-09-01",
          "2004-10-01",
          "2004-11-01",
          "2004-12-01",
          "2005-01-01",
          "2005-02-01",
          "2005-03-01",
          "2005-04-01",
          "2005-05-01",
          "2005-06-01",
          "2005-07-01",
          "2005-08-01",
          "2005-09-01",
          "2005-10-01",
          "2005-11-01",
          "2005-12-01",
          "2006-01-01",
          "2006-02-01",
          "2006-03-01",
          "2006-04-01",
          "2006-05-01",
          "2006-06-01",
          "2006-07-01",
          "2006-08-01",
          "2006-09-01",
          "2006-10-01",
          "2006-11-01",
          "2006-12-01",
          "2007-01-01",
          "2007-02-01",
          "2007-03-01",
          "2007-04-01",
          "2007-05-01",
          "2007-06-01",
          "2007-07-01",
          "2007-08-01",
          "2007-09-01",
          "2007-10-01",
          "2007-11-01",
          "2007-12-01",
          "2008-01-01",
          "2008-02-01",
          "2008-03-01",
          "2008-04-01",
          "2008-05-01",
          "2008-06-01",
          "2008-07-01",
          "2008-08-01",
          "2008-09-01",
          "2008-10-01",
          "2008-11-01",
          "2008-12-01",
          "2009-01-01",
          "2009-02-01",
          "2009-03-01",
          "2009-04-01",
          "2009-05-01",
          "2009-06-01",
          "2009-07-01",
          "2009-08-01",
          "2009-09-01",
          "2009-10-01",
          "2009-11-01",
          "2009-12-01",
          "2010-01-01",
          "2010-02-01",
          "2010-03-01",
          "2010-04-01",
          "2010-05-01",
          "2010-06-01",
          "2010-07-01",
          "2010-08-01",
          "2010-09-01",
          "2010-10-01",
          "2010-11-01",
          "2010-12-01",
          "2011-01-01",
          "2011-02-01",
          "2011-03-01",
          "2011-04-01",
          "2011-05-01",
          "2011-06-01",
          "2011-07-01",
          "2011-08-01",
          "2011-09-01",
          "2011-10-01",
          "2011-11-01",
          "2011-12-01",
          "2012-01-01",
          "2012-02-01",
          "2012-03-01",
          "2012-04-01",
          "2012-05-01",
          "2012-06-01",
          "2012-07-01",
          "2012-08-01",
          "2012-09-01",
          "2012-10-01",
          "2012-11-01",
          "2012-12-01",
          "2013-01-01",
          "2013-02-01",
          "2013-03-01",
          "2013-04-01",
          "2013-05-01",
          "2013-06-01",
          "2013-07-01",
          "2013-08-01"
         ],
         "y": [
          0.41957921533532194,
          0.46936687561916696,
          0.5125753568716997,
          0.44177920397958986,
          0.3399692864563137,
          0.38673652237674044,
          0.4914969793869099,
          0.4127291296355975,
          0.4195664716225437,
          0.6958816838526553,
          0.5041124552851861,
          0.5694292750904416,
          0.5860547377294143,
          0.4384401643737639,
          0.32366084702994163,
          0.4011670467932651,
          0.3832427120609458,
          0.3580853823000907,
          0.20927375201558845,
          0.4105603963732667,
          0.3796827988737083,
          0.44313387185938174,
          0.6048246196731414,
          0.338344608826311,
          0.5446571492741299,
          0.48461790080632533,
          0.39166925856302964,
          0.5505709196404652,
          0.43978372541649496,
          0.47569999261624524,
          0.4735734967268819,
          0.3210230479712376,
          0.46618448277721397,
          0.5126370947412291,
          0.4331255129430035,
          0.49503778821645766,
          0.4982572163058097,
          0.5224073218751376,
          0.44798563128072183,
          0.23314554386702402,
          0.18672516863803074,
          0.1876638757532899,
          0.32473708907706605,
          0.33485921459297263,
          0.38643923136457065,
          0.31505432641643,
          0.3639366374677892,
          0.3019149232251285,
          0.19945743823476503,
          0.27124292180028425,
          0.2511617454461211,
          0.1774564458421125,
          0.12670645212272003,
          0.10992217516755416,
          0.1852572424123582,
          0.23448470253625003,
          0.22594338040166134,
          0.2884653283481937,
          0.2561991220892392,
          0.3000961973422546,
          0.27242114344690704,
          0.34954720685352525,
          0.3498681540832568,
          0.4021775073646357,
          0.3725464991016012,
          0.23638849363620767,
          0.3118926224876558,
          0.23807695709896598,
          0.31349085597935417,
          0.25473169664289574,
          0.36574968286872106,
          0.3927097808427834,
          0.4892820548372074,
          0.2824607823855589,
          0.23196072987162109,
          0.3516624688424163,
          0.4938846429078821,
          0.5282687346414667,
          0.46529761753399507,
          0.367695472163459,
          0.35961991217653516,
          0.573462947945973,
          0.5387530955216425,
          0.6719056476832629,
          0.26995363178305576,
          0.46690414004473796,
          0.5479263488493409,
          0.3232841787569484,
          0.4670416077077381,
          0.39924600496656737,
          0.4661262653116253,
          0.5476030995295587,
          0.47318279168403693,
          0.6213849137304644,
          0.15650183559479647,
          0.5672738012688547,
          0.39952878832682964,
          0.4703363021828239,
          0.2246032126994587,
          0.31639616836594175,
          0.36583521896786053,
          0.43194627478908576,
          0.3399488591442768,
          0.36336790163628624,
          0.44745058220199935,
          0.652920086809374,
          0.8274191105631176,
          1,
          0.9194931379709622,
          0.2511637934093476,
          0.27856887492607585,
          0.23588340909973005,
          0.29692367060051694,
          0.264583588179041,
          0.2909848463190891,
          0.40967753736468104,
          0.11106400435815543,
          0.30743917696523604,
          0.3522155459769867,
          0.23269353446511387,
          0.524707857267163,
          0.12547940075434977,
          0.33939615572562376,
          0.45785255367105865,
          0.5278582376036445,
          0.19435988585465175,
          0.2240967229911323,
          0.25853777650482385,
          0.29388795378176513,
          0.36777039473054873,
          0.5043644818254592,
          0.25694876632196323,
          0.4019788997775741,
          0.32773359562178034,
          0.21765726886696035,
          0.24466398416454033,
          0.2288511966848945,
          0.14184819530135723,
          0.11684418623271194,
          0.13108668669695112,
          0.1945648727724209,
          0.27305446486322876,
          0.29806148483644723,
          0.33800780109305145,
          0.21488480875179483,
          0.25270905640693525,
          0.17363180475629458,
          0.22678159779821228,
          0.22699208955144246,
          0.1477699631883218,
          0,
          0.21603445234222574,
          0.26072586077734955,
          0.20480337716211733,
          0.23157112729073198,
          0.2729884329978104,
          0.14308651794179156,
          0.09609594316061933,
          0.13062992736573276,
          0.10040865723436172,
          0.087675468296471,
          0.025484116924653494,
          0.017352099674111138,
          0.036591745017257205
         ]
        },
        {
         "line": {
          "color": "rgba(219, 64, 82, 1.0)",
          "dash": "solid",
          "shape": "linear",
          "width": 1.3
         },
         "mode": "lines",
         "name": "AverageTemperatureAnomaly",
         "text": "",
         "type": "scatter",
         "x": [
          "2000-01-01",
          "2000-02-01",
          "2000-03-01",
          "2000-04-01",
          "2000-05-01",
          "2000-06-01",
          "2000-07-01",
          "2000-08-01",
          "2000-09-01",
          "2000-10-01",
          "2000-11-01",
          "2000-12-01",
          "2001-01-01",
          "2001-02-01",
          "2001-03-01",
          "2001-04-01",
          "2001-05-01",
          "2001-06-01",
          "2001-07-01",
          "2001-08-01",
          "2001-09-01",
          "2001-10-01",
          "2001-11-01",
          "2001-12-01",
          "2002-01-01",
          "2002-02-01",
          "2002-03-01",
          "2002-04-01",
          "2002-05-01",
          "2002-06-01",
          "2002-07-01",
          "2002-08-01",
          "2002-09-01",
          "2002-10-01",
          "2002-11-01",
          "2002-12-01",
          "2003-01-01",
          "2003-02-01",
          "2003-03-01",
          "2003-04-01",
          "2003-05-01",
          "2003-06-01",
          "2003-07-01",
          "2003-08-01",
          "2003-09-01",
          "2003-10-01",
          "2003-11-01",
          "2003-12-01",
          "2004-01-01",
          "2004-02-01",
          "2004-03-01",
          "2004-04-01",
          "2004-05-01",
          "2004-06-01",
          "2004-07-01",
          "2004-08-01",
          "2004-09-01",
          "2004-10-01",
          "2004-11-01",
          "2004-12-01",
          "2005-01-01",
          "2005-02-01",
          "2005-03-01",
          "2005-04-01",
          "2005-05-01",
          "2005-06-01",
          "2005-07-01",
          "2005-08-01",
          "2005-09-01",
          "2005-10-01",
          "2005-11-01",
          "2005-12-01",
          "2006-01-01",
          "2006-02-01",
          "2006-03-01",
          "2006-04-01",
          "2006-05-01",
          "2006-06-01",
          "2006-07-01",
          "2006-08-01",
          "2006-09-01",
          "2006-10-01",
          "2006-11-01",
          "2006-12-01",
          "2007-01-01",
          "2007-02-01",
          "2007-03-01",
          "2007-04-01",
          "2007-05-01",
          "2007-06-01",
          "2007-07-01",
          "2007-08-01",
          "2007-09-01",
          "2007-10-01",
          "2007-11-01",
          "2007-12-01",
          "2008-01-01",
          "2008-02-01",
          "2008-03-01",
          "2008-04-01",
          "2008-05-01",
          "2008-06-01",
          "2008-07-01",
          "2008-08-01",
          "2008-09-01",
          "2008-10-01",
          "2008-11-01",
          "2008-12-01",
          "2009-01-01",
          "2009-02-01",
          "2009-03-01",
          "2009-04-01",
          "2009-05-01",
          "2009-06-01",
          "2009-07-01",
          "2009-08-01",
          "2009-09-01",
          "2009-10-01",
          "2009-11-01",
          "2009-12-01",
          "2010-01-01",
          "2010-02-01",
          "2010-03-01",
          "2010-04-01",
          "2010-05-01",
          "2010-06-01",
          "2010-07-01",
          "2010-08-01",
          "2010-09-01",
          "2010-10-01",
          "2010-11-01",
          "2010-12-01",
          "2011-01-01",
          "2011-02-01",
          "2011-03-01",
          "2011-04-01",
          "2011-05-01",
          "2011-06-01",
          "2011-07-01",
          "2011-08-01",
          "2011-09-01",
          "2011-10-01",
          "2011-11-01",
          "2011-12-01",
          "2012-01-01",
          "2012-02-01",
          "2012-03-01",
          "2012-04-01",
          "2012-05-01",
          "2012-06-01",
          "2012-07-01",
          "2012-08-01",
          "2012-09-01",
          "2012-10-01",
          "2012-11-01",
          "2012-12-01",
          "2013-01-01",
          "2013-02-01",
          "2013-03-01",
          "2013-04-01",
          "2013-05-01",
          "2013-06-01",
          "2013-07-01",
          "2013-08-01"
         ],
         "y": [
          0.32634032634032634,
          0.44988344988344986,
          0.1631701631701632,
          0.2121212121212121,
          0.2727272727272727,
          0.5524475524475524,
          0.7156177156177156,
          0.49650349650349646,
          0.21445221445221446,
          0.6573426573426574,
          0.31934731934731936,
          0.6083916083916084,
          0.8834498834498833,
          0.9510489510489512,
          0.400932400932401,
          0.4825174825174826,
          0.2983682983682983,
          0.2937062937062937,
          0.48018648018648025,
          0.43822843822843827,
          0.39160839160839156,
          0.9766899766899767,
          0.46153846153846156,
          0.46153846153846156,
          0.7762237762237763,
          0.7785547785547785,
          0.4825174825174826,
          0.3892773892773893,
          0.29137529137529133,
          0.49184149184149173,
          0.8275058275058275,
          0.2703962703962704,
          0.23310023310023303,
          0.28438228438228436,
          0.4312354312354313,
          0,
          0.43822843822843827,
          0.37529137529137524,
          0.28205128205128205,
          0.543123543123543,
          0.5384615384615384,
          0.7132867132867133,
          0.5664335664335665,
          0.8111888111888113,
          0.43356643356643354,
          0.627039627039627,
          0.20512820512820512,
          0.4289044289044289,
          0.39160839160839156,
          0.45687645687645695,
          0.254079254079254,
          0.5361305361305361,
          0.34032634032634035,
          0.7319347319347318,
          0.5850815850815851,
          0.46853146853146854,
          0.2983682983682983,
          0.43356643356643354,
          0.3613053613053613,
          0.3076923076923077,
          0.4405594405594405,
          0.3076923076923077,
          0.400932400932401,
          0.6013986013986015,
          0.3613053613053613,
          0.6526806526806527,
          0.7925407925407925,
          0.36829836829836826,
          0.29603729603729606,
          0.17948717948717946,
          0.44522144522144524,
          0.3053613053613053,
          0.8041958041958042,
          0.5011655011655011,
          0.4358974358974359,
          0.7622377622377623,
          0.627039627039627,
          0.3379953379953379,
          0.36363636363636365,
          0.41025641025641024,
          0.21445221445221446,
          0.33333333333333326,
          0.3543123543123543,
          0.7249417249417249,
          0.36363636363636365,
          0.5501165501165501,
          0.4195804195804196,
          0.34032634032634035,
          0.35664335664335656,
          0.4475524475524476,
          0.4289044289044289,
          0.5361305361305361,
          0.7226107226107227,
          0.303030303030303,
          0.24708624708624705,
          0.4055944055944056,
          0.44988344988344986,
          0.4195804195804196,
          0.48018648018648025,
          0.27972027972027963,
          0.2121212121212121,
          0.35664335664335656,
          0.17249417249417254,
          0.4055944055944056,
          0.2237762237762238,
          0.44988344988344986,
          0.28438228438228436,
          0.21678321678321671,
          0.35897435897435903,
          0.3379953379953379,
          0.24475524475524474,
          0.4708624708624709,
          0.5221445221445221,
          0.5221445221445221,
          0.8205128205128205,
          0.5454545454545454,
          0.30069930069930073,
          0.27505827505827507,
          0.40326340326340326,
          0.3473193473193473,
          0.31934731934731936,
          0.5850815850815851,
          0.46153846153846156,
          0.35664335664335656,
          0.16550116550116545,
          0.3379953379953379,
          0.4755244755244755,
          0.5641025641025641,
          0.11888111888111885,
          0.1515151515151515,
          0.4172494172494172,
          0.6433566433566433,
          0.4195804195804196,
          0.43356643356643354,
          0.2587412587412587,
          0.36829836829836826,
          0.3846153846153846,
          0.5571095571095571,
          0.5268065268065267,
          0.365967365967366,
          0.14918414918414918,
          0.5571095571095571,
          0.7552447552447552,
          0.8275058275058275,
          0.7202797202797202,
          0.2703962703962704,
          0.27972027972027963,
          0.5827505827505828,
          0.3473193473193473,
          0.8741258741258741,
          1,
          0.7412587412587412,
          0.40326340326340326,
          0.5944055944055943,
          0.6363636363636365,
          0.6596736596736598,
          0.24941724941724946,
          0.33333333333333326,
          0.3379953379953379,
          0.4895104895104895,
          0.26573426573426573,
          0.39860139860139854,
          0.5361305361305361,
          0.3892773892773893
         ]
        }
       ],
       "layout": {
        "legend": {
         "bgcolor": "#F5F6F9",
         "font": {
          "color": "#4D5663"
         }
        },
        "paper_bgcolor": "#F5F6F9",
        "plot_bgcolor": "#F5F6F9",
        "template": {
         "data": {
          "bar": [
           {
            "error_x": {
             "color": "#2a3f5f"
            },
            "error_y": {
             "color": "#2a3f5f"
            },
            "marker": {
             "line": {
              "color": "#E5ECF6",
              "width": 0.5
             }
            },
            "type": "bar"
           }
          ],
          "barpolar": [
           {
            "marker": {
             "line": {
              "color": "#E5ECF6",
              "width": 0.5
             }
            },
            "type": "barpolar"
           }
          ],
          "carpet": [
           {
            "aaxis": {
             "endlinecolor": "#2a3f5f",
             "gridcolor": "white",
             "linecolor": "white",
             "minorgridcolor": "white",
             "startlinecolor": "#2a3f5f"
            },
            "baxis": {
             "endlinecolor": "#2a3f5f",
             "gridcolor": "white",
             "linecolor": "white",
             "minorgridcolor": "white",
             "startlinecolor": "#2a3f5f"
            },
            "type": "carpet"
           }
          ],
          "choropleth": [
           {
            "colorbar": {
             "outlinewidth": 0,
             "ticks": ""
            },
            "type": "choropleth"
           }
          ],
          "contour": [
           {
            "colorbar": {
             "outlinewidth": 0,
             "ticks": ""
            },
            "colorscale": [
             [
              0,
              "#0d0887"
             ],
             [
              0.1111111111111111,
              "#46039f"
             ],
             [
              0.2222222222222222,
              "#7201a8"
             ],
             [
              0.3333333333333333,
              "#9c179e"
             ],
             [
              0.4444444444444444,
              "#bd3786"
             ],
             [
              0.5555555555555556,
              "#d8576b"
             ],
             [
              0.6666666666666666,
              "#ed7953"
             ],
             [
              0.7777777777777778,
              "#fb9f3a"
             ],
             [
              0.8888888888888888,
              "#fdca26"
             ],
             [
              1,
              "#f0f921"
             ]
            ],
            "type": "contour"
           }
          ],
          "contourcarpet": [
           {
            "colorbar": {
             "outlinewidth": 0,
             "ticks": ""
            },
            "type": "contourcarpet"
           }
          ],
          "heatmap": [
           {
            "colorbar": {
             "outlinewidth": 0,
             "ticks": ""
            },
            "colorscale": [
             [
              0,
              "#0d0887"
             ],
             [
              0.1111111111111111,
              "#46039f"
             ],
             [
              0.2222222222222222,
              "#7201a8"
             ],
             [
              0.3333333333333333,
              "#9c179e"
             ],
             [
              0.4444444444444444,
              "#bd3786"
             ],
             [
              0.5555555555555556,
              "#d8576b"
             ],
             [
              0.6666666666666666,
              "#ed7953"
             ],
             [
              0.7777777777777778,
              "#fb9f3a"
             ],
             [
              0.8888888888888888,
              "#fdca26"
             ],
             [
              1,
              "#f0f921"
             ]
            ],
            "type": "heatmap"
           }
          ],
          "heatmapgl": [
           {
            "colorbar": {
             "outlinewidth": 0,
             "ticks": ""
            },
            "colorscale": [
             [
              0,
              "#0d0887"
             ],
             [
              0.1111111111111111,
              "#46039f"
             ],
             [
              0.2222222222222222,
              "#7201a8"
             ],
             [
              0.3333333333333333,
              "#9c179e"
             ],
             [
              0.4444444444444444,
              "#bd3786"
             ],
             [
              0.5555555555555556,
              "#d8576b"
             ],
             [
              0.6666666666666666,
              "#ed7953"
             ],
             [
              0.7777777777777778,
              "#fb9f3a"
             ],
             [
              0.8888888888888888,
              "#fdca26"
             ],
             [
              1,
              "#f0f921"
             ]
            ],
            "type": "heatmapgl"
           }
          ],
          "histogram": [
           {
            "marker": {
             "colorbar": {
              "outlinewidth": 0,
              "ticks": ""
             }
            },
            "type": "histogram"
           }
          ],
          "histogram2d": [
           {
            "colorbar": {
             "outlinewidth": 0,
             "ticks": ""
            },
            "colorscale": [
             [
              0,
              "#0d0887"
             ],
             [
              0.1111111111111111,
              "#46039f"
             ],
             [
              0.2222222222222222,
              "#7201a8"
             ],
             [
              0.3333333333333333,
              "#9c179e"
             ],
             [
              0.4444444444444444,
              "#bd3786"
             ],
             [
              0.5555555555555556,
              "#d8576b"
             ],
             [
              0.6666666666666666,
              "#ed7953"
             ],
             [
              0.7777777777777778,
              "#fb9f3a"
             ],
             [
              0.8888888888888888,
              "#fdca26"
             ],
             [
              1,
              "#f0f921"
             ]
            ],
            "type": "histogram2d"
           }
          ],
          "histogram2dcontour": [
           {
            "colorbar": {
             "outlinewidth": 0,
             "ticks": ""
            },
            "colorscale": [
             [
              0,
              "#0d0887"
             ],
             [
              0.1111111111111111,
              "#46039f"
             ],
             [
              0.2222222222222222,
              "#7201a8"
             ],
             [
              0.3333333333333333,
              "#9c179e"
             ],
             [
              0.4444444444444444,
              "#bd3786"
             ],
             [
              0.5555555555555556,
              "#d8576b"
             ],
             [
              0.6666666666666666,
              "#ed7953"
             ],
             [
              0.7777777777777778,
              "#fb9f3a"
             ],
             [
              0.8888888888888888,
              "#fdca26"
             ],
             [
              1,
              "#f0f921"
             ]
            ],
            "type": "histogram2dcontour"
           }
          ],
          "mesh3d": [
           {
            "colorbar": {
             "outlinewidth": 0,
             "ticks": ""
            },
            "type": "mesh3d"
           }
          ],
          "parcoords": [
           {
            "line": {
             "colorbar": {
              "outlinewidth": 0,
              "ticks": ""
             }
            },
            "type": "parcoords"
           }
          ],
          "scatter": [
           {
            "marker": {
             "colorbar": {
              "outlinewidth": 0,
              "ticks": ""
             }
            },
            "type": "scatter"
           }
          ],
          "scatter3d": [
           {
            "line": {
             "colorbar": {
              "outlinewidth": 0,
              "ticks": ""
             }
            },
            "marker": {
             "colorbar": {
              "outlinewidth": 0,
              "ticks": ""
             }
            },
            "type": "scatter3d"
           }
          ],
          "scattercarpet": [
           {
            "marker": {
             "colorbar": {
              "outlinewidth": 0,
              "ticks": ""
             }
            },
            "type": "scattercarpet"
           }
          ],
          "scattergeo": [
           {
            "marker": {
             "colorbar": {
              "outlinewidth": 0,
              "ticks": ""
             }
            },
            "type": "scattergeo"
           }
          ],
          "scattergl": [
           {
            "marker": {
             "colorbar": {
              "outlinewidth": 0,
              "ticks": ""
             }
            },
            "type": "scattergl"
           }
          ],
          "scattermapbox": [
           {
            "marker": {
             "colorbar": {
              "outlinewidth": 0,
              "ticks": ""
             }
            },
            "type": "scattermapbox"
           }
          ],
          "scatterpolar": [
           {
            "marker": {
             "colorbar": {
              "outlinewidth": 0,
              "ticks": ""
             }
            },
            "type": "scatterpolar"
           }
          ],
          "scatterpolargl": [
           {
            "marker": {
             "colorbar": {
              "outlinewidth": 0,
              "ticks": ""
             }
            },
            "type": "scatterpolargl"
           }
          ],
          "scatterternary": [
           {
            "marker": {
             "colorbar": {
              "outlinewidth": 0,
              "ticks": ""
             }
            },
            "type": "scatterternary"
           }
          ],
          "surface": [
           {
            "colorbar": {
             "outlinewidth": 0,
             "ticks": ""
            },
            "colorscale": [
             [
              0,
              "#0d0887"
             ],
             [
              0.1111111111111111,
              "#46039f"
             ],
             [
              0.2222222222222222,
              "#7201a8"
             ],
             [
              0.3333333333333333,
              "#9c179e"
             ],
             [
              0.4444444444444444,
              "#bd3786"
             ],
             [
              0.5555555555555556,
              "#d8576b"
             ],
             [
              0.6666666666666666,
              "#ed7953"
             ],
             [
              0.7777777777777778,
              "#fb9f3a"
             ],
             [
              0.8888888888888888,
              "#fdca26"
             ],
             [
              1,
              "#f0f921"
             ]
            ],
            "type": "surface"
           }
          ],
          "table": [
           {
            "cells": {
             "fill": {
              "color": "#EBF0F8"
             },
             "line": {
              "color": "white"
             }
            },
            "header": {
             "fill": {
              "color": "#C8D4E3"
             },
             "line": {
              "color": "white"
             }
            },
            "type": "table"
           }
          ]
         },
         "layout": {
          "annotationdefaults": {
           "arrowcolor": "#2a3f5f",
           "arrowhead": 0,
           "arrowwidth": 1
          },
          "colorscale": {
           "diverging": [
            [
             0,
             "#8e0152"
            ],
            [
             0.1,
             "#c51b7d"
            ],
            [
             0.2,
             "#de77ae"
            ],
            [
             0.3,
             "#f1b6da"
            ],
            [
             0.4,
             "#fde0ef"
            ],
            [
             0.5,
             "#f7f7f7"
            ],
            [
             0.6,
             "#e6f5d0"
            ],
            [
             0.7,
             "#b8e186"
            ],
            [
             0.8,
             "#7fbc41"
            ],
            [
             0.9,
             "#4d9221"
            ],
            [
             1,
             "#276419"
            ]
           ],
           "sequential": [
            [
             0,
             "#0d0887"
            ],
            [
             0.1111111111111111,
             "#46039f"
            ],
            [
             0.2222222222222222,
             "#7201a8"
            ],
            [
             0.3333333333333333,
             "#9c179e"
            ],
            [
             0.4444444444444444,
             "#bd3786"
            ],
            [
             0.5555555555555556,
             "#d8576b"
            ],
            [
             0.6666666666666666,
             "#ed7953"
            ],
            [
             0.7777777777777778,
             "#fb9f3a"
            ],
            [
             0.8888888888888888,
             "#fdca26"
            ],
            [
             1,
             "#f0f921"
            ]
           ],
           "sequentialminus": [
            [
             0,
             "#0d0887"
            ],
            [
             0.1111111111111111,
             "#46039f"
            ],
            [
             0.2222222222222222,
             "#7201a8"
            ],
            [
             0.3333333333333333,
             "#9c179e"
            ],
            [
             0.4444444444444444,
             "#bd3786"
            ],
            [
             0.5555555555555556,
             "#d8576b"
            ],
            [
             0.6666666666666666,
             "#ed7953"
            ],
            [
             0.7777777777777778,
             "#fb9f3a"
            ],
            [
             0.8888888888888888,
             "#fdca26"
            ],
            [
             1,
             "#f0f921"
            ]
           ]
          },
          "colorway": [
           "#636efa",
           "#EF553B",
           "#00cc96",
           "#ab63fa",
           "#FFA15A",
           "#19d3f3",
           "#FF6692",
           "#B6E880",
           "#FF97FF",
           "#FECB52"
          ],
          "font": {
           "color": "#2a3f5f"
          },
          "geo": {
           "bgcolor": "white",
           "lakecolor": "white",
           "landcolor": "#E5ECF6",
           "showlakes": true,
           "showland": true,
           "subunitcolor": "white"
          },
          "hoverlabel": {
           "align": "left"
          },
          "hovermode": "closest",
          "mapbox": {
           "style": "light"
          },
          "paper_bgcolor": "white",
          "plot_bgcolor": "#E5ECF6",
          "polar": {
           "angularaxis": {
            "gridcolor": "white",
            "linecolor": "white",
            "ticks": ""
           },
           "bgcolor": "#E5ECF6",
           "radialaxis": {
            "gridcolor": "white",
            "linecolor": "white",
            "ticks": ""
           }
          },
          "scene": {
           "xaxis": {
            "backgroundcolor": "#E5ECF6",
            "gridcolor": "white",
            "gridwidth": 2,
            "linecolor": "white",
            "showbackground": true,
            "ticks": "",
            "zerolinecolor": "white"
           },
           "yaxis": {
            "backgroundcolor": "#E5ECF6",
            "gridcolor": "white",
            "gridwidth": 2,
            "linecolor": "white",
            "showbackground": true,
            "ticks": "",
            "zerolinecolor": "white"
           },
           "zaxis": {
            "backgroundcolor": "#E5ECF6",
            "gridcolor": "white",
            "gridwidth": 2,
            "linecolor": "white",
            "showbackground": true,
            "ticks": "",
            "zerolinecolor": "white"
           }
          },
          "shapedefaults": {
           "line": {
            "color": "#2a3f5f"
           }
          },
          "ternary": {
           "aaxis": {
            "gridcolor": "white",
            "linecolor": "white",
            "ticks": ""
           },
           "baxis": {
            "gridcolor": "white",
            "linecolor": "white",
            "ticks": ""
           },
           "bgcolor": "#E5ECF6",
           "caxis": {
            "gridcolor": "white",
            "linecolor": "white",
            "ticks": ""
           }
          },
          "title": {
           "x": 0.05
          },
          "xaxis": {
           "automargin": true,
           "gridcolor": "white",
           "linecolor": "white",
           "ticks": "",
           "zerolinecolor": "white",
           "zerolinewidth": 2
          },
          "yaxis": {
           "automargin": true,
           "gridcolor": "white",
           "linecolor": "white",
           "ticks": "",
           "zerolinecolor": "white",
           "zerolinewidth": 2
          }
         }
        },
        "title": {
         "font": {
          "color": "#4D5663"
         },
         "text": "Greenhouses gases and Temp Anamoly Emission over Time"
        },
        "xaxis": {
         "gridcolor": "#E1E5ED",
         "showgrid": true,
         "tickfont": {
          "color": "#4D5663"
         },
         "title": {
          "font": {
           "color": "#4D5663"
          },
          "text": "Time (years)"
         },
         "zerolinecolor": "#E1E5ED"
        },
        "yaxis": {
         "gridcolor": "#E1E5ED",
         "showgrid": true,
         "tickfont": {
          "color": "#4D5663"
         },
         "title": {
          "font": {
           "color": "#4D5663"
          },
          "text": "Greenhouses gases in ppm"
         },
         "zerolinecolor": "#E1E5ED"
        }
       }
      },
      "text/html": [
       "<div>\n",
       "        \n",
       "        \n",
       "            <div id=\"8e0dbfaf-b5b4-4ade-a046-0ad7ff722dc8\" class=\"plotly-graph-div\" style=\"height:525px; width:100%;\"></div>\n",
       "            <script type=\"text/javascript\">\n",
       "                require([\"plotly\"], function(Plotly) {\n",
       "                    window.PLOTLYENV=window.PLOTLYENV || {};\n",
       "                    window.PLOTLYENV.BASE_URL='https://plot.ly';\n",
       "                    \n",
       "                if (document.getElementById(\"8e0dbfaf-b5b4-4ade-a046-0ad7ff722dc8\")) {\n",
       "                    Plotly.newPlot(\n",
       "                        '8e0dbfaf-b5b4-4ade-a046-0ad7ff722dc8',\n",
       "                        [{\"line\": {\"color\": \"rgba(255, 153, 51, 1.0)\", \"dash\": \"solid\", \"shape\": \"linear\", \"width\": 1.3}, \"mode\": \"lines\", \"name\": \"NO2 Mean\", \"text\": \"\", \"type\": \"scatter\", \"x\": [\"2000-01-01\", \"2000-02-01\", \"2000-03-01\", \"2000-04-01\", \"2000-05-01\", \"2000-06-01\", \"2000-07-01\", \"2000-08-01\", \"2000-09-01\", \"2000-10-01\", \"2000-11-01\", \"2000-12-01\", \"2001-01-01\", \"2001-02-01\", \"2001-03-01\", \"2001-04-01\", \"2001-05-01\", \"2001-06-01\", \"2001-07-01\", \"2001-08-01\", \"2001-09-01\", \"2001-10-01\", \"2001-11-01\", \"2001-12-01\", \"2002-01-01\", \"2002-02-01\", \"2002-03-01\", \"2002-04-01\", \"2002-05-01\", \"2002-06-01\", \"2002-07-01\", \"2002-08-01\", \"2002-09-01\", \"2002-10-01\", \"2002-11-01\", \"2002-12-01\", \"2003-01-01\", \"2003-02-01\", \"2003-03-01\", \"2003-04-01\", \"2003-05-01\", \"2003-06-01\", \"2003-07-01\", \"2003-08-01\", \"2003-09-01\", \"2003-10-01\", \"2003-11-01\", \"2003-12-01\", \"2004-01-01\", \"2004-02-01\", \"2004-03-01\", \"2004-04-01\", \"2004-05-01\", \"2004-06-01\", \"2004-07-01\", \"2004-08-01\", \"2004-09-01\", \"2004-10-01\", \"2004-11-01\", \"2004-12-01\", \"2005-01-01\", \"2005-02-01\", \"2005-03-01\", \"2005-04-01\", \"2005-05-01\", \"2005-06-01\", \"2005-07-01\", \"2005-08-01\", \"2005-09-01\", \"2005-10-01\", \"2005-11-01\", \"2005-12-01\", \"2006-01-01\", \"2006-02-01\", \"2006-03-01\", \"2006-04-01\", \"2006-05-01\", \"2006-06-01\", \"2006-07-01\", \"2006-08-01\", \"2006-09-01\", \"2006-10-01\", \"2006-11-01\", \"2006-12-01\", \"2007-01-01\", \"2007-02-01\", \"2007-03-01\", \"2007-04-01\", \"2007-05-01\", \"2007-06-01\", \"2007-07-01\", \"2007-08-01\", \"2007-09-01\", \"2007-10-01\", \"2007-11-01\", \"2007-12-01\", \"2008-01-01\", \"2008-02-01\", \"2008-03-01\", \"2008-04-01\", \"2008-05-01\", \"2008-06-01\", \"2008-07-01\", \"2008-08-01\", \"2008-09-01\", \"2008-10-01\", \"2008-11-01\", \"2008-12-01\", \"2009-01-01\", \"2009-02-01\", \"2009-03-01\", \"2009-04-01\", \"2009-05-01\", \"2009-06-01\", \"2009-07-01\", \"2009-08-01\", \"2009-09-01\", \"2009-10-01\", \"2009-11-01\", \"2009-12-01\", \"2010-01-01\", \"2010-02-01\", \"2010-03-01\", \"2010-04-01\", \"2010-05-01\", \"2010-06-01\", \"2010-07-01\", \"2010-08-01\", \"2010-09-01\", \"2010-10-01\", \"2010-11-01\", \"2010-12-01\", \"2011-01-01\", \"2011-02-01\", \"2011-03-01\", \"2011-04-01\", \"2011-05-01\", \"2011-06-01\", \"2011-07-01\", \"2011-08-01\", \"2011-09-01\", \"2011-10-01\", \"2011-11-01\", \"2011-12-01\", \"2012-01-01\", \"2012-02-01\", \"2012-03-01\", \"2012-04-01\", \"2012-05-01\", \"2012-06-01\", \"2012-07-01\", \"2012-08-01\", \"2012-09-01\", \"2012-10-01\", \"2012-11-01\", \"2012-12-01\", \"2013-01-01\", \"2013-02-01\", \"2013-03-01\", \"2013-04-01\", \"2013-05-01\", \"2013-06-01\", \"2013-07-01\", \"2013-08-01\"], \"y\": [0.6149610785354894, 0.4355635267175306, 0.7391047932158862, 0.5942186116362439, 0.6301353641821164, 0.6097748804056204, 0.40477228986786373, 0.5114068074438823, 0.47561805778566, 0.8879232147518066, 0.7442074128058288, 0.822559767688144, 1.0, 0.6807224529741444, 0.6795643716203615, 0.7102611682833624, 0.6235722100758335, 0.6307306004282748, 0.500582388132139, 0.5674472218571789, 0.5271346757278843, 0.6461414254086111, 0.7875310369726987, 0.45336495675878974, 0.8793082296837478, 0.7110693963332371, 0.690026235490608, 0.5670265346622704, 0.550184509238826, 0.6912846098419687, 0.6649244334812096, 0.6743545334358231, 0.6569535564431397, 0.7124532278933299, 0.6367375662022573, 0.8471605348243596, 0.7009981603912618, 0.8171129963148567, 0.7627222518592582, 0.6511843553296546, 0.503403386726596, 0.5379283268339198, 0.5189825966142398, 0.5531812334483166, 0.43566954999334195, 0.6484141427795497, 0.5918320213960515, 0.6252228465412941, 0.5514136357899636, 0.8482823752628943, 0.6382249128692473, 0.5637386040396681, 0.36435912315362495, 0.42829861545656256, 0.40473269930928446, 0.45339177516110674, 0.495555577510022, 0.6944601379874632, 0.5958509044595581, 0.6266850077414613, 0.7609324157700412, 0.87282407789694, 0.7324364660605435, 0.7623032051018455, 0.5828134349397732, 0.3907765047707047, 0.4463841387638976, 0.21683130081325094, 0.3682061253774789, 0.3569120358073199, 0.4478032797408137, 0.6202250061453736, 0.44735858489319913, 0.4798864073804874, 0.4359124360196792, 0.34487015930659237, 0.3504212960135271, 0.21395724056754997, 0.21598902868401162, 0.31752652691364114, 0.23763697832041017, 0.32390635462780604, 0.4757400440687156, 0.5707672410376192, 0.1992479076712065, 0.39265479069899634, 0.23103092277255463, 0.3098637020313485, 0.2707885209003388, 0.21563526808805075, 0.21068417766008354, 0.2312594874794762, 0.3396772043747225, 0.344648795270049, 0.2865739820440326, 0.5716811035095999, 0.364361936403903, 0.2953780425374435, 0.49147463414538195, 0.4002972451486092, 0.395247258345535, 0.3566752314029171, 0.4014268914189152, 0.5037306665102733, 0.4896285880652764, 0.5594928217134039, 0.5201478848900686, 0.47760221569941463, 0.693654360591164, 0.44734273191529916, 0.526891900981225, 0.4818605388702514, 0.32050451237561284, 0.3534080163050285, 0.30146596615242693, 0.3479766352862622, 0.3695543049293819, 0.43223227079031334, 0.5821588191074123, 0.5545320549548137, 0.5852491707868225, 0.5590080911884997, 0.5071099915072417, 0.427273353274906, 0.2881340731115448, 0.3164757841864664, 0.3815103672939616, 0.377687293951806, 0.3459091326449375, 0.4101078903424975, 0.5142219807347636, 0.44472296823906254, 0.562575777670416, 0.4002379843440861, 0.40164528216249806, 0.26690291088000284, 0.28050096115352174, 0.21153668251833377, 0.2987276671134761, 0.2897385985294483, 0.2473324384200817, 0.3543190599002307, 0.4967761411524797, 0.5415186722755203, 0.4150601252423558, 0.44730141902238296, 0.31549652031396647, 0.306210416887417, 0.22668157386733337, 0.15947464286520738, 0.17625462028246378, 0.402991014811826, 0.428462502914426, 0.48926641772648427, 0.5562572869394796, 0.518452306438833, 0.48046240161991105, 0.31268198135892566, 0.18064893618012914, 0.13423450396213762, 0.08601258657301827, 0.06214318323741405, 0.0, 0.05543993280989748]}, {\"line\": {\"color\": \"rgba(55, 128, 191, 1.0)\", \"dash\": \"solid\", \"shape\": \"linear\", \"width\": 1.3}, \"mode\": \"lines\", \"name\": \"O3 Mean\", \"text\": \"\", \"type\": \"scatter\", \"x\": [\"2000-01-01\", \"2000-02-01\", \"2000-03-01\", \"2000-04-01\", \"2000-05-01\", \"2000-06-01\", \"2000-07-01\", \"2000-08-01\", \"2000-09-01\", \"2000-10-01\", \"2000-11-01\", \"2000-12-01\", \"2001-01-01\", \"2001-02-01\", \"2001-03-01\", \"2001-04-01\", \"2001-05-01\", \"2001-06-01\", \"2001-07-01\", \"2001-08-01\", \"2001-09-01\", \"2001-10-01\", \"2001-11-01\", \"2001-12-01\", \"2002-01-01\", \"2002-02-01\", \"2002-03-01\", \"2002-04-01\", \"2002-05-01\", \"2002-06-01\", \"2002-07-01\", \"2002-08-01\", \"2002-09-01\", \"2002-10-01\", \"2002-11-01\", \"2002-12-01\", \"2003-01-01\", \"2003-02-01\", \"2003-03-01\", \"2003-04-01\", \"2003-05-01\", \"2003-06-01\", \"2003-07-01\", \"2003-08-01\", \"2003-09-01\", \"2003-10-01\", \"2003-11-01\", \"2003-12-01\", \"2004-01-01\", \"2004-02-01\", \"2004-03-01\", \"2004-04-01\", \"2004-05-01\", \"2004-06-01\", \"2004-07-01\", \"2004-08-01\", \"2004-09-01\", \"2004-10-01\", \"2004-11-01\", \"2004-12-01\", \"2005-01-01\", \"2005-02-01\", \"2005-03-01\", \"2005-04-01\", \"2005-05-01\", \"2005-06-01\", \"2005-07-01\", \"2005-08-01\", \"2005-09-01\", \"2005-10-01\", \"2005-11-01\", \"2005-12-01\", \"2006-01-01\", \"2006-02-01\", \"2006-03-01\", \"2006-04-01\", \"2006-05-01\", \"2006-06-01\", \"2006-07-01\", \"2006-08-01\", \"2006-09-01\", \"2006-10-01\", \"2006-11-01\", \"2006-12-01\", \"2007-01-01\", \"2007-02-01\", \"2007-03-01\", \"2007-04-01\", \"2007-05-01\", \"2007-06-01\", \"2007-07-01\", \"2007-08-01\", \"2007-09-01\", \"2007-10-01\", \"2007-11-01\", \"2007-12-01\", \"2008-01-01\", \"2008-02-01\", \"2008-03-01\", \"2008-04-01\", \"2008-05-01\", \"2008-06-01\", \"2008-07-01\", \"2008-08-01\", \"2008-09-01\", \"2008-10-01\", \"2008-11-01\", \"2008-12-01\", \"2009-01-01\", \"2009-02-01\", \"2009-03-01\", \"2009-04-01\", \"2009-05-01\", \"2009-06-01\", \"2009-07-01\", \"2009-08-01\", \"2009-09-01\", \"2009-10-01\", \"2009-11-01\", \"2009-12-01\", \"2010-01-01\", \"2010-02-01\", \"2010-03-01\", \"2010-04-01\", \"2010-05-01\", \"2010-06-01\", \"2010-07-01\", \"2010-08-01\", \"2010-09-01\", \"2010-10-01\", \"2010-11-01\", \"2010-12-01\", \"2011-01-01\", \"2011-02-01\", \"2011-03-01\", \"2011-04-01\", \"2011-05-01\", \"2011-06-01\", \"2011-07-01\", \"2011-08-01\", \"2011-09-01\", \"2011-10-01\", \"2011-11-01\", \"2011-12-01\", \"2012-01-01\", \"2012-02-01\", \"2012-03-01\", \"2012-04-01\", \"2012-05-01\", \"2012-06-01\", \"2012-07-01\", \"2012-08-01\", \"2012-09-01\", \"2012-10-01\", \"2012-11-01\", \"2012-12-01\", \"2013-01-01\", \"2013-02-01\", \"2013-03-01\", \"2013-04-01\", \"2013-05-01\", \"2013-06-01\", \"2013-07-01\", \"2013-08-01\"], \"y\": [0.16650628490510402, 0.16071576761653858, 0.2839436962905022, 0.32786652235250924, 0.6087776790964, 0.6078674758147247, 0.5180769373381101, 0.4819071716249643, 0.28526265235531645, 0.19448157257701423, 0.10667653088069887, 0.04400669542355792, 0.04925780029204194, 0.141622686750583, 0.2962309991754317, 0.4566863303534695, 0.6116963328783788, 0.7261647688648677, 0.6157061711959064, 0.6778374770683508, 0.4300547181371466, 0.38234452827456866, 0.2037169135368682, 0.0, 0.1321313235291521, 0.23921484152222008, 0.4105555329942068, 0.545152615752961, 0.7178175603020706, 0.8314005123976573, 0.9577333731197808, 0.9372816085966977, 0.5307694616646391, 0.2416567641964342, 0.20441435349081935, 0.17475726441096337, 0.1764938016127637, 0.09049150977210485, 0.259257853262165, 0.4371889108812993, 0.2740630026643972, 0.6214825631183157, 0.7679590788142461, 0.6605462632226667, 0.39781974973382506, 0.2741601145567196, 0.16784819468992182, 0.18733590297285976, 0.25264276772424454, 0.21589386199870395, 0.39197979366371405, 0.5178571113273076, 0.635897499280489, 0.5437912835896792, 0.6083141905194072, 0.5463294353208311, 0.2875853922525897, 0.13518416828961236, 0.12742404525767312, 0.14364967679396565, 0.15324698026156644, 0.18124080747655627, 0.4476363848244127, 0.456666907975005, 0.4518686976588969, 0.6179123768223929, 0.6040465642695328, 0.7352570904923927, 0.6210208402120924, 0.2686777068174314, 0.34390234428108046, 0.17628456962657832, 0.28923806009283903, 0.3708305891866791, 0.6633439685569349, 0.6718041800489797, 0.7923836025686977, 0.8400920267605058, 0.9166047210505035, 0.9198058821556012, 0.473017902135932, 0.3731842283224186, 0.23854918364211972, 0.19688288482353003, 0.18606020584189822, 0.2928832873964653, 0.4601435137201446, 0.6566485449990023, 0.8805559037850681, 0.8521586207992482, 0.8844200742641126, 0.9152089583072158, 0.691481697939639, 0.4286951516446339, 0.19437298382469007, 0.21541006820786177, 0.31812355104642454, 0.25153569215176985, 0.6515731243720831, 0.6176183926392715, 0.7019591882858335, 0.848442766664842, 0.9768723614257435, 0.7357329387647719, 0.4982511031028133, 0.35100563778676697, 0.2820650225917575, 0.3195740495835666, 0.3404080818282462, 0.5313900949401174, 0.6032696691309544, 0.6538534881708885, 0.5337472654173956, 0.6370531307991248, 0.6844931730339694, 0.5928610399447698, 0.3526980332193298, 0.29784747076490625, 0.20401089771998934, 0.26934248186214704, 0.31881481115268284, 0.42909595890930974, 0.628249496342413, 0.6297962239364923, 0.6441740810125062, 0.8785615786509213, 0.959682673649306, 0.9189583601862426, 0.7125240793351187, 0.42825020261072066, 0.29255045845641525, 0.37509291842424464, 0.31391948894425237, 0.45491889391320306, 0.6666042796328112, 0.6900841695255816, 0.7410802726901934, 0.8200393038313293, 1.0, 0.7066267389649991, 0.38988835663724475, 0.2505729601647019, 0.2900203993829569, 0.1547725198064118, 0.2751341762645586, 0.3305504890613753, 0.6132254037647631, 0.7192558462830567, 0.7526623372419398, 0.8270035507639175, 0.8868877463037148, 0.9225364920006283, 0.6607784489288556, 0.41864892638388873, 0.24432689981760622, 0.17597072164730013, 0.2720567592525561, 0.36980488160883196, 0.7047127518508642, 0.8277504294994148, 0.7193201461269128, 0.6640855502801235, 0.6593517869471022, 0.6627459947229986]}, {\"line\": {\"color\": \"rgba(50, 171, 96, 1.0)\", \"dash\": \"solid\", \"shape\": \"linear\", \"width\": 1.3}, \"mode\": \"lines\", \"name\": \"SO2 Mean\", \"text\": \"\", \"type\": \"scatter\", \"x\": [\"2000-01-01\", \"2000-02-01\", \"2000-03-01\", \"2000-04-01\", \"2000-05-01\", \"2000-06-01\", \"2000-07-01\", \"2000-08-01\", \"2000-09-01\", \"2000-10-01\", \"2000-11-01\", \"2000-12-01\", \"2001-01-01\", \"2001-02-01\", \"2001-03-01\", \"2001-04-01\", \"2001-05-01\", \"2001-06-01\", \"2001-07-01\", \"2001-08-01\", \"2001-09-01\", \"2001-10-01\", \"2001-11-01\", \"2001-12-01\", \"2002-01-01\", \"2002-02-01\", \"2002-03-01\", \"2002-04-01\", \"2002-05-01\", \"2002-06-01\", \"2002-07-01\", \"2002-08-01\", \"2002-09-01\", \"2002-10-01\", \"2002-11-01\", \"2002-12-01\", \"2003-01-01\", \"2003-02-01\", \"2003-03-01\", \"2003-04-01\", \"2003-05-01\", \"2003-06-01\", \"2003-07-01\", \"2003-08-01\", \"2003-09-01\", \"2003-10-01\", \"2003-11-01\", \"2003-12-01\", \"2004-01-01\", \"2004-02-01\", \"2004-03-01\", \"2004-04-01\", \"2004-05-01\", \"2004-06-01\", \"2004-07-01\", \"2004-08-01\", \"2004-09-01\", \"2004-10-01\", \"2004-11-01\", \"2004-12-01\", \"2005-01-01\", \"2005-02-01\", \"2005-03-01\", \"2005-04-01\", \"2005-05-01\", \"2005-06-01\", \"2005-07-01\", \"2005-08-01\", \"2005-09-01\", \"2005-10-01\", \"2005-11-01\", \"2005-12-01\", \"2006-01-01\", \"2006-02-01\", \"2006-03-01\", \"2006-04-01\", \"2006-05-01\", \"2006-06-01\", \"2006-07-01\", \"2006-08-01\", \"2006-09-01\", \"2006-10-01\", \"2006-11-01\", \"2006-12-01\", \"2007-01-01\", \"2007-02-01\", \"2007-03-01\", \"2007-04-01\", \"2007-05-01\", \"2007-06-01\", \"2007-07-01\", \"2007-08-01\", \"2007-09-01\", \"2007-10-01\", \"2007-11-01\", \"2007-12-01\", \"2008-01-01\", \"2008-02-01\", \"2008-03-01\", \"2008-04-01\", \"2008-05-01\", \"2008-06-01\", \"2008-07-01\", \"2008-08-01\", \"2008-09-01\", \"2008-10-01\", \"2008-11-01\", \"2008-12-01\", \"2009-01-01\", \"2009-02-01\", \"2009-03-01\", \"2009-04-01\", \"2009-05-01\", \"2009-06-01\", \"2009-07-01\", \"2009-08-01\", \"2009-09-01\", \"2009-10-01\", \"2009-11-01\", \"2009-12-01\", \"2010-01-01\", \"2010-02-01\", \"2010-03-01\", \"2010-04-01\", \"2010-05-01\", \"2010-06-01\", \"2010-07-01\", \"2010-08-01\", \"2010-09-01\", \"2010-10-01\", \"2010-11-01\", \"2010-12-01\", \"2011-01-01\", \"2011-02-01\", \"2011-03-01\", \"2011-04-01\", \"2011-05-01\", \"2011-06-01\", \"2011-07-01\", \"2011-08-01\", \"2011-09-01\", \"2011-10-01\", \"2011-11-01\", \"2011-12-01\", \"2012-01-01\", \"2012-02-01\", \"2012-03-01\", \"2012-04-01\", \"2012-05-01\", \"2012-06-01\", \"2012-07-01\", \"2012-08-01\", \"2012-09-01\", \"2012-10-01\", \"2012-11-01\", \"2012-12-01\", \"2013-01-01\", \"2013-02-01\", \"2013-03-01\", \"2013-04-01\", \"2013-05-01\", \"2013-06-01\", \"2013-07-01\", \"2013-08-01\"], \"y\": [0.8291385358649348, 0.6483008456252325, 0.44384139347046736, 0.33152870488215375, 0.4360159926223799, 0.44711530619564643, 0.45654135550253294, 0.3627243838364226, 0.4300687094983921, 0.6160151837585702, 0.6473555365250097, 1.0000000000000002, 0.9451261208466458, 0.3687627125293479, 0.45446171382326794, 0.4951370950639312, 0.28436735124565543, 0.4273667019145318, 0.6772283974353891, 0.5356455917915013, 0.21843279163263307, 0.21582015002466826, 0.2779891040886897, 0.16334673955791817, 0.4017099312171958, 0.23351769415495144, 0.5700508357631378, 0.5633994110845062, 0.5704651559937819, 0.6226069890682714, 0.4596068614041522, 0.3400820621332122, 0.2723753760221132, 0.321329087955646, 0.44303065217744647, 0.5841581013480185, 0.7823343666121154, 0.6479741239636668, 0.6861429253207709, 0.44739150154280793, 0.325368379356755, 0.4943686639317214, 0.47454570983017963, 0.5030122195343139, 0.4152849513297504, 0.494902260004638, 0.8272092598146159, 0.6555027043588698, 0.5441384676144613, 0.5159388895226678, 0.38084107053407434, 0.5448330250995291, 0.6174655729544039, 0.6188421441597127, 0.7044625545989335, 0.2982002074423975, 0.1417791360120744, 0.16666926772029203, 0.2542686308332048, 0.36429554665595293, 0.46039080712776237, 0.39208396952343144, 0.3504767431367852, 0.2295464967704352, 0.16087037503372692, 0.16414485174596563, 0.1119345709261575, 0.18789673017562444, 0.14880585079054492, 0.2047465695978204, 0.32314898885758286, 0.6027256994104486, 0.4076233256450443, 0.35683407206317413, 0.4298947788574923, 0.19110044630087367, 0.1928445404158118, 0.1885981507400673, 0.2323813554640432, 0.2630285706075745, 0.18984757996779586, 0.20267998619789263, 0.2857315332878543, 0.4665450784499642, 0.22607658988426793, 0.43663411254544804, 0.25492589962119605, 0.227947616955267, 0.2832409367480983, 0.2683947986422861, 0.25844374788107655, 0.362337181983572, 0.2697953986646971, 0.26919087256131025, 0.29054796422662976, 0.3710994135737793, 0.3632310952893401, 0.34804560889061603, 0.3848829839802858, 0.2651283674033461, 0.24157309288384338, 0.3107994804688905, 0.3599253494524376, 0.38198307754229666, 0.3411180457582545, 0.34036746432176274, 0.40473398901717195, 0.5278631331160397, 0.7086624883142515, 0.4974284273072027, 0.4268938531846651, 0.3765200057558919, 0.3142697930299602, 0.14946201263024983, 0.17629238103204137, 0.1873333639962819, 0.1291005152008805, 0.08901024332489293, 0.11202405316254327, 0.21016571470787176, 0.26851417219284307, 0.23507476966612328, 0.17778039162784437, 0.1256158580741966, 0.11874858713743328, 0.16957822021388563, 0.1991348909315907, 0.15574162636605848, 0.16691559030548817, 0.17574843406503754, 0.20340416042448412, 0.35146958051493626, 0.401343083607862, 0.3330830346668502, 0.3006164170573143, 0.2658795140637113, 0.2740876815506219, 0.2563769529860015, 0.3331295376261982, 0.3000079455181359, 0.17680136203814928, 0.09800827036025292, 0.01718045601632582, 0.09074811461769583, 0.051832778884752746, 0.050429679467933565, 0.05822621019771788, 0.06454804524988478, 0.053229910263064485, 0.0572669873553295, 0.08639665122557841, 0.08144539955119362, 0.08305017154696068, 0.027660622698858973, 0.11294375341612717, 0.10820095680103745, 0.07781022095703427, 0.05626142625595456, 0.05729367470353907, 0.04848389380957028, 0.00692185935972061, 0.008890929273321697, 0.004994588184454217, 0.0]}, {\"line\": {\"color\": \"rgba(128, 0, 128, 1.0)\", \"dash\": \"solid\", \"shape\": \"linear\", \"width\": 1.3}, \"mode\": \"lines\", \"name\": \"CO Mean\", \"text\": \"\", \"type\": \"scatter\", \"x\": [\"2000-01-01\", \"2000-02-01\", \"2000-03-01\", \"2000-04-01\", \"2000-05-01\", \"2000-06-01\", \"2000-07-01\", \"2000-08-01\", \"2000-09-01\", \"2000-10-01\", \"2000-11-01\", \"2000-12-01\", \"2001-01-01\", \"2001-02-01\", \"2001-03-01\", \"2001-04-01\", \"2001-05-01\", \"2001-06-01\", \"2001-07-01\", \"2001-08-01\", \"2001-09-01\", \"2001-10-01\", \"2001-11-01\", \"2001-12-01\", \"2002-01-01\", \"2002-02-01\", \"2002-03-01\", \"2002-04-01\", \"2002-05-01\", \"2002-06-01\", \"2002-07-01\", \"2002-08-01\", \"2002-09-01\", \"2002-10-01\", \"2002-11-01\", \"2002-12-01\", \"2003-01-01\", \"2003-02-01\", \"2003-03-01\", \"2003-04-01\", \"2003-05-01\", \"2003-06-01\", \"2003-07-01\", \"2003-08-01\", \"2003-09-01\", \"2003-10-01\", \"2003-11-01\", \"2003-12-01\", \"2004-01-01\", \"2004-02-01\", \"2004-03-01\", \"2004-04-01\", \"2004-05-01\", \"2004-06-01\", \"2004-07-01\", \"2004-08-01\", \"2004-09-01\", \"2004-10-01\", \"2004-11-01\", \"2004-12-01\", \"2005-01-01\", \"2005-02-01\", \"2005-03-01\", \"2005-04-01\", \"2005-05-01\", \"2005-06-01\", \"2005-07-01\", \"2005-08-01\", \"2005-09-01\", \"2005-10-01\", \"2005-11-01\", \"2005-12-01\", \"2006-01-01\", \"2006-02-01\", \"2006-03-01\", \"2006-04-01\", \"2006-05-01\", \"2006-06-01\", \"2006-07-01\", \"2006-08-01\", \"2006-09-01\", \"2006-10-01\", \"2006-11-01\", \"2006-12-01\", \"2007-01-01\", \"2007-02-01\", \"2007-03-01\", \"2007-04-01\", \"2007-05-01\", \"2007-06-01\", \"2007-07-01\", \"2007-08-01\", \"2007-09-01\", \"2007-10-01\", \"2007-11-01\", \"2007-12-01\", \"2008-01-01\", \"2008-02-01\", \"2008-03-01\", \"2008-04-01\", \"2008-05-01\", \"2008-06-01\", \"2008-07-01\", \"2008-08-01\", \"2008-09-01\", \"2008-10-01\", \"2008-11-01\", \"2008-12-01\", \"2009-01-01\", \"2009-02-01\", \"2009-03-01\", \"2009-04-01\", \"2009-05-01\", \"2009-06-01\", \"2009-07-01\", \"2009-08-01\", \"2009-09-01\", \"2009-10-01\", \"2009-11-01\", \"2009-12-01\", \"2010-01-01\", \"2010-02-01\", \"2010-03-01\", \"2010-04-01\", \"2010-05-01\", \"2010-06-01\", \"2010-07-01\", \"2010-08-01\", \"2010-09-01\", \"2010-10-01\", \"2010-11-01\", \"2010-12-01\", \"2011-01-01\", \"2011-02-01\", \"2011-03-01\", \"2011-04-01\", \"2011-05-01\", \"2011-06-01\", \"2011-07-01\", \"2011-08-01\", \"2011-09-01\", \"2011-10-01\", \"2011-11-01\", \"2011-12-01\", \"2012-01-01\", \"2012-02-01\", \"2012-03-01\", \"2012-04-01\", \"2012-05-01\", \"2012-06-01\", \"2012-07-01\", \"2012-08-01\", \"2012-09-01\", \"2012-10-01\", \"2012-11-01\", \"2012-12-01\", \"2013-01-01\", \"2013-02-01\", \"2013-03-01\", \"2013-04-01\", \"2013-05-01\", \"2013-06-01\", \"2013-07-01\", \"2013-08-01\"], \"y\": [0.41957921533532194, 0.46936687561916696, 0.5125753568716997, 0.44177920397958986, 0.3399692864563137, 0.38673652237674044, 0.4914969793869099, 0.4127291296355975, 0.4195664716225437, 0.6958816838526553, 0.5041124552851861, 0.5694292750904416, 0.5860547377294143, 0.4384401643737639, 0.32366084702994163, 0.4011670467932651, 0.3832427120609458, 0.3580853823000907, 0.20927375201558845, 0.4105603963732667, 0.3796827988737083, 0.44313387185938174, 0.6048246196731414, 0.338344608826311, 0.5446571492741299, 0.48461790080632533, 0.39166925856302964, 0.5505709196404652, 0.43978372541649496, 0.47569999261624524, 0.4735734967268819, 0.3210230479712376, 0.46618448277721397, 0.5126370947412291, 0.4331255129430035, 0.49503778821645766, 0.4982572163058097, 0.5224073218751376, 0.44798563128072183, 0.23314554386702402, 0.18672516863803074, 0.1876638757532899, 0.32473708907706605, 0.33485921459297263, 0.38643923136457065, 0.31505432641643, 0.3639366374677892, 0.3019149232251285, 0.19945743823476503, 0.27124292180028425, 0.2511617454461211, 0.1774564458421125, 0.12670645212272003, 0.10992217516755416, 0.1852572424123582, 0.23448470253625003, 0.22594338040166134, 0.2884653283481937, 0.2561991220892392, 0.3000961973422546, 0.27242114344690704, 0.34954720685352525, 0.3498681540832568, 0.4021775073646357, 0.3725464991016012, 0.23638849363620767, 0.3118926224876558, 0.23807695709896598, 0.31349085597935417, 0.25473169664289574, 0.36574968286872106, 0.3927097808427834, 0.4892820548372074, 0.2824607823855589, 0.23196072987162109, 0.3516624688424163, 0.4938846429078821, 0.5282687346414667, 0.46529761753399507, 0.367695472163459, 0.35961991217653516, 0.573462947945973, 0.5387530955216425, 0.6719056476832629, 0.26995363178305576, 0.46690414004473796, 0.5479263488493409, 0.3232841787569484, 0.4670416077077381, 0.39924600496656737, 0.4661262653116253, 0.5476030995295587, 0.47318279168403693, 0.6213849137304644, 0.15650183559479647, 0.5672738012688547, 0.39952878832682964, 0.4703363021828239, 0.2246032126994587, 0.31639616836594175, 0.36583521896786053, 0.43194627478908576, 0.3399488591442768, 0.36336790163628624, 0.44745058220199935, 0.652920086809374, 0.8274191105631176, 1.0, 0.9194931379709622, 0.2511637934093476, 0.27856887492607585, 0.23588340909973005, 0.29692367060051694, 0.264583588179041, 0.2909848463190891, 0.40967753736468104, 0.11106400435815543, 0.30743917696523604, 0.3522155459769867, 0.23269353446511387, 0.524707857267163, 0.12547940075434977, 0.33939615572562376, 0.45785255367105865, 0.5278582376036445, 0.19435988585465175, 0.2240967229911323, 0.25853777650482385, 0.29388795378176513, 0.36777039473054873, 0.5043644818254592, 0.25694876632196323, 0.4019788997775741, 0.32773359562178034, 0.21765726886696035, 0.24466398416454033, 0.2288511966848945, 0.14184819530135723, 0.11684418623271194, 0.13108668669695112, 0.1945648727724209, 0.27305446486322876, 0.29806148483644723, 0.33800780109305145, 0.21488480875179483, 0.25270905640693525, 0.17363180475629458, 0.22678159779821228, 0.22699208955144246, 0.1477699631883218, 0.0, 0.21603445234222574, 0.26072586077734955, 0.20480337716211733, 0.23157112729073198, 0.2729884329978104, 0.14308651794179156, 0.09609594316061933, 0.13062992736573276, 0.10040865723436172, 0.087675468296471, 0.025484116924653494, 0.017352099674111138, 0.036591745017257205]}, {\"line\": {\"color\": \"rgba(219, 64, 82, 1.0)\", \"dash\": \"solid\", \"shape\": \"linear\", \"width\": 1.3}, \"mode\": \"lines\", \"name\": \"AverageTemperatureAnomaly\", \"text\": \"\", \"type\": \"scatter\", \"x\": [\"2000-01-01\", \"2000-02-01\", \"2000-03-01\", \"2000-04-01\", \"2000-05-01\", \"2000-06-01\", \"2000-07-01\", \"2000-08-01\", \"2000-09-01\", \"2000-10-01\", \"2000-11-01\", \"2000-12-01\", \"2001-01-01\", \"2001-02-01\", \"2001-03-01\", \"2001-04-01\", \"2001-05-01\", \"2001-06-01\", \"2001-07-01\", \"2001-08-01\", \"2001-09-01\", \"2001-10-01\", \"2001-11-01\", \"2001-12-01\", \"2002-01-01\", \"2002-02-01\", \"2002-03-01\", \"2002-04-01\", \"2002-05-01\", \"2002-06-01\", \"2002-07-01\", \"2002-08-01\", \"2002-09-01\", \"2002-10-01\", \"2002-11-01\", \"2002-12-01\", \"2003-01-01\", \"2003-02-01\", \"2003-03-01\", \"2003-04-01\", \"2003-05-01\", \"2003-06-01\", \"2003-07-01\", \"2003-08-01\", \"2003-09-01\", \"2003-10-01\", \"2003-11-01\", \"2003-12-01\", \"2004-01-01\", \"2004-02-01\", \"2004-03-01\", \"2004-04-01\", \"2004-05-01\", \"2004-06-01\", \"2004-07-01\", \"2004-08-01\", \"2004-09-01\", \"2004-10-01\", \"2004-11-01\", \"2004-12-01\", \"2005-01-01\", \"2005-02-01\", \"2005-03-01\", \"2005-04-01\", \"2005-05-01\", \"2005-06-01\", \"2005-07-01\", \"2005-08-01\", \"2005-09-01\", \"2005-10-01\", \"2005-11-01\", \"2005-12-01\", \"2006-01-01\", \"2006-02-01\", \"2006-03-01\", \"2006-04-01\", \"2006-05-01\", \"2006-06-01\", \"2006-07-01\", \"2006-08-01\", \"2006-09-01\", \"2006-10-01\", \"2006-11-01\", \"2006-12-01\", \"2007-01-01\", \"2007-02-01\", \"2007-03-01\", \"2007-04-01\", \"2007-05-01\", \"2007-06-01\", \"2007-07-01\", \"2007-08-01\", \"2007-09-01\", \"2007-10-01\", \"2007-11-01\", \"2007-12-01\", \"2008-01-01\", \"2008-02-01\", \"2008-03-01\", \"2008-04-01\", \"2008-05-01\", \"2008-06-01\", \"2008-07-01\", \"2008-08-01\", \"2008-09-01\", \"2008-10-01\", \"2008-11-01\", \"2008-12-01\", \"2009-01-01\", \"2009-02-01\", \"2009-03-01\", \"2009-04-01\", \"2009-05-01\", \"2009-06-01\", \"2009-07-01\", \"2009-08-01\", \"2009-09-01\", \"2009-10-01\", \"2009-11-01\", \"2009-12-01\", \"2010-01-01\", \"2010-02-01\", \"2010-03-01\", \"2010-04-01\", \"2010-05-01\", \"2010-06-01\", \"2010-07-01\", \"2010-08-01\", \"2010-09-01\", \"2010-10-01\", \"2010-11-01\", \"2010-12-01\", \"2011-01-01\", \"2011-02-01\", \"2011-03-01\", \"2011-04-01\", \"2011-05-01\", \"2011-06-01\", \"2011-07-01\", \"2011-08-01\", \"2011-09-01\", \"2011-10-01\", \"2011-11-01\", \"2011-12-01\", \"2012-01-01\", \"2012-02-01\", \"2012-03-01\", \"2012-04-01\", \"2012-05-01\", \"2012-06-01\", \"2012-07-01\", \"2012-08-01\", \"2012-09-01\", \"2012-10-01\", \"2012-11-01\", \"2012-12-01\", \"2013-01-01\", \"2013-02-01\", \"2013-03-01\", \"2013-04-01\", \"2013-05-01\", \"2013-06-01\", \"2013-07-01\", \"2013-08-01\"], \"y\": [0.32634032634032634, 0.44988344988344986, 0.1631701631701632, 0.2121212121212121, 0.2727272727272727, 0.5524475524475524, 0.7156177156177156, 0.49650349650349646, 0.21445221445221446, 0.6573426573426574, 0.31934731934731936, 0.6083916083916084, 0.8834498834498833, 0.9510489510489512, 0.400932400932401, 0.4825174825174826, 0.2983682983682983, 0.2937062937062937, 0.48018648018648025, 0.43822843822843827, 0.39160839160839156, 0.9766899766899767, 0.46153846153846156, 0.46153846153846156, 0.7762237762237763, 0.7785547785547785, 0.4825174825174826, 0.3892773892773893, 0.29137529137529133, 0.49184149184149173, 0.8275058275058275, 0.2703962703962704, 0.23310023310023303, 0.28438228438228436, 0.4312354312354313, 0.0, 0.43822843822843827, 0.37529137529137524, 0.28205128205128205, 0.543123543123543, 0.5384615384615384, 0.7132867132867133, 0.5664335664335665, 0.8111888111888113, 0.43356643356643354, 0.627039627039627, 0.20512820512820512, 0.4289044289044289, 0.39160839160839156, 0.45687645687645695, 0.254079254079254, 0.5361305361305361, 0.34032634032634035, 0.7319347319347318, 0.5850815850815851, 0.46853146853146854, 0.2983682983682983, 0.43356643356643354, 0.3613053613053613, 0.3076923076923077, 0.4405594405594405, 0.3076923076923077, 0.400932400932401, 0.6013986013986015, 0.3613053613053613, 0.6526806526806527, 0.7925407925407925, 0.36829836829836826, 0.29603729603729606, 0.17948717948717946, 0.44522144522144524, 0.3053613053613053, 0.8041958041958042, 0.5011655011655011, 0.4358974358974359, 0.7622377622377623, 0.627039627039627, 0.3379953379953379, 0.36363636363636365, 0.41025641025641024, 0.21445221445221446, 0.33333333333333326, 0.3543123543123543, 0.7249417249417249, 0.36363636363636365, 0.5501165501165501, 0.4195804195804196, 0.34032634032634035, 0.35664335664335656, 0.4475524475524476, 0.4289044289044289, 0.5361305361305361, 0.7226107226107227, 0.303030303030303, 0.24708624708624705, 0.4055944055944056, 0.44988344988344986, 0.4195804195804196, 0.48018648018648025, 0.27972027972027963, 0.2121212121212121, 0.35664335664335656, 0.17249417249417254, 0.4055944055944056, 0.2237762237762238, 0.44988344988344986, 0.28438228438228436, 0.21678321678321671, 0.35897435897435903, 0.3379953379953379, 0.24475524475524474, 0.4708624708624709, 0.5221445221445221, 0.5221445221445221, 0.8205128205128205, 0.5454545454545454, 0.30069930069930073, 0.27505827505827507, 0.40326340326340326, 0.3473193473193473, 0.31934731934731936, 0.5850815850815851, 0.46153846153846156, 0.35664335664335656, 0.16550116550116545, 0.3379953379953379, 0.4755244755244755, 0.5641025641025641, 0.11888111888111885, 0.1515151515151515, 0.4172494172494172, 0.6433566433566433, 0.4195804195804196, 0.43356643356643354, 0.2587412587412587, 0.36829836829836826, 0.3846153846153846, 0.5571095571095571, 0.5268065268065267, 0.365967365967366, 0.14918414918414918, 0.5571095571095571, 0.7552447552447552, 0.8275058275058275, 0.7202797202797202, 0.2703962703962704, 0.27972027972027963, 0.5827505827505828, 0.3473193473193473, 0.8741258741258741, 1.0, 0.7412587412587412, 0.40326340326340326, 0.5944055944055943, 0.6363636363636365, 0.6596736596736598, 0.24941724941724946, 0.33333333333333326, 0.3379953379953379, 0.4895104895104895, 0.26573426573426573, 0.39860139860139854, 0.5361305361305361, 0.3892773892773893]}],\n",
       "                        {\"legend\": {\"bgcolor\": \"#F5F6F9\", \"font\": {\"color\": \"#4D5663\"}}, \"paper_bgcolor\": \"#F5F6F9\", \"plot_bgcolor\": \"#F5F6F9\", \"template\": {\"data\": {\"bar\": [{\"error_x\": {\"color\": \"#2a3f5f\"}, \"error_y\": {\"color\": \"#2a3f5f\"}, \"marker\": {\"line\": {\"color\": \"#E5ECF6\", \"width\": 0.5}}, \"type\": \"bar\"}], \"barpolar\": [{\"marker\": {\"line\": {\"color\": \"#E5ECF6\", \"width\": 0.5}}, \"type\": \"barpolar\"}], \"carpet\": [{\"aaxis\": {\"endlinecolor\": \"#2a3f5f\", \"gridcolor\": \"white\", \"linecolor\": \"white\", \"minorgridcolor\": \"white\", \"startlinecolor\": \"#2a3f5f\"}, \"baxis\": {\"endlinecolor\": \"#2a3f5f\", \"gridcolor\": \"white\", \"linecolor\": \"white\", \"minorgridcolor\": \"white\", \"startlinecolor\": \"#2a3f5f\"}, \"type\": \"carpet\"}], \"choropleth\": [{\"colorbar\": {\"outlinewidth\": 0, \"ticks\": \"\"}, \"type\": \"choropleth\"}], \"contour\": [{\"colorbar\": {\"outlinewidth\": 0, \"ticks\": \"\"}, \"colorscale\": [[0.0, \"#0d0887\"], [0.1111111111111111, \"#46039f\"], [0.2222222222222222, \"#7201a8\"], [0.3333333333333333, \"#9c179e\"], [0.4444444444444444, \"#bd3786\"], [0.5555555555555556, \"#d8576b\"], [0.6666666666666666, \"#ed7953\"], [0.7777777777777778, \"#fb9f3a\"], [0.8888888888888888, \"#fdca26\"], [1.0, \"#f0f921\"]], \"type\": \"contour\"}], \"contourcarpet\": [{\"colorbar\": {\"outlinewidth\": 0, \"ticks\": \"\"}, \"type\": \"contourcarpet\"}], \"heatmap\": [{\"colorbar\": {\"outlinewidth\": 0, \"ticks\": \"\"}, \"colorscale\": [[0.0, \"#0d0887\"], [0.1111111111111111, \"#46039f\"], [0.2222222222222222, \"#7201a8\"], [0.3333333333333333, \"#9c179e\"], [0.4444444444444444, \"#bd3786\"], [0.5555555555555556, \"#d8576b\"], [0.6666666666666666, \"#ed7953\"], [0.7777777777777778, \"#fb9f3a\"], [0.8888888888888888, \"#fdca26\"], [1.0, \"#f0f921\"]], \"type\": \"heatmap\"}], \"heatmapgl\": [{\"colorbar\": {\"outlinewidth\": 0, \"ticks\": \"\"}, \"colorscale\": [[0.0, \"#0d0887\"], [0.1111111111111111, \"#46039f\"], [0.2222222222222222, \"#7201a8\"], [0.3333333333333333, \"#9c179e\"], [0.4444444444444444, \"#bd3786\"], [0.5555555555555556, \"#d8576b\"], [0.6666666666666666, \"#ed7953\"], [0.7777777777777778, \"#fb9f3a\"], [0.8888888888888888, \"#fdca26\"], [1.0, \"#f0f921\"]], \"type\": \"heatmapgl\"}], \"histogram\": [{\"marker\": {\"colorbar\": {\"outlinewidth\": 0, \"ticks\": \"\"}}, \"type\": \"histogram\"}], \"histogram2d\": [{\"colorbar\": {\"outlinewidth\": 0, \"ticks\": \"\"}, \"colorscale\": [[0.0, \"#0d0887\"], [0.1111111111111111, \"#46039f\"], [0.2222222222222222, \"#7201a8\"], [0.3333333333333333, \"#9c179e\"], [0.4444444444444444, \"#bd3786\"], [0.5555555555555556, \"#d8576b\"], [0.6666666666666666, \"#ed7953\"], [0.7777777777777778, \"#fb9f3a\"], [0.8888888888888888, \"#fdca26\"], [1.0, \"#f0f921\"]], \"type\": \"histogram2d\"}], \"histogram2dcontour\": [{\"colorbar\": {\"outlinewidth\": 0, \"ticks\": \"\"}, \"colorscale\": [[0.0, \"#0d0887\"], [0.1111111111111111, \"#46039f\"], [0.2222222222222222, \"#7201a8\"], [0.3333333333333333, \"#9c179e\"], [0.4444444444444444, \"#bd3786\"], [0.5555555555555556, \"#d8576b\"], [0.6666666666666666, \"#ed7953\"], [0.7777777777777778, \"#fb9f3a\"], [0.8888888888888888, \"#fdca26\"], [1.0, \"#f0f921\"]], \"type\": \"histogram2dcontour\"}], \"mesh3d\": [{\"colorbar\": {\"outlinewidth\": 0, \"ticks\": \"\"}, \"type\": \"mesh3d\"}], \"parcoords\": [{\"line\": {\"colorbar\": {\"outlinewidth\": 0, \"ticks\": \"\"}}, \"type\": \"parcoords\"}], \"scatter\": [{\"marker\": {\"colorbar\": {\"outlinewidth\": 0, \"ticks\": \"\"}}, \"type\": \"scatter\"}], \"scatter3d\": [{\"line\": {\"colorbar\": {\"outlinewidth\": 0, \"ticks\": \"\"}}, \"marker\": {\"colorbar\": {\"outlinewidth\": 0, \"ticks\": \"\"}}, \"type\": \"scatter3d\"}], \"scattercarpet\": [{\"marker\": {\"colorbar\": {\"outlinewidth\": 0, \"ticks\": \"\"}}, \"type\": \"scattercarpet\"}], \"scattergeo\": [{\"marker\": {\"colorbar\": {\"outlinewidth\": 0, \"ticks\": \"\"}}, \"type\": \"scattergeo\"}], \"scattergl\": [{\"marker\": {\"colorbar\": {\"outlinewidth\": 0, \"ticks\": \"\"}}, \"type\": \"scattergl\"}], \"scattermapbox\": [{\"marker\": {\"colorbar\": {\"outlinewidth\": 0, \"ticks\": \"\"}}, \"type\": \"scattermapbox\"}], \"scatterpolar\": [{\"marker\": {\"colorbar\": {\"outlinewidth\": 0, \"ticks\": \"\"}}, \"type\": \"scatterpolar\"}], \"scatterpolargl\": [{\"marker\": {\"colorbar\": {\"outlinewidth\": 0, \"ticks\": \"\"}}, \"type\": \"scatterpolargl\"}], \"scatterternary\": [{\"marker\": {\"colorbar\": {\"outlinewidth\": 0, \"ticks\": \"\"}}, \"type\": \"scatterternary\"}], \"surface\": [{\"colorbar\": {\"outlinewidth\": 0, \"ticks\": \"\"}, \"colorscale\": [[0.0, \"#0d0887\"], [0.1111111111111111, \"#46039f\"], [0.2222222222222222, \"#7201a8\"], [0.3333333333333333, \"#9c179e\"], [0.4444444444444444, \"#bd3786\"], [0.5555555555555556, \"#d8576b\"], [0.6666666666666666, \"#ed7953\"], [0.7777777777777778, \"#fb9f3a\"], [0.8888888888888888, \"#fdca26\"], [1.0, \"#f0f921\"]], \"type\": \"surface\"}], \"table\": [{\"cells\": {\"fill\": {\"color\": \"#EBF0F8\"}, \"line\": {\"color\": \"white\"}}, \"header\": {\"fill\": {\"color\": \"#C8D4E3\"}, \"line\": {\"color\": \"white\"}}, \"type\": \"table\"}]}, \"layout\": {\"annotationdefaults\": {\"arrowcolor\": \"#2a3f5f\", \"arrowhead\": 0, \"arrowwidth\": 1}, \"colorscale\": {\"diverging\": [[0, \"#8e0152\"], [0.1, \"#c51b7d\"], [0.2, \"#de77ae\"], [0.3, \"#f1b6da\"], [0.4, \"#fde0ef\"], [0.5, \"#f7f7f7\"], [0.6, \"#e6f5d0\"], [0.7, \"#b8e186\"], [0.8, \"#7fbc41\"], [0.9, \"#4d9221\"], [1, \"#276419\"]], \"sequential\": [[0.0, \"#0d0887\"], [0.1111111111111111, \"#46039f\"], [0.2222222222222222, \"#7201a8\"], [0.3333333333333333, \"#9c179e\"], [0.4444444444444444, \"#bd3786\"], [0.5555555555555556, \"#d8576b\"], [0.6666666666666666, \"#ed7953\"], [0.7777777777777778, \"#fb9f3a\"], [0.8888888888888888, \"#fdca26\"], [1.0, \"#f0f921\"]], \"sequentialminus\": [[0.0, \"#0d0887\"], [0.1111111111111111, \"#46039f\"], [0.2222222222222222, \"#7201a8\"], [0.3333333333333333, \"#9c179e\"], [0.4444444444444444, \"#bd3786\"], [0.5555555555555556, \"#d8576b\"], [0.6666666666666666, \"#ed7953\"], [0.7777777777777778, \"#fb9f3a\"], [0.8888888888888888, \"#fdca26\"], [1.0, \"#f0f921\"]]}, \"colorway\": [\"#636efa\", \"#EF553B\", \"#00cc96\", \"#ab63fa\", \"#FFA15A\", \"#19d3f3\", \"#FF6692\", \"#B6E880\", \"#FF97FF\", \"#FECB52\"], \"font\": {\"color\": \"#2a3f5f\"}, \"geo\": {\"bgcolor\": \"white\", \"lakecolor\": \"white\", \"landcolor\": \"#E5ECF6\", \"showlakes\": true, \"showland\": true, \"subunitcolor\": \"white\"}, \"hoverlabel\": {\"align\": \"left\"}, \"hovermode\": \"closest\", \"mapbox\": {\"style\": \"light\"}, \"paper_bgcolor\": \"white\", \"plot_bgcolor\": \"#E5ECF6\", \"polar\": {\"angularaxis\": {\"gridcolor\": \"white\", \"linecolor\": \"white\", \"ticks\": \"\"}, \"bgcolor\": \"#E5ECF6\", \"radialaxis\": {\"gridcolor\": \"white\", \"linecolor\": \"white\", \"ticks\": \"\"}}, \"scene\": {\"xaxis\": {\"backgroundcolor\": \"#E5ECF6\", \"gridcolor\": \"white\", \"gridwidth\": 2, \"linecolor\": \"white\", \"showbackground\": true, \"ticks\": \"\", \"zerolinecolor\": \"white\"}, \"yaxis\": {\"backgroundcolor\": \"#E5ECF6\", \"gridcolor\": \"white\", \"gridwidth\": 2, \"linecolor\": \"white\", \"showbackground\": true, \"ticks\": \"\", \"zerolinecolor\": \"white\"}, \"zaxis\": {\"backgroundcolor\": \"#E5ECF6\", \"gridcolor\": \"white\", \"gridwidth\": 2, \"linecolor\": \"white\", \"showbackground\": true, \"ticks\": \"\", \"zerolinecolor\": \"white\"}}, \"shapedefaults\": {\"line\": {\"color\": \"#2a3f5f\"}}, \"ternary\": {\"aaxis\": {\"gridcolor\": \"white\", \"linecolor\": \"white\", \"ticks\": \"\"}, \"baxis\": {\"gridcolor\": \"white\", \"linecolor\": \"white\", \"ticks\": \"\"}, \"bgcolor\": \"#E5ECF6\", \"caxis\": {\"gridcolor\": \"white\", \"linecolor\": \"white\", \"ticks\": \"\"}}, \"title\": {\"x\": 0.05}, \"xaxis\": {\"automargin\": true, \"gridcolor\": \"white\", \"linecolor\": \"white\", \"ticks\": \"\", \"zerolinecolor\": \"white\", \"zerolinewidth\": 2}, \"yaxis\": {\"automargin\": true, \"gridcolor\": \"white\", \"linecolor\": \"white\", \"ticks\": \"\", \"zerolinecolor\": \"white\", \"zerolinewidth\": 2}}}, \"title\": {\"font\": {\"color\": \"#4D5663\"}, \"text\": \"Greenhouses gases and Temp Anamoly Emission over Time\"}, \"xaxis\": {\"gridcolor\": \"#E1E5ED\", \"showgrid\": true, \"tickfont\": {\"color\": \"#4D5663\"}, \"title\": {\"font\": {\"color\": \"#4D5663\"}, \"text\": \"Time (years)\"}, \"zerolinecolor\": \"#E1E5ED\"}, \"yaxis\": {\"gridcolor\": \"#E1E5ED\", \"showgrid\": true, \"tickfont\": {\"color\": \"#4D5663\"}, \"title\": {\"font\": {\"color\": \"#4D5663\"}, \"text\": \"Greenhouses gases in ppm\"}, \"zerolinecolor\": \"#E1E5ED\"}},\n",
       "                        {\"showLink\": true, \"linkText\": \"Export to plot.ly\", \"plotlyServerURL\": \"https://plot.ly\", \"responsive\": true}\n",
       "                    ).then(function(){\n",
       "                            \n",
       "var gd = document.getElementById('8e0dbfaf-b5b4-4ade-a046-0ad7ff722dc8');\n",
       "var x = new MutationObserver(function (mutations, observer) {{\n",
       "        var display = window.getComputedStyle(gd).display;\n",
       "        if (!display || display === 'none') {{\n",
       "            console.log([gd, 'removed!']);\n",
       "            Plotly.purge(gd);\n",
       "            observer.disconnect();\n",
       "        }}\n",
       "}});\n",
       "\n",
       "// Listen for the removal of the full notebook cells\n",
       "var notebookContainer = gd.closest('#notebook-container');\n",
       "if (notebookContainer) {{\n",
       "    x.observe(notebookContainer, {childList: true});\n",
       "}}\n",
       "\n",
       "// Listen for the clearing of the current output cell\n",
       "var outputEl = gd.closest('.output');\n",
       "if (outputEl) {{\n",
       "    x.observe(outputEl, {childList: true});\n",
       "}}\n",
       "\n",
       "                        })\n",
       "                };\n",
       "                });\n",
       "            </script>\n",
       "        </div>"
      ]
     },
     "metadata": {},
     "output_type": "display_data"
    }
   ],
   "source": [
    "data.iplot(kind='line', xTitle='Time (years)',yTitle='Greenhouses gases in ppm', title='Greenhouses gases and Temp Anamoly Emission over Time')"
   ]
  },
  {
   "cell_type": "markdown",
   "metadata": {},
   "source": [
    "### 4.2.A Ploting Individually \n",
    "<ul>\n",
    "    <li>To observe trend, ploting features individually</li>\n",
    "</ul>"
   ]
  },
  {
   "cell_type": "code",
   "execution_count": 9,
   "metadata": {
    "scrolled": false
   },
   "outputs": [
    {
     "data": {
      "image/png": "[encoded data removed]",
      "text/plain": [
       "<Figure size 1440x720 with 5 Axes>"
      ]
     },
     "metadata": {
      "needs_background": "light"
     },
     "output_type": "display_data"
    }
   ],
   "source": [
    "import matplotlib.pyplot as plt\n",
    "fig = plt.figure(figsize=(20,10))\n",
    "\n",
    "plt.subplot(2, 3, 1)\n",
    "plt.plot(data['NO2 Mean'])\n",
    "plt.xlabel(\"YEARS\")\n",
    "plt.ylabel('NO2 Mean')\n",
    "\n",
    "plt.subplot(2, 3, 2)\n",
    "plt.plot(data['O3 Mean'])\n",
    "plt.xlabel(\"YEARS\")\n",
    "plt.ylabel('O3 Mean')\n",
    "\n",
    "plt.subplot(2, 3, 3)\n",
    "plt.plot(data['SO2 Mean'])\n",
    "plt.xlabel(\"YEARS\")\n",
    "plt.ylabel('SO2 Mean')\n",
    "\n",
    "plt.subplot(2, 3, 4)\n",
    "plt.plot(data['CO Mean'])\n",
    "plt.xlabel(\"YEARS\")\n",
    "plt.ylabel('CO Mean')\n",
    "\n",
    "plt.subplot(2, 3, 5)\n",
    "plt.plot(data['AverageTemperatureAnomaly'])\n",
    "plt.xlabel(\"YEARS\")\n",
    "plt.ylabel('AverageTemperatureAnomaly')\n",
    "\n",
    "\n",
    "plt.show()"
   ]
  },
  {
   "cell_type": "markdown",
   "metadata": {},
   "source": [
    "### ***Observations***: According to datset we can see :-\n",
    "***1. NO2 is showing Decreasing Trend***\n",
    "\n",
    "***2. O3 is showing Increasing Trend***\n",
    "***3. SO2 is showing Decreasing Trend ***\n",
    "\n",
    "***4. CO is showing Decreasing trend***\n",
    "\n",
    "***5. AverageTemperatureAnomaly is showing lot of fluctuations***"
   ]
  },
  {
   "cell_type": "markdown",
   "metadata": {},
   "source": [
    "### 4.3.A Correlation"
   ]
  },
  {
   "cell_type": "code",
   "execution_count": 10,
   "metadata": {},
   "outputs": [
    {
     "data": {
      "image/png": "[encoded data removed]",
      "text/plain": [
       "<Figure size 720x432 with 2 Axes>"
      ]
     },
     "metadata": {
      "needs_background": "light"
     },
     "output_type": "display_data"
    }
   ],
   "source": [
    "corr=data.corr()\n",
    "sns.heatmap(corr,xticklabels=corr.columns.values,yticklabels=corr.columns.values,cmap='YlGnBu',annot=True,annot_kws={'size':12})\n",
    "heat_map=plt.gcf()\n",
    "heat_map.set_size_inches(10,6)\n",
    "plt.xticks(fontsize=10)\n",
    "plt.yticks(fontsize=10)\n",
    "plt.show()\n",
    "#corr"
   ]
  },
  {
   "cell_type": "markdown",
   "metadata": {},
   "source": [
    "***It is neccesary to remove trend before calculating correlation. We remove seasonality from data by taking first order differencing***\n",
    "### 4.3.B Correlation after first order differencing"
   ]
  },
  {
   "cell_type": "code",
   "execution_count": 11,
   "metadata": {},
   "outputs": [
    {
     "data": {
      "image/png": "[encoded data removed]",
      "text/plain": [
       "<Figure size 720x432 with 2 Axes>"
      ]
     },
     "metadata": {
      "needs_background": "light"
     },
     "output_type": "display_data"
    }
   ],
   "source": [
    "corr1=data.diff().dropna().corr()\n",
    "sns.heatmap(corr1,xticklabels=corr1.columns.values,yticklabels=corr1.columns.values,annot=True,annot_kws={'size':12},cmap='YlGnBu')\n",
    "heat_map=plt.gcf()\n",
    "heat_map.set_size_inches(10,6)\n",
    "plt.xticks(fontsize=10)\n",
    "plt.yticks(fontsize=10)\n",
    "plt.show()"
   ]
  },
  {
   "cell_type": "markdown",
   "metadata": {},
   "source": [
    "### *Observations:*  \n",
    "\n",
    "**AverageTemperatureAnomaly is postively correlated to all the greenhouse gases to some extent.\n",
    "This is what we want to convey through this project that temperature change is related to greenhouse gases. As correlation does not mean causation we need some strong proof to prove our point. (Done in further analysis)**"
   ]
  },
  {
   "cell_type": "markdown",
   "metadata": {},
   "source": [
    "  **-------------------------------------------------------------------------------------------------------------------------------------------------------------------------**"
   ]
  },
  {
   "cell_type": "markdown",
   "metadata": {},
   "source": [
    "# 5. Model Methodology \n",
    "\n",
    "***We will be using Vector Auto Regressive Model for Time Series Forecasting***"
   ]
  },
  {
   "cell_type": "markdown",
   "metadata": {},
   "source": [
    "### 5.1 Train Test Split\n",
    "<ul>\n",
    "    <li>We will be spliting dataset in training and testing set</li>\n",
    "</ul>"
   ]
  },
  {
   "cell_type": "code",
   "execution_count": 12,
   "metadata": {},
   "outputs": [
    {
     "name": "stdout",
     "output_type": "stream",
     "text": [
      "(134, 5)\n",
      "(30, 5)\n"
     ]
    }
   ],
   "source": [
    "number_test=30\n",
    "X_train,X_test=data[0:-number_test],data[-number_test:]\n",
    "print(X_train.shape)\n",
    "print(X_test.shape)"
   ]
  },
  {
   "cell_type": "markdown",
   "metadata": {},
   "source": [
    "### 5.2 Transformation \n",
    "**Making the timeseries stationary is important in order to proceed**\n"
   ]
  },
  {
   "cell_type": "code",
   "execution_count": 13,
   "metadata": {},
   "outputs": [
    {
     "data": {
      "text/html": [
       "<div>\n",
       "<style scoped>\n",
       "    .dataframe tbody tr th:only-of-type {\n",
       "        vertical-align: middle;\n",
       "    }\n",
       "\n",
       "    .dataframe tbody tr th {\n",
       "        vertical-align: top;\n",
       "    }\n",
       "\n",
       "    .dataframe thead th {\n",
       "        text-align: right;\n",
       "    }\n",
       "</style>\n",
       "<table border=\"1\" class=\"dataframe\">\n",
       "  <thead>\n",
       "    <tr style=\"text-align: right;\">\n",
       "      <th></th>\n",
       "      <th>NO2 Mean</th>\n",
       "      <th>O3 Mean</th>\n",
       "      <th>SO2 Mean</th>\n",
       "      <th>CO Mean</th>\n",
       "      <th>AverageTemperatureAnomaly</th>\n",
       "    </tr>\n",
       "  </thead>\n",
       "  <tbody>\n",
       "    <tr>\n",
       "      <th>2000-02-01</th>\n",
       "      <td>-0.179398</td>\n",
       "      <td>-0.005791</td>\n",
       "      <td>-0.180838</td>\n",
       "      <td>0.049788</td>\n",
       "      <td>0.123543</td>\n",
       "    </tr>\n",
       "    <tr>\n",
       "      <th>2000-03-01</th>\n",
       "      <td>0.303541</td>\n",
       "      <td>0.123228</td>\n",
       "      <td>-0.204459</td>\n",
       "      <td>0.043208</td>\n",
       "      <td>-0.286713</td>\n",
       "    </tr>\n",
       "    <tr>\n",
       "      <th>2000-04-01</th>\n",
       "      <td>-0.144886</td>\n",
       "      <td>0.043923</td>\n",
       "      <td>-0.112313</td>\n",
       "      <td>-0.070796</td>\n",
       "      <td>0.048951</td>\n",
       "    </tr>\n",
       "    <tr>\n",
       "      <th>2000-05-01</th>\n",
       "      <td>0.035917</td>\n",
       "      <td>0.280911</td>\n",
       "      <td>0.104487</td>\n",
       "      <td>-0.101810</td>\n",
       "      <td>0.060606</td>\n",
       "    </tr>\n",
       "    <tr>\n",
       "      <th>2000-06-01</th>\n",
       "      <td>-0.020360</td>\n",
       "      <td>-0.000910</td>\n",
       "      <td>0.011099</td>\n",
       "      <td>0.046767</td>\n",
       "      <td>0.279720</td>\n",
       "    </tr>\n",
       "  </tbody>\n",
       "</table>\n",
       "</div>"
      ],
      "text/plain": [
       "            NO2 Mean   O3 Mean  SO2 Mean   CO Mean  AverageTemperatureAnomaly\n",
       "2000-02-01 -0.179398 -0.005791 -0.180838  0.049788                   0.123543\n",
       "2000-03-01  0.303541  0.123228 -0.204459  0.043208                  -0.286713\n",
       "2000-04-01 -0.144886  0.043923 -0.112313 -0.070796                   0.048951\n",
       "2000-05-01  0.035917  0.280911  0.104487 -0.101810                   0.060606\n",
       "2000-06-01 -0.020360 -0.000910  0.011099  0.046767                   0.279720"
      ]
     },
     "execution_count": 13,
     "metadata": {},
     "output_type": "execute_result"
    }
   ],
   "source": [
    "transform_data=X_train.diff().dropna()\n",
    "transform_data.head()"
   ]
  },
  {
   "cell_type": "markdown",
   "metadata": {},
   "source": [
    "### 5.3 Stationary Check\n",
    "<ul>\n",
    "<li>Using adfuller_test to check for stationarity as VAR works on stationary series</li>\n",
    "</ul>"
   ]
  },
  {
   "cell_type": "code",
   "execution_count": 14,
   "metadata": {},
   "outputs": [
    {
     "name": "stdout",
     "output_type": "stream",
     "text": [
      "Augemented Dickey Fuller Test on \"NO2 Mean\" \n",
      "  -----------------------------------------------\n",
      "Null Hypothesis: Data has unit root. Non Stationary\n",
      "Significance Level   =0.05\n",
      "test stats   =-3.0861\n",
      "No. lags chosen   =13\n",
      "Critical Value 1%    =-3.487\n",
      "Critical Value 5%    =-2.886\n",
      "Critical Value 10%   =-2.58\n",
      " => P-value=0.0276. Rejecting Null Hypothesis\n",
      " => Series is Stationary\n",
      "\n",
      "\n",
      "Augemented Dickey Fuller Test on \"O3 Mean\" \n",
      "  -----------------------------------------------\n",
      "Null Hypothesis: Data has unit root. Non Stationary\n",
      "Significance Level   =0.05\n",
      "test stats   =-9.8827\n",
      "No. lags chosen   =9\n",
      "Critical Value 1%    =-3.485\n",
      "Critical Value 5%    =-2.885\n",
      "Critical Value 10%   =-2.579\n",
      " => P-value=0.0. Rejecting Null Hypothesis\n",
      " => Series is Stationary\n",
      "\n",
      "\n",
      "Augemented Dickey Fuller Test on \"SO2 Mean\" \n",
      "  -----------------------------------------------\n",
      "Null Hypothesis: Data has unit root. Non Stationary\n",
      "Significance Level   =0.05\n",
      "test stats   =-7.508\n",
      "No. lags chosen   =5\n",
      "Critical Value 1%    =-3.483\n",
      "Critical Value 5%    =-2.885\n",
      "Critical Value 10%   =-2.579\n",
      " => P-value=0.0. Rejecting Null Hypothesis\n",
      " => Series is Stationary\n",
      "\n",
      "\n",
      "Augemented Dickey Fuller Test on \"CO Mean\" \n",
      "  -----------------------------------------------\n",
      "Null Hypothesis: Data has unit root. Non Stationary\n",
      "Significance Level   =0.05\n",
      "test stats   =-8.6935\n",
      "No. lags chosen   =3\n",
      "Critical Value 1%    =-3.482\n",
      "Critical Value 5%    =-2.884\n",
      "Critical Value 10%   =-2.579\n",
      " => P-value=0.0. Rejecting Null Hypothesis\n",
      " => Series is Stationary\n",
      "\n",
      "\n",
      "Augemented Dickey Fuller Test on \"AverageTemperatureAnomaly\" \n",
      "  -----------------------------------------------\n",
      "Null Hypothesis: Data has unit root. Non Stationary\n",
      "Significance Level   =0.05\n",
      "test stats   =-6.2888\n",
      "No. lags chosen   =10\n",
      "Critical Value 1%    =-3.485\n",
      "Critical Value 5%    =-2.886\n",
      "Critical Value 10%   =-2.58\n",
      " => P-value=0.0. Rejecting Null Hypothesis\n",
      " => Series is Stationary\n",
      "\n",
      "\n"
     ]
    }
   ],
   "source": [
    "from statsmodels.tsa.stattools import adfuller\n",
    "def adfuller_test(series,signif=0.05,name='',verbose=False):\n",
    "    r=adfuller(series,autolag='AIC')\n",
    "    output={'test_statistic':round(r[0],4),'pvalue':round(r[1],4),'n_lags':round(r[2],4),'o_obs':r[3]}\n",
    "    p_value=output['pvalue']\n",
    "    def adjust(val,length=6):return str(val).ljust(length)\n",
    "    \n",
    "    print(f'Augemented Dickey Fuller Test on \"{name}\"',\"\\n \",'-'*47)\n",
    "    print(f'Null Hypothesis: Data has unit root. Non Stationary')\n",
    "    print(f'Significance Level   ={signif}')\n",
    "    print(f'test stats   ={output[\"test_statistic\"]}')\n",
    "    print(f'No. lags chosen   ={output[\"n_lags\"]}')\n",
    "    \n",
    "    for key,val in r[4].items():\n",
    "          print(f'Critical Value {adjust(key)}={round(val,3)}')\n",
    "    if p_value<=signif:\n",
    "          print(f\" => P-value={p_value}. Rejecting Null Hypothesis\")\n",
    "          print(f\" => Series is Stationary\")\n",
    "          \n",
    "    else:\n",
    "      print(f\" => P-value={p_value}. Weak, to reject Null Hypothesis\")\n",
    "      print(f\" => Series is Non-Stationary\")\n",
    "\n",
    "for name, column in transform_data.iteritems():\n",
    "          adfuller_test(column,name=column.name)\n",
    "          print(\"\\n\")\n"
   ]
  },
  {
   "cell_type": "markdown",
   "metadata": {},
   "source": [
    "***We see that each series in stationary after first order differencing*** \n",
    "(proceeding further)"
   ]
  },
  {
   "cell_type": "code",
   "execution_count": 15,
   "metadata": {},
   "outputs": [
    {
     "data": {
      "image/png": "[encoded data removed]",
      "text/plain": [
       "<Figure size 1200x720 with 5 Axes>"
      ]
     },
     "metadata": {
      "needs_background": "light"
     },
     "output_type": "display_data"
    }
   ],
   "source": [
    "fig,axes=plt.subplots(nrows=5,ncols=1,dpi=120,figsize=(10,6))\n",
    "for i,ax in enumerate(axes.flatten()):\n",
    "    data=transform_data[transform_data.columns[i]]\n",
    "    ax.plot(data,color='red',linewidth=1)\n",
    "    ax.set_title(transform_data.columns[i])\n",
    "plt.tight_layout();\n",
    "    "
   ]
  },
  {
   "cell_type": "markdown",
   "metadata": {},
   "source": [
    "**We have reached at stage where we want to prove that temperature change is caused by Greenhouse gases. As we know correlation is not enough to prove so. We will apply Granger's Causality Test**"
   ]
  },
  {
   "cell_type": "markdown",
   "metadata": {},
   "source": [
    "# 5.4 Granger’s Causality Test"
   ]
  },
  {
   "cell_type": "code",
   "execution_count": 16,
   "metadata": {
    "scrolled": false
   },
   "outputs": [
    {
     "data": {
      "text/html": [
       "<div>\n",
       "<style scoped>\n",
       "    .dataframe tbody tr th:only-of-type {\n",
       "        vertical-align: middle;\n",
       "    }\n",
       "\n",
       "    .dataframe tbody tr th {\n",
       "        vertical-align: top;\n",
       "    }\n",
       "\n",
       "    .dataframe thead th {\n",
       "        text-align: right;\n",
       "    }\n",
       "</style>\n",
       "<table border=\"1\" class=\"dataframe\">\n",
       "  <thead>\n",
       "    <tr style=\"text-align: right;\">\n",
       "      <th></th>\n",
       "      <th>NO2 Mean_x</th>\n",
       "      <th>O3 Mean_x</th>\n",
       "      <th>SO2 Mean_x</th>\n",
       "      <th>CO Mean_x</th>\n",
       "      <th>AverageTemperatureAnomaly_x</th>\n",
       "    </tr>\n",
       "  </thead>\n",
       "  <tbody>\n",
       "    <tr>\n",
       "      <th>NO2 Mean_y</th>\n",
       "      <td>1.0000</td>\n",
       "      <td>0.0000</td>\n",
       "      <td>0.0904</td>\n",
       "      <td>0.0714</td>\n",
       "      <td>0.0987</td>\n",
       "    </tr>\n",
       "    <tr>\n",
       "      <th>O3 Mean_y</th>\n",
       "      <td>0.0000</td>\n",
       "      <td>1.0000</td>\n",
       "      <td>0.0091</td>\n",
       "      <td>0.4324</td>\n",
       "      <td>0.3200</td>\n",
       "    </tr>\n",
       "    <tr>\n",
       "      <th>SO2 Mean_y</th>\n",
       "      <td>0.0034</td>\n",
       "      <td>0.0079</td>\n",
       "      <td>1.0000</td>\n",
       "      <td>0.0005</td>\n",
       "      <td>0.0090</td>\n",
       "    </tr>\n",
       "    <tr>\n",
       "      <th>CO Mean_y</th>\n",
       "      <td>0.6391</td>\n",
       "      <td>0.0337</td>\n",
       "      <td>0.2297</td>\n",
       "      <td>1.0000</td>\n",
       "      <td>0.3397</td>\n",
       "    </tr>\n",
       "    <tr>\n",
       "      <th>AverageTemperatureAnomaly_y</th>\n",
       "      <td>0.4422</td>\n",
       "      <td>0.3920</td>\n",
       "      <td>0.5202</td>\n",
       "      <td>0.2824</td>\n",
       "      <td>1.0000</td>\n",
       "    </tr>\n",
       "  </tbody>\n",
       "</table>\n",
       "</div>"
      ],
      "text/plain": [
       "                             NO2 Mean_x  O3 Mean_x  SO2 Mean_x  CO Mean_x  \\\n",
       "NO2 Mean_y                       1.0000     0.0000      0.0904     0.0714   \n",
       "O3 Mean_y                        0.0000     1.0000      0.0091     0.4324   \n",
       "SO2 Mean_y                       0.0034     0.0079      1.0000     0.0005   \n",
       "CO Mean_y                        0.6391     0.0337      0.2297     1.0000   \n",
       "AverageTemperatureAnomaly_y      0.4422     0.3920      0.5202     0.2824   \n",
       "\n",
       "                             AverageTemperatureAnomaly_x  \n",
       "NO2 Mean_y                                        0.0987  \n",
       "O3 Mean_y                                         0.3200  \n",
       "SO2 Mean_y                                        0.0090  \n",
       "CO Mean_y                                         0.3397  \n",
       "AverageTemperatureAnomaly_y                       1.0000  "
      ]
     },
     "execution_count": 16,
     "metadata": {},
     "output_type": "execute_result"
    }
   ],
   "source": [
    "from statsmodels.tsa.stattools import grangercausalitytests\n",
    "maxlag=5\n",
    "test=\"ssr_chi2test\"\n",
    "def grangers_causation_matrix(data,variables,test='ssr_chi2test',verbose=False):\n",
    "    xtrain=pd.DataFrame(np.zeros((len(variables),len(variables))),columns=variables,index=variables)\n",
    "    for c in xtrain.columns:\n",
    "        for r in xtrain.index:\n",
    "            test_result=grangercausalitytests(data[[r,c]],maxlag=maxlag,verbose=False)\n",
    "            p_values=[round(test_result[i+1][0][test][1],4) for i in range(maxlag)]\n",
    "            if verbose:print(f'Y={r},X={c},P Values={p_values}')\n",
    "            min_p_value=np.min(p_values)\n",
    "            xtrain.loc[r,c]=min_p_value\n",
    "    xtrain.columns=[var+'_x' for var in variables]\n",
    "    xtrain.index=[var+'_y' for var in variables]\n",
    "    return xtrain\n",
    "grangers_causation_matrix(data2,variables=data2.columns)  "
   ]
  },
  {
   "cell_type": "markdown",
   "metadata": {},
   "source": [
    "### Based on the dataset we have the result of this test shows that NO2_mean_x, O3 Mean_x, SO2 Mean_x, CO Mean_x causes AverageTemperatureAnomaly_y\t"
   ]
  },
  {
   "cell_type": "markdown",
   "metadata": {},
   "source": [
    "# 5.5 Vector Auto Regressive Model\n",
    "\n",
    "\n",
    "1. Vector Autoregression (VAR) is a forecasting algorithm that can be used when two or more time series influence each other. That is, the relationship between the time series involved is bi-directional.\n",
    "2. A Vector autoregressive (VAR) model is useful when one is interested in predicting multiple time series variables using a single model. At its core, the VAR model is an extension of the univariate autoregressive model we have dealt with in class\n",
    "3. Main requirement of VAR model is that it requires stationarity of series, which we confirmed from augmennted Dickey-Fuller Test\n",
    "4. We are using VAC as VAR model is a popular tool for the purpose of predicting joint dynamics of multiple time series based on linear functions of past observations. ***It will help us predict Temperature Anamoly based of previous values of Greenhouse gases***"
   ]
  },
  {
   "cell_type": "code",
   "execution_count": 17,
   "metadata": {},
   "outputs": [],
   "source": [
    "import statsmodels.tsa.api as smt\n",
    "from statsmodels.tsa.api import VAR\n",
    "mod = smt.VAR(transform_data)\n",
    "# giving maxlags parameter select best lag order within 15\n",
    "res = mod.fit(maxlags=15, ic=\"aic\")"
   ]
  },
  {
   "cell_type": "code",
   "execution_count": 18,
   "metadata": {},
   "outputs": [
    {
     "data": {
      "text/html": [
       "<div>\n",
       "<style scoped>\n",
       "    .dataframe tbody tr th:only-of-type {\n",
       "        vertical-align: middle;\n",
       "    }\n",
       "\n",
       "    .dataframe tbody tr th {\n",
       "        vertical-align: top;\n",
       "    }\n",
       "\n",
       "    .dataframe thead th {\n",
       "        text-align: right;\n",
       "    }\n",
       "</style>\n",
       "<table border=\"1\" class=\"dataframe\">\n",
       "  <thead>\n",
       "    <tr style=\"text-align: right;\">\n",
       "      <th></th>\n",
       "      <th>NO2 Mean</th>\n",
       "      <th>O3 Mean</th>\n",
       "      <th>SO2 Mean</th>\n",
       "      <th>CO Mean</th>\n",
       "      <th>AverageTemperatureAnomaly</th>\n",
       "    </tr>\n",
       "  </thead>\n",
       "  <tbody>\n",
       "    <tr>\n",
       "      <th>2011-03-01</th>\n",
       "      <td>0.034332</td>\n",
       "      <td>0.007267</td>\n",
       "      <td>-0.128470</td>\n",
       "      <td>-0.086009</td>\n",
       "      <td>-0.178279</td>\n",
       "    </tr>\n",
       "    <tr>\n",
       "      <th>2011-04-01</th>\n",
       "      <td>-0.048651</td>\n",
       "      <td>0.084547</td>\n",
       "      <td>-0.064904</td>\n",
       "      <td>-0.027165</td>\n",
       "      <td>0.018016</td>\n",
       "    </tr>\n",
       "  </tbody>\n",
       "</table>\n",
       "</div>"
      ],
      "text/plain": [
       "            NO2 Mean   O3 Mean  SO2 Mean   CO Mean  AverageTemperatureAnomaly\n",
       "2011-03-01  0.034332  0.007267 -0.128470 -0.086009                  -0.178279\n",
       "2011-04-01 -0.048651  0.084547 -0.064904 -0.027165                   0.018016"
      ]
     },
     "execution_count": 18,
     "metadata": {},
     "output_type": "execute_result"
    }
   ],
   "source": [
    "lag_order=res.k_ar #gives best lag order\n",
    "pred=res.forecast(transform_data.values[-lag_order:],number_test) #forecast to compare to testing set\n",
    "pred_df=pd.DataFrame(pred,index=data2.index[-number_test:],columns=data2.columns)\n",
    "pred_df.head(2)"
   ]
  },
  {
   "cell_type": "markdown",
   "metadata": {},
   "source": [
    "### 5.5.1 De differencing data (invert Transform)\n"
   ]
  },
  {
   "cell_type": "code",
   "execution_count": 19,
   "metadata": {},
   "outputs": [
    {
     "data": {
      "text/html": [
       "<div>\n",
       "<style scoped>\n",
       "    .dataframe tbody tr th:only-of-type {\n",
       "        vertical-align: middle;\n",
       "    }\n",
       "\n",
       "    .dataframe tbody tr th {\n",
       "        vertical-align: top;\n",
       "    }\n",
       "\n",
       "    .dataframe thead th {\n",
       "        text-align: right;\n",
       "    }\n",
       "</style>\n",
       "<table border=\"1\" class=\"dataframe\">\n",
       "  <thead>\n",
       "    <tr style=\"text-align: right;\">\n",
       "      <th></th>\n",
       "      <th>NO2 Mean</th>\n",
       "      <th>O3 Mean</th>\n",
       "      <th>SO2 Mean</th>\n",
       "      <th>CO Mean</th>\n",
       "      <th>AverageTemperatureAnomaly</th>\n",
       "    </tr>\n",
       "  </thead>\n",
       "  <tbody>\n",
       "    <tr>\n",
       "      <th>2011-03-01</th>\n",
       "      <td>0.435978</td>\n",
       "      <td>0.673871</td>\n",
       "      <td>0.172146</td>\n",
       "      <td>0.131648</td>\n",
       "      <td>0.080462</td>\n",
       "    </tr>\n",
       "    <tr>\n",
       "      <th>2011-04-01</th>\n",
       "      <td>0.252584</td>\n",
       "      <td>0.781899</td>\n",
       "      <td>0.072505</td>\n",
       "      <td>0.131490</td>\n",
       "      <td>0.208035</td>\n",
       "    </tr>\n",
       "  </tbody>\n",
       "</table>\n",
       "</div>"
      ],
      "text/plain": [
       "            NO2 Mean   O3 Mean  SO2 Mean   CO Mean  AverageTemperatureAnomaly\n",
       "2011-03-01  0.435978  0.673871  0.172146  0.131648                   0.080462\n",
       "2011-04-01  0.252584  0.781899  0.072505  0.131490                   0.208035"
      ]
     },
     "execution_count": 19,
     "metadata": {},
     "output_type": "execute_result"
    }
   ],
   "source": [
    "pred_inverse=pred_df.cumsum() #we are reverse differencing\n",
    "f=pred_inverse+X_test # inverse the difference values\n",
    "f.head(2)"
   ]
  },
  {
   "cell_type": "markdown",
   "metadata": {},
   "source": [
    "# 5.6 Prediction on test set"
   ]
  },
  {
   "cell_type": "code",
   "execution_count": 20,
   "metadata": {
    "scrolled": false
   },
   "outputs": [
    {
     "data": {
      "image/png": "[encoded data removed]",
      "text/plain": [
       "<Figure size 864x360 with 1 Axes>"
      ]
     },
     "metadata": {
      "needs_background": "light"
     },
     "output_type": "display_data"
    }
   ],
   "source": [
    "plt.figure(figsize=(12,5))\n",
    "plt.xlabel('Month')\n",
    "ax1=X_test.AverageTemperatureAnomaly.plot(color='blue',grid=True,label='Actual Temp Anamoly')\n",
    "ax2=f.AverageTemperatureAnomaly.plot(color='red',grid=True,label='Predicted Temp Anamoly',alpha=0.5)\n",
    "ax1.legend(loc=1)\n",
    "ax2.legend(loc=2)\n",
    "plt.title(\"Predicted Vs Actual\")\n",
    "plt.show()"
   ]
  },
  {
   "cell_type": "markdown",
   "metadata": {},
   "source": [
    "### Observation:\n",
    "#### ***We observe that model built from greenhouse gases and Temperature anamoly predicts testing data for Temperature Anamoly effectively.***"
   ]
  },
  {
   "cell_type": "markdown",
   "metadata": {},
   "source": [
    "# 5.7 Model Evaluation\n",
    "<ul>\n",
    "    <li>Calculating Bias</li>\n",
    "    <li>Calculating Mean Absolute Error</li>\n",
    "    <li>Calculating Mean Squared Error</li>\n",
    "    <li>Calculating Root Mean Squared Error</li>\n",
    "    \n",
    "</ul>"
   ]
  },
  {
   "cell_type": "code",
   "execution_count": 21,
   "metadata": {
    "scrolled": false
   },
   "outputs": [
    {
     "name": "stdout",
     "output_type": "stream",
     "text": [
      "Evaluation for AverageTemperatureAnomaly\n",
      "Bias: 0.051916\n",
      "MAE: 0.074803\n",
      "MSE: 0.008547\n",
      "RMSE: 0.092450\n"
     ]
    }
   ],
   "source": [
    "from sklearn.metrics import mean_absolute_error\n",
    "from sklearn.metrics import mean_squared_error\n",
    "from math import sqrt\n",
    "m=['AverageTemperatureAnomaly']\n",
    "for quant in m:\n",
    "    forecast_errors=[X_test[quant][i]-f[quant][i] for i in range(len(X_test[quant]))]\n",
    "    print('Evaluation for',quant)\n",
    "    bias=sum(forecast_errors)*1.0/len(X_test[quant])\n",
    "    print('Bias: %f' %bias)\n",
    "\n",
    "    mae=mean_absolute_error(X_test[quant],f[quant])\n",
    "    print('MAE: %f'%mae)\n",
    "\n",
    "    mse=mean_squared_error(X_test[quant],f[quant])\n",
    "    print('MSE: %f'%mse)\n",
    "\n",
    "    rmse=sqrt(mse)\n",
    "    print('RMSE: %f' %rmse)\n",
    "\n"
   ]
  },
  {
   "cell_type": "markdown",
   "metadata": {},
   "source": [
    "  **-------------------------------------------------------------------------------------------------------------------------------------------------------------------------**"
   ]
  },
  {
   "cell_type": "markdown",
   "metadata": {},
   "source": [
    "# 6. Forecasting"
   ]
  },
  {
   "cell_type": "markdown",
   "metadata": {},
   "source": [
    "## 6.1 Forecasting next 20 Months with VAR Model"
   ]
  },
  {
   "cell_type": "code",
   "execution_count": 22,
   "metadata": {},
   "outputs": [
    {
     "data": {
      "text/plain": [
       "<statsmodels.tsa.vector_ar.var_model.VARResultsWrapper at 0x128612ed0>"
      ]
     },
     "execution_count": 22,
     "metadata": {},
     "output_type": "execute_result"
    }
   ],
   "source": [
    "res"
   ]
  },
  {
   "cell_type": "code",
   "execution_count": 23,
   "metadata": {
    "scrolled": false
   },
   "outputs": [
    {
     "data": {
      "text/plain": [
       "<Figure size 432x288 with 0 Axes>"
      ]
     },
     "metadata": {},
     "output_type": "display_data"
    },
    {
     "data": {
      "image/png": "[encoded data removed]",
      "text/plain": [
       "<Figure size 720x720 with 5 Axes>"
      ]
     },
     "metadata": {
      "needs_background": "light"
     },
     "output_type": "display_data"
    }
   ],
   "source": [
    "plt.figure()\n",
    "res.plot_forecast(20)\n",
    "# plt.legend(loc='upper left')\n",
    "plt.show()"
   ]
  },
  {
   "cell_type": "markdown",
   "metadata": {},
   "source": [
    "## 6.2 Forecasting Individually on Temperature Change for next (20 Years)"
   ]
  },
  {
   "cell_type": "code",
   "execution_count": 24,
   "metadata": {
    "scrolled": false
   },
   "outputs": [
    {
     "name": "stderr",
     "output_type": "stream",
     "text": [
      "INFO:fbprophet:Disabling weekly seasonality. Run prophet with weekly_seasonality=True to override this.\n",
      "INFO:fbprophet:Disabling daily seasonality. Run prophet with daily_seasonality=True to override this.\n"
     ]
    },
    {
     "data": {
      "image/png": "[encoded data removed]",
      "text/plain": [
       "<Figure size 720x432 with 1 Axes>"
      ]
     },
     "metadata": {},
     "output_type": "display_data"
    }
   ],
   "source": [
    "from fbprophet import Prophet\n",
    "\n",
    "# Create a new DataFrame with which we will create/train our Prophet model \n",
    "t_prophet = pd.DataFrame()\n",
    "t_prophet['ds'] = df_t.index\n",
    "t_prophet['y'] = df_t['AverageTemperatureAnomaly'].values\n",
    "\n",
    "# Instantiate model and fit to data (just like with sklearn model API)\n",
    "m = Prophet()\n",
    "m.fit(t_prophet)\n",
    "\n",
    "# Generate future dataframe containing predictions (we are doing this for 100 years into the future)\n",
    "future = m.make_future_dataframe(freq='m', periods=20*12)\n",
    "forecast = m.predict(future)\n",
    "\n",
    "# Plot the resulting forecast\n",
    "m.plot(forecast)\n",
    "plt.show()"
   ]
  },
  {
   "cell_type": "markdown",
   "metadata": {},
   "source": [
    "  **-------------------------------------------------------------------------------------------------------------------------------------------------------------------------**"
   ]
  },
  {
   "cell_type": "markdown",
   "metadata": {},
   "source": [
    "# 7. Result Section\n"
   ]
  },
  {
   "cell_type": "markdown",
   "metadata": {},
   "source": [
    "***We have successfully shown the correlation between temperature change and greenhouse gases. To further bolster our point we used the Granger Causality test to show that previous data of greenhouses gases helps predict temperature change.***\n",
    "\n",
    "***We Evaluated our Multivariate Vector Autoregression model by calculating Bias, Mean Squared Error, Mean Absolute Error, Root Mean Square Error. Good Results obtained***"
   ]
  },
  {
   "cell_type": "markdown",
   "metadata": {},
   "source": [
    "  **-------------------------------------------------------------------------------------------------------------------------------------------------------------------------**"
   ]
  },
  {
   "cell_type": "markdown",
   "metadata": {},
   "source": [
    "# 8. Conclusion Section"
   ]
  },
  {
   "cell_type": "markdown",
   "metadata": {},
   "source": [
    " ***Everyone has a moral obligation towards the planet we live on. We as Computer Science students we contribute towards building a better future by proving and creating awareness by our project. We conclude by saying that the temperature change is real. We explain our code to make it easier for everyone to understand and think about our Earth.***"
   ]
  },
  {
   "cell_type": "code",
   "execution_count": null,
   "metadata": {},
   "outputs": [],
   "source": []
  },
  {
   "cell_type": "code",
   "execution_count": null,
   "metadata": {},
   "outputs": [],
   "source": []
  }
 ],
 "metadata": {
  "kernelspec": {
   "display_name": "Python 3",
   "language": "python",
   "name": "python3"
  },
  "language_info": {
   "codemirror_mode": {
    "name": "ipython",
    "version": 3
   },
   "file_extension": ".py",
   "mimetype": "text/x-python",
   "name": "python",
   "nbconvert_exporter": "python",
   "pygments_lexer": "ipython3",
   "version": "3.7.4"
  }
 },
 "nbformat": 4,
 "nbformat_minor": 2
}
